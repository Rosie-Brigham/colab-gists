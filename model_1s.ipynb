{
  "nbformat": 4,
  "nbformat_minor": 0,
  "metadata": {
    "colab": {
      "name": "model_one.ipynb",
      "provenance": [],
      "collapsed_sections": [],
      "include_colab_link": true
    },
    "kernelspec": {
      "name": "python3",
      "display_name": "Python 3"
    },
    "accelerator": "GPU"
  },
  "cells": [
    {
      "cell_type": "markdown",
      "metadata": {
        "id": "view-in-github",
        "colab_type": "text"
      },
      "source": [
        "<a href=\"https://colab.research.google.com/github/Rosie-Brigham/colab-gists/blob/main/model_1s.ipynb\" target=\"_parent\"><img src=\"https://colab.research.google.com/assets/colab-badge.svg\" alt=\"Open In Colab\"/></a>"
      ]
    },
    {
      "cell_type": "code",
      "metadata": {
        "id": "p66WxxUkbg47",
        "colab": {
          "base_uri": "https://localhost:8080/"
        },
        "outputId": "a47c6d7b-ae87-4748-a870-eb638e02ea9a"
      },
      "source": [
        "\n",
        "!pip3 install tensorflow==1.14 #TODO - UPGRADE TO TF2!!!!!\n"
      ],
      "execution_count": null,
      "outputs": [
        {
          "output_type": "stream",
          "text": [
            "Collecting tensorflow==1.14\n",
            "\u001b[?25l  Downloading https://files.pythonhosted.org/packages/de/f0/96fb2e0412ae9692dbf400e5b04432885f677ad6241c088ccc5fe7724d69/tensorflow-1.14.0-cp36-cp36m-manylinux1_x86_64.whl (109.2MB)\n",
            "\u001b[K     |████████████████████████████████| 109.2MB 38kB/s \n",
            "\u001b[?25hRequirement already satisfied: protobuf>=3.6.1 in /usr/local/lib/python3.6/dist-packages (from tensorflow==1.14) (3.12.4)\n",
            "Requirement already satisfied: six>=1.10.0 in /usr/local/lib/python3.6/dist-packages (from tensorflow==1.14) (1.15.0)\n",
            "Requirement already satisfied: termcolor>=1.1.0 in /usr/local/lib/python3.6/dist-packages (from tensorflow==1.14) (1.1.0)\n",
            "Requirement already satisfied: google-pasta>=0.1.6 in /usr/local/lib/python3.6/dist-packages (from tensorflow==1.14) (0.2.0)\n",
            "Requirement already satisfied: grpcio>=1.8.6 in /usr/local/lib/python3.6/dist-packages (from tensorflow==1.14) (1.32.0)\n",
            "Requirement already satisfied: absl-py>=0.7.0 in /usr/local/lib/python3.6/dist-packages (from tensorflow==1.14) (0.10.0)\n",
            "Requirement already satisfied: numpy<2.0,>=1.14.5 in /usr/local/lib/python3.6/dist-packages (from tensorflow==1.14) (1.19.5)\n",
            "Requirement already satisfied: wrapt>=1.11.1 in /usr/local/lib/python3.6/dist-packages (from tensorflow==1.14) (1.12.1)\n",
            "Requirement already satisfied: wheel>=0.26 in /usr/local/lib/python3.6/dist-packages (from tensorflow==1.14) (0.36.2)\n",
            "Requirement already satisfied: keras-preprocessing>=1.0.5 in /usr/local/lib/python3.6/dist-packages (from tensorflow==1.14) (1.1.2)\n",
            "Requirement already satisfied: astor>=0.6.0 in /usr/local/lib/python3.6/dist-packages (from tensorflow==1.14) (0.8.1)\n",
            "Requirement already satisfied: gast>=0.2.0 in /usr/local/lib/python3.6/dist-packages (from tensorflow==1.14) (0.3.3)\n",
            "Collecting keras-applications>=1.0.6\n",
            "\u001b[?25l  Downloading https://files.pythonhosted.org/packages/71/e3/19762fdfc62877ae9102edf6342d71b28fbfd9dea3d2f96a882ce099b03f/Keras_Applications-1.0.8-py3-none-any.whl (50kB)\n",
            "\u001b[K     |████████████████████████████████| 51kB 9.2MB/s \n",
            "\u001b[?25hCollecting tensorboard<1.15.0,>=1.14.0\n",
            "\u001b[?25l  Downloading https://files.pythonhosted.org/packages/91/2d/2ed263449a078cd9c8a9ba50ebd50123adf1f8cfbea1492f9084169b89d9/tensorboard-1.14.0-py3-none-any.whl (3.1MB)\n",
            "\u001b[K     |████████████████████████████████| 3.2MB 39.3MB/s \n",
            "\u001b[?25hCollecting tensorflow-estimator<1.15.0rc0,>=1.14.0rc0\n",
            "\u001b[?25l  Downloading https://files.pythonhosted.org/packages/3c/d5/21860a5b11caf0678fbc8319341b0ae21a07156911132e0e71bffed0510d/tensorflow_estimator-1.14.0-py2.py3-none-any.whl (488kB)\n",
            "\u001b[K     |████████████████████████████████| 491kB 47.0MB/s \n",
            "\u001b[?25hRequirement already satisfied: setuptools in /usr/local/lib/python3.6/dist-packages (from protobuf>=3.6.1->tensorflow==1.14) (51.3.3)\n",
            "Requirement already satisfied: h5py in /usr/local/lib/python3.6/dist-packages (from keras-applications>=1.0.6->tensorflow==1.14) (2.10.0)\n",
            "Requirement already satisfied: markdown>=2.6.8 in /usr/local/lib/python3.6/dist-packages (from tensorboard<1.15.0,>=1.14.0->tensorflow==1.14) (3.3.3)\n",
            "Requirement already satisfied: werkzeug>=0.11.15 in /usr/local/lib/python3.6/dist-packages (from tensorboard<1.15.0,>=1.14.0->tensorflow==1.14) (1.0.1)\n",
            "Requirement already satisfied: importlib-metadata; python_version < \"3.8\" in /usr/local/lib/python3.6/dist-packages (from markdown>=2.6.8->tensorboard<1.15.0,>=1.14.0->tensorflow==1.14) (3.3.0)\n",
            "Requirement already satisfied: typing-extensions>=3.6.4; python_version < \"3.8\" in /usr/local/lib/python3.6/dist-packages (from importlib-metadata; python_version < \"3.8\"->markdown>=2.6.8->tensorboard<1.15.0,>=1.14.0->tensorflow==1.14) (3.7.4.3)\n",
            "Requirement already satisfied: zipp>=0.5 in /usr/local/lib/python3.6/dist-packages (from importlib-metadata; python_version < \"3.8\"->markdown>=2.6.8->tensorboard<1.15.0,>=1.14.0->tensorflow==1.14) (3.4.0)\n",
            "Installing collected packages: keras-applications, tensorboard, tensorflow-estimator, tensorflow\n",
            "  Found existing installation: tensorboard 2.4.0\n",
            "    Uninstalling tensorboard-2.4.0:\n",
            "      Successfully uninstalled tensorboard-2.4.0\n",
            "  Found existing installation: tensorflow-estimator 2.4.0\n",
            "    Uninstalling tensorflow-estimator-2.4.0:\n",
            "      Successfully uninstalled tensorflow-estimator-2.4.0\n",
            "  Found existing installation: tensorflow 2.4.0\n",
            "    Uninstalling tensorflow-2.4.0:\n",
            "      Successfully uninstalled tensorflow-2.4.0\n",
            "Successfully installed keras-applications-1.0.8 tensorboard-1.14.0 tensorflow-1.14.0 tensorflow-estimator-1.14.0\n"
          ],
          "name": "stdout"
        }
      ]
    },
    {
      "cell_type": "markdown",
      "metadata": {
        "id": "Ou5JybR5SoTf"
      },
      "source": [
        "Adapted Deeplab model (edit as approriate to move into 'datasets' directory)"
      ]
    },
    {
      "cell_type": "markdown",
      "metadata": {
        "id": "RpYv5AgfsPwD"
      },
      "source": [
        "# Adapted/copied from Deeplab demo code "
      ]
    },
    {
      "cell_type": "code",
      "metadata": {
        "id": "Jl8Xy_c0a74-",
        "colab": {
          "base_uri": "https://localhost:8080/"
        },
        "outputId": "956e6ac5-9426-4e13-9f0c-d943829eeee9"
      },
      "source": [
        "!echo $PYTHONPATH"
      ],
      "execution_count": null,
      "outputs": [
        {
          "output_type": "stream",
          "text": [
            "/env/python\n"
          ],
          "name": "stdout"
        }
      ]
    },
    {
      "cell_type": "code",
      "metadata": {
        "id": "kAbdmRmvq0Je",
        "colab": {
          "base_uri": "https://localhost:8080/"
        },
        "outputId": "a076d834-cda0-44e4-c719-44ba4399f765"
      },
      "source": [
        "#@title Imports\n",
        "\n",
        "import os\n",
        "import io\n",
        "import tarfile\n",
        "import tempfile\n",
        "import urllib\n",
        "\n",
        "from matplotlib import gridspec\n",
        "from matplotlib import pyplot as plt\n",
        "import numpy as np\n",
        "from PIL import Image\n",
        "\n",
        "import tensorflow.compat.v1 as tf\n",
        "tf.disable_v2_behavior() # TODO - change everything here to tf2!!!"
      ],
      "execution_count": null,
      "outputs": [
        {
          "output_type": "stream",
          "text": [
            "/usr/local/lib/python3.6/dist-packages/tensorflow/python/framework/dtypes.py:516: FutureWarning: Passing (type, 1) or '1type' as a synonym of type is deprecated; in a future version of numpy, it will be understood as (type, (1,)) / '(1,)type'.\n",
            "  _np_qint8 = np.dtype([(\"qint8\", np.int8, 1)])\n",
            "/usr/local/lib/python3.6/dist-packages/tensorflow/python/framework/dtypes.py:517: FutureWarning: Passing (type, 1) or '1type' as a synonym of type is deprecated; in a future version of numpy, it will be understood as (type, (1,)) / '(1,)type'.\n",
            "  _np_quint8 = np.dtype([(\"quint8\", np.uint8, 1)])\n",
            "/usr/local/lib/python3.6/dist-packages/tensorflow/python/framework/dtypes.py:518: FutureWarning: Passing (type, 1) or '1type' as a synonym of type is deprecated; in a future version of numpy, it will be understood as (type, (1,)) / '(1,)type'.\n",
            "  _np_qint16 = np.dtype([(\"qint16\", np.int16, 1)])\n",
            "/usr/local/lib/python3.6/dist-packages/tensorflow/python/framework/dtypes.py:519: FutureWarning: Passing (type, 1) or '1type' as a synonym of type is deprecated; in a future version of numpy, it will be understood as (type, (1,)) / '(1,)type'.\n",
            "  _np_quint16 = np.dtype([(\"quint16\", np.uint16, 1)])\n",
            "/usr/local/lib/python3.6/dist-packages/tensorflow/python/framework/dtypes.py:520: FutureWarning: Passing (type, 1) or '1type' as a synonym of type is deprecated; in a future version of numpy, it will be understood as (type, (1,)) / '(1,)type'.\n",
            "  _np_qint32 = np.dtype([(\"qint32\", np.int32, 1)])\n",
            "/usr/local/lib/python3.6/dist-packages/tensorflow/python/framework/dtypes.py:525: FutureWarning: Passing (type, 1) or '1type' as a synonym of type is deprecated; in a future version of numpy, it will be understood as (type, (1,)) / '(1,)type'.\n",
            "  np_resource = np.dtype([(\"resource\", np.ubyte, 1)])\n"
          ],
          "name": "stderr"
        },
        {
          "output_type": "stream",
          "text": [
            "WARNING:tensorflow:From /usr/local/lib/python3.6/dist-packages/tensorflow/python/compat/v2_compat.py:61: disable_resource_variables (from tensorflow.python.ops.variable_scope) is deprecated and will be removed in a future version.\n",
            "Instructions for updating:\n",
            "non-resource variables are not supported in the long term\n"
          ],
          "name": "stdout"
        },
        {
          "output_type": "stream",
          "text": [
            "/usr/local/lib/python3.6/dist-packages/tensorboard/compat/tensorflow_stub/dtypes.py:541: FutureWarning: Passing (type, 1) or '1type' as a synonym of type is deprecated; in a future version of numpy, it will be understood as (type, (1,)) / '(1,)type'.\n",
            "  _np_qint8 = np.dtype([(\"qint8\", np.int8, 1)])\n",
            "/usr/local/lib/python3.6/dist-packages/tensorboard/compat/tensorflow_stub/dtypes.py:542: FutureWarning: Passing (type, 1) or '1type' as a synonym of type is deprecated; in a future version of numpy, it will be understood as (type, (1,)) / '(1,)type'.\n",
            "  _np_quint8 = np.dtype([(\"quint8\", np.uint8, 1)])\n",
            "/usr/local/lib/python3.6/dist-packages/tensorboard/compat/tensorflow_stub/dtypes.py:543: FutureWarning: Passing (type, 1) or '1type' as a synonym of type is deprecated; in a future version of numpy, it will be understood as (type, (1,)) / '(1,)type'.\n",
            "  _np_qint16 = np.dtype([(\"qint16\", np.int16, 1)])\n",
            "/usr/local/lib/python3.6/dist-packages/tensorboard/compat/tensorflow_stub/dtypes.py:544: FutureWarning: Passing (type, 1) or '1type' as a synonym of type is deprecated; in a future version of numpy, it will be understood as (type, (1,)) / '(1,)type'.\n",
            "  _np_quint16 = np.dtype([(\"quint16\", np.uint16, 1)])\n",
            "/usr/local/lib/python3.6/dist-packages/tensorboard/compat/tensorflow_stub/dtypes.py:545: FutureWarning: Passing (type, 1) or '1type' as a synonym of type is deprecated; in a future version of numpy, it will be understood as (type, (1,)) / '(1,)type'.\n",
            "  _np_qint32 = np.dtype([(\"qint32\", np.int32, 1)])\n",
            "/usr/local/lib/python3.6/dist-packages/tensorboard/compat/tensorflow_stub/dtypes.py:550: FutureWarning: Passing (type, 1) or '1type' as a synonym of type is deprecated; in a future version of numpy, it will be understood as (type, (1,)) / '(1,)type'.\n",
            "  np_resource = np.dtype([(\"resource\", np.ubyte, 1)])\n"
          ],
          "name": "stderr"
        }
      ]
    },
    {
      "cell_type": "code",
      "metadata": {
        "id": "vN0kU6NJ1Ye5",
        "cellView": "code"
      },
      "source": [
        "#@title Helper methods\n",
        "\n",
        "class DeepLabModel(object):\n",
        "  \"\"\"Class to load deeplab model and run inference.\"\"\"\n",
        "\n",
        "  INPUT_TENSOR_NAME = 'ImageTensor:0'\n",
        "  OUTPUT_TENSOR_NAME = 'SemanticPredictions:0'\n",
        "  INPUT_SIZE = 513\n",
        "  FROZEN_GRAPH_NAME = 'frozen_inference_graph'\n",
        "\n",
        "  def __init__(self, tarball_path):\n",
        "    \"\"\"Creates and loads pretrained deeplab model.\"\"\"\n",
        "    self.graph = tf.Graph()\n",
        "\n",
        "    graph_def = None\n",
        "    # Extract frozen graph from tar archive.\n",
        "    tar_file = tarfile.open(tarball_path)\n",
        "    for tar_info in tar_file.getmembers():\n",
        "      if self.FROZEN_GRAPH_NAME in os.path.basename(tar_info.name):\n",
        "        file_handle = tar_file.extractfile(tar_info)\n",
        "        graph_def = tf.GraphDef.FromString(file_handle.read())\n",
        "        break\n",
        "\n",
        "    tar_file.close()\n",
        "\n",
        "    if graph_def is None:\n",
        "      raise RuntimeError('Cannot find inference graph in tar archive.')\n",
        "\n",
        "    with self.graph.as_default():\n",
        "      tf.import_graph_def(graph_def, name='')\n",
        "\n",
        "    self.sess = tf.Session(graph=self.graph)\n",
        "\n",
        "  def run(self, image):\n",
        "    \"\"\"Runs inference on a single image.\n",
        "\n",
        "    Args:\n",
        "      image: A PIL.Image object, raw input image.\n",
        "\n",
        "    Returns:\n",
        "      resized_image: RGB image resized from original input image.\n",
        "      seg_map: Segmentation map of `resized_image`.\n",
        "    \"\"\"\n",
        "    width, height = image.size\n",
        "    resize_ratio = 1.0 * self.INPUT_SIZE / max(width, height)\n",
        "    print(resize_ratio)\n",
        "    target_size = (int(resize_ratio * width), int(resize_ratio * height))\n",
        "    resized_image = image.convert('RGB').resize(target_size, Image.ANTIALIAS)\n",
        "    print(target_size)\n",
        "    #return resized_image, np.zeros(target_size)\n",
        "    batch_seg_map = self.sess.run(\n",
        "        self.OUTPUT_TENSOR_NAME,\n",
        "        feed_dict={self.INPUT_TENSOR_NAME: [np.asarray(resized_image)]})\n",
        "    seg_map = batch_seg_map[0]\n",
        "    return resized_image, seg_map\n",
        "\n",
        "\n",
        "def create_pascal_label_colormap():\n",
        "  \"\"\"Creates a label colormap used in PASCAL VOC segmentation benchmark.\n",
        "\n",
        "  Returns:\n",
        "    A Colormap for visualizing segmentation results.\n",
        "  \"\"\"\n",
        "  colormap = np.zeros((256, 3), dtype=int)\n",
        "  ind = np.arange(256, dtype=int)\n",
        "\n",
        "  for shift in reversed(range(8)):\n",
        "    for channel in range(3):\n",
        "      colormap[:, channel] |= ((ind >> channel) & 1) << shift\n",
        "    ind >>= 3\n",
        "\n",
        "  return colormap\n",
        "\n",
        "\n",
        "def label_to_color_image(label):\n",
        "  \"\"\"Adds color defined by the dataset colormap to the label.\n",
        "\n",
        "  Args:\n",
        "    label: A 2D array with integer type, storing the segmentation label.\n",
        "\n",
        "  Returns:\n",
        "    result: A 2D array with floating type. The element of the array\n",
        "      is the color indexed by the corresponding element in the input label\n",
        "      to the PASCAL color map.\n",
        "\n",
        "  Raises:\n",
        "    ValueError: If label is not of rank 2 or its value is larger than color\n",
        "      map maximum entry.\n",
        "  \"\"\"\n",
        "  if label.ndim != 2:\n",
        "    raise ValueError('Expect 2-D input label')\n",
        "\n",
        "  colormap = create_pascal_label_colormap()\n",
        "\n",
        "  if np.max(label) >= len(colormap):\n",
        "    raise ValueError('label value too large.')\n",
        "  \n",
        "  return colormap[label]\n",
        "\n",
        "\n",
        "def vis_segmentation(image, seg_map):\n",
        "  \"\"\"Visualizes input image, segmentation map and overlay view.\"\"\"\n",
        "  plt.figure(figsize=(15, 5))\n",
        "  grid_spec = gridspec.GridSpec(1, 5, width_ratios=[6, 6, 6, 1, 6])\n",
        "\n",
        "  plt.subplot(grid_spec[0])\n",
        "  plt.imshow(image)\n",
        "  plt.axis('off')\n",
        "  plt.title('input image')\n",
        "\n",
        "  plt.subplot(grid_spec[1])\n",
        "  seg_image = label_to_color_image(seg_map).astype(np.uint8)\n",
        "  plt.imshow(seg_image)\n",
        "  plt.axis('off')\n",
        "  plt.title('segmentation map')\n",
        "\n",
        "  plt.subplot(grid_spec[2])\n",
        "  plt.imshow(image)\n",
        "  plt.imshow(seg_image, alpha=0.7)\n",
        "  plt.axis('off')\n",
        "  plt.title('segmentation overlay')\n",
        "\n",
        "  unique_labels = np.unique(seg_map)\n",
        "  ax = plt.subplot(grid_spec[3])\n",
        "  plt.imshow(\n",
        "      FULL_COLOR_MAP[unique_labels].astype(np.uint8), interpolation='nearest')\n",
        "  ax.yaxis.tick_right()\n",
        "  plt.yticks(range(len(unique_labels)), LABEL_NAMES[unique_labels])\n",
        "  plt.xticks([],[])\n",
        "  ax.tick_params(width=0.0)\n",
        "  plt.grid('off')\n",
        "  plt.show()\n",
        "\n",
        "\n",
        "LABEL_NAMES = np.asarray(['background', 'wall', 'building;edifice', 'sky', 'floor;flooring', 'tree', 'ceiling', 'road;route', 'bed', 'windowpane;window', 'grass', 'cabinet', 'sidewalk;pavement', 'person;individual;someone;somebody;mortal;soul', 'earth;ground', 'door;double;door', 'table', 'mountain;mount', 'plant;flora;plant;life', 'curtain;drape;drapery;mantle;pall', 'chair', 'car;auto;automobile;machine;motorcar', 'water', 'painting;picture', 'sofa;couch;lounge', 'shelf', 'house', 'sea', 'mirror', 'rug;carpet;carpeting', 'field', 'armchair', 'seat', 'fence;fencing', 'desk', 'rock;stone', 'wardrobe;closet;press', 'lamp', 'bathtub;bathing;tub;bath;tub', 'railing;rail', 'cushion', 'base;pedestal;stand', 'box', 'column;pillar', 'signboard;sign', 'chest;of;drawers;chest;bureau;dresser', 'counter', 'sand', 'sink', 'skyscraper', 'fireplace;hearth;open;fireplace', 'refrigerator;icebox', 'grandstand;covered;stand', 'path', 'stairs;steps', 'runway', 'case;display;case;showcase;vitrine', 'pool;table;billiard;table;snooker;table', 'pillow', 'screen;door;screen', 'stairway;staircase', 'river', 'bridge;span', 'bookcase', 'blind;screen', 'coffee;table;cocktail;table', 'toilet;can;commode;crapper;pot;potty;stool;throne', 'flower', 'book', 'hill', 'bench', 'countertop', 'stove;kitchen;stove;range;kitchen;range;cooking;stove', 'palm;palm;tree', 'kitchen;island', 'computer;computing;machine;computing;device;data;processor;electronic;computer;information;processing;system', 'swivel;chair', 'boat', 'bar', 'arcade;machine', 'hovel;hut;hutch;shack;shanty', 'bus;autobus;coach;charabanc;double-decker;jitney;motorbus;motorcoach;omnibus;passenger;vehicle', 'towel', 'light;light;source', 'truck;motortruck', 'tower', 'chandelier;pendant;pendent', 'awning;sunshade;sunblind', 'streetlight;street;lamp', 'booth;cubicle;stall;kiosk', 'television;television;receiver;television;set;tv;tv;set;idiot;box;boob;tube;telly;goggle;box', 'airplane;aeroplane;plane', 'dirt;track', 'apparel;wearing;apparel;dress;clothes', 'pole', 'land;ground;soil', 'bannister;banister;balustrade;balusters;handrail', 'escalator;moving;staircase;moving;stairway', 'ottoman;pouf;pouffe;puff;hassock', 'bottle', 'buffet;counter;sideboard', 'poster;posting;placard;notice;bill;card', 'stage', 'van', 'ship', 'fountain', 'conveyer;belt;conveyor;belt;conveyer;conveyor;transporter', 'canopy', 'washer;automatic;washer;washing;machine', 'plaything;toy', 'swimming;pool;swimming;bath;natatorium', 'stool', 'barrel;cask', 'basket;handbasket', 'waterfall;falls', 'tent;collapsible;shelter', 'bag', 'minibike;motorbike', 'cradle', 'oven', 'ball', 'food;solid;food', 'step;stair', 'tank;storage;tank', 'trade;name;brand;name;brand;marque', 'microwave;microwave;oven', 'pot;flowerpot', 'animal;animate;being;beast;brute;creature;fauna', 'bicycle;bike;wheel;cycle', 'lake', 'dishwasher;dish;washer;dishwashing;machine', 'screen;silver;screen;projection;screen', 'blanket;cover', 'sculpture', 'hood;exhaust;hood', 'sconce', 'vase', 'traffic;light;traffic;signal;stoplight', 'tray', 'ashcan;trash;can;garbage;can;wastebin;ash;bin;ash-bin;ashbin;dustbin;trash;barrel;trash;bin', 'fan', 'pier;wharf;wharfage;dock', 'crt;screen', 'plate', 'monitor;monitoring;device', 'bulletin;board;notice;board', 'shower', 'radiator', 'glass;drinking;glass', 'clock', 'flag'])\n",
        "\n",
        "FULL_LABEL_MAP = np.arange(len(LABEL_NAMES)).reshape(len(LABEL_NAMES), 1)\n",
        "FULL_COLOR_MAP = label_to_color_image(FULL_LABEL_MAP)\n"
      ],
      "execution_count": null,
      "outputs": []
    },
    {
      "cell_type": "code",
      "metadata": {
        "id": "I11dh5_yQaBN"
      },
      "source": [
        "def draw_image(im):\n",
        "  plt.imshow(im)"
      ],
      "execution_count": null,
      "outputs": []
    },
    {
      "cell_type": "markdown",
      "metadata": {
        "id": "SoV59PeuTSNM"
      },
      "source": [
        "# Load the Model"
      ]
    },
    {
      "cell_type": "code",
      "metadata": {
        "id": "sHue2QttoFsO",
        "colab": {
          "base_uri": "https://localhost:8080/"
        },
        "outputId": "e64349f3-b531-4bd2-8c75-79e270e40c88"
      },
      "source": [
        "!wget -O deeplabv3_xception_ade20k_train_2018_05_29.tar.gz http://download.tensorflow.org/models/deeplabv3_xception_ade20k_train_2018_05_29.tar.gz"
      ],
      "execution_count": null,
      "outputs": [
        {
          "output_type": "stream",
          "text": [
            "--2021-01-27 11:18:24--  http://download.tensorflow.org/models/deeplabv3_xception_ade20k_train_2018_05_29.tar.gz\n",
            "Resolving download.tensorflow.org (download.tensorflow.org)... 74.125.195.128, 2607:f8b0:400e:c07::80\n",
            "Connecting to download.tensorflow.org (download.tensorflow.org)|74.125.195.128|:80... connected.\n",
            "HTTP request sent, awaiting response... 200 OK\n",
            "Length: 460299576 (439M) [application/x-tar]\n",
            "Saving to: ‘deeplabv3_xception_ade20k_train_2018_05_29.tar.gz’\n",
            "\n",
            "deeplabv3_xception_ 100%[===================>] 438.98M   102MB/s    in 4.3s    \n",
            "\n",
            "2021-01-27 11:18:28 (102 MB/s) - ‘deeplabv3_xception_ade20k_train_2018_05_29.tar.gz’ saved [460299576/460299576]\n",
            "\n"
          ],
          "name": "stdout"
        }
      ]
    },
    {
      "cell_type": "code",
      "metadata": {
        "id": "QxGgKp81jUYC",
        "colab": {
          "base_uri": "https://localhost:8080/"
        },
        "outputId": "03d2f2e9-a8a6-438c-b331-4dbf79d44824"
      },
      "source": [
        "# _TARBALL_NAME = 'trained_model.tar.gz' # adapted model - TODO - this is where the retrained model should go\n",
        "_TARBALL_NAME = 'deeplabv3_xception_ade20k_train_2018_05_29.tar.gz' #using ade20k as demo\n",
        "\n",
        "import os\n",
        "print(os.getcwd())\n",
        "\n"
      ],
      "execution_count": null,
      "outputs": [
        {
          "output_type": "stream",
          "text": [
            "/content\n"
          ],
          "name": "stdout"
        }
      ]
    },
    {
      "cell_type": "code",
      "metadata": {
        "id": "-fVg_MdIsRjw",
        "colab": {
          "base_uri": "https://localhost:8080/"
        },
        "outputId": "02f8eaf4-cfe8-4756-9bbd-930f6f347e1f"
      },
      "source": [
        "MODEL = DeepLabModel(_TARBALL_NAME)\n",
        "print('model loaded successfully!')"
      ],
      "execution_count": null,
      "outputs": [
        {
          "output_type": "stream",
          "text": [
            "model loaded successfully!\n"
          ],
          "name": "stdout"
        }
      ]
    },
    {
      "cell_type": "markdown",
      "metadata": {
        "id": "-xNyTON0hBrM"
      },
      "source": [
        ""
      ]
    },
    {
      "cell_type": "code",
      "metadata": {
        "id": "WHESmMgV_0I8"
      },
      "source": [
        "# !pip3 install requests\n",
        "# from urllib.request import urlopen -- needed?\n"
      ],
      "execution_count": null,
      "outputs": []
    },
    {
      "cell_type": "markdown",
      "metadata": {
        "id": "XPuXcv0nUN30"
      },
      "source": [
        "# Start playing with model\n"
      ]
    },
    {
      "cell_type": "code",
      "metadata": {
        "id": "edGukUHXyymr",
        "colab": {
          "base_uri": "https://localhost:8080/",
          "height": 357
        },
        "outputId": "d751ffff-c36b-44a2-a4db-7c5f156a0ab5"
      },
      "source": [
        "from os import path, getcwd\n",
        "import requests\n",
        "from io import BytesIO\n",
        "\n",
        "demo_image = 'http://monument-monitor.herokuapp.com/rails/active_storage/blobs/eyJfcmFpbHMiOnsibWVzc2FnZSI6IkJBaHBBZ1laIiwiZXhwIjpudWxsLCJwdXIiOiJibG9iX2lkIn19--6920b4fed67ded2618cd59fb16724fc67023e8c2/IMG_3043.jpg'\n",
        "response = requests.get(demo_image)\n",
        "img = Image.open(BytesIO(response.content))\n",
        "\n",
        "\n",
        "print('running deeplab on image ...')\n",
        "resized_im, seg_map = MODEL.run(img)\n",
        "vis_segmentation(resized_im, seg_map)\n"
      ],
      "execution_count": null,
      "outputs": [
        {
          "output_type": "stream",
          "text": [
            "running deeplab on image ...\n",
            "0.8015625\n",
            "(513, 384)\n"
          ],
          "name": "stdout"
        },
        {
          "output_type": "display_data",
          "data": {
            "image/png": "[encoded data removed]",
            "text/plain": [
              "<Figure size 1080x360 with 4 Axes>"
            ]
          },
          "metadata": {
            "tags": [],
            "needs_background": "light"
          }
        }
      ]
    },
    {
      "cell_type": "code",
      "metadata": {
        "id": "8pFSyxtz9t2t",
        "colab": {
          "base_uri": "https://localhost:8080/"
        },
        "outputId": "157b07b3-4d5f-4bf4-92b8-0ef105962fcd"
      },
      "source": [
        "seg_image = label_to_color_image(seg_map).astype(np.uint8)\n",
        "# plt.imshow(seg_image)\n",
        "specific_label = np.where(LABEL_NAMES == 'water')[0][0]\n",
        "rgb = FULL_COLOR_MAP[specific_label][0]\n",
        "number = np.sum(np.all(seg_image == rgb, axis=2))\n",
        "\n",
        "print(\"water RGB value:\")\n",
        "print(rgb)\n",
        "\n",
        "print(\"number of pixels that are considered water:\")\n",
        "print(number)"
      ],
      "execution_count": null,
      "outputs": [
        {
          "output_type": "stream",
          "text": [
            "water RGB value:\n",
            "[  0 192 128]\n",
            "number of pixels that are considered water:\n",
            "1087\n"
          ],
          "name": "stdout"
        }
      ]
    },
    {
      "cell_type": "markdown",
      "metadata": {
        "id": "vFCGl455YGvP"
      },
      "source": [
        "# **Get pixel data on water**"
      ]
    },
    {
      "cell_type": "code",
      "metadata": {
        "id": "zz_jJV4cXKQN"
      },
      "source": [
        "#@title pixel data helper methods\n",
        "def get_pixel_count(label, seg_image):\n",
        "  segmentation_map = label_to_color_image(seg_image).astype(np.uint8)\n",
        "\n",
        "  # Gets index for specific label\n",
        "  specific_label = np.where(LABEL_NAMES == label)[0][0]\n",
        "\n",
        "  # Gets RGB value for specific label\n",
        "  rgb = FULL_COLOR_MAP[specific_label][0]\n",
        "\n",
        "  # Count number of pixels in image with that RGB value  \n",
        "  number = np.sum(np.all(segmentation_map == rgb, axis=2))\n",
        "  return number\n",
        "\n",
        "# pixel_count = seg_image.size\n",
        "# print(\"Amount of pixels in image is \" + str(pixel_count) )\n",
        "\n",
        "def get_relative_pixel_count(label, seg_image):\n",
        "  pixels = get_pixel_count(label, seg_image)\n",
        "  img = Image.fromarray(seg_image, 'RGB')\n",
        "  width, height = img.size\n",
        "  totalPixels = width * height\n",
        "  percentagePixels = (pixels / totalPixels) * 100\n",
        "  print(\"pixels \" + str(pixels))\n",
        "  print(\"relative pixels \" + str(percentagePixels))\n",
        "  return percentagePixels\n",
        "  \n",
        "\n"
      ],
      "execution_count": null,
      "outputs": []
    },
    {
      "cell_type": "code",
      "metadata": {
        "id": "cedhyImr3t3O"
      },
      "source": [
        "\n"
      ],
      "execution_count": null,
      "outputs": []
    },
    {
      "cell_type": "markdown",
      "metadata": {
        "id": "R0QIziZyUoVd"
      },
      "source": [
        "# Iterate through CSV"
      ]
    },
    {
      "cell_type": "code",
      "metadata": {
        "id": "1UCoGTBvV0TT"
      },
      "source": [
        "import matplotlib.pyplot as plt\n",
        "import numpy as np\n",
        "import csv \n",
        "import pandas as pd\n",
        "import urllib\n",
        "from urllib.request import urlopen\n",
        "\n",
        "BASE_URL = \"https://monument-monitor.herokuapp.com\"\n",
        "\n",
        "# function to get relative pixel count\n",
        "def relative_pixel_count(row):\n",
        "  # get the image\n",
        "  img_url = BASE_URL + row['url']\n",
        "  img = Image.open(urlopen(img_url))\n",
        "  print('running model on image' + row['date'])\n",
        "  resized_im, seg_map = MODEL.run(img)\n",
        "  vis_segmentation(resized_im, seg_map)\n",
        "\n",
        "  relative_pixels = get_relative_pixel_count('water', seg_map)\n",
        "\n",
        "  return relative_pixels"
      ],
      "execution_count": null,
      "outputs": []
    },
    {
      "cell_type": "code",
      "metadata": {
        "id": "zJ_VnLmUX3_Z"
      },
      "source": [
        "## function to get the numeral amount of the flooding\n",
        "\n",
        "def quantify_observed_rainfall(row):\n",
        "  if row['tag'] == 'none':\n",
        "    val = 0\n",
        "  elif row['tag'] == 'minimal':\n",
        "    val = 1\n",
        "  elif row['tag'] == 'some':\n",
        "    val = 1\n",
        "  elif row['tag'] == 'a lot':\n",
        "    val = 2\n",
        "  elif row['tag'] == 'substantial':\n",
        "    val = 3\n",
        "  elif row['tag'] == 'extensive':\n",
        "    val = 4\n",
        "  else:\n",
        "    return \n",
        "  return val\n"
      ],
      "execution_count": null,
      "outputs": []
    },
    {
      "cell_type": "code",
      "metadata": {
        "id": "jKg4mPXgUyPg",
        "colab": {
          "base_uri": "https://localhost:8080/"
        },
        "outputId": "d6c6b704-a9b0-47c9-be42-3e0e8cdec869"
      },
      "source": [
        "# !pip install urllib\n",
        "# import urllib.request\n",
        "\n",
        "# CSV file of circle 6, with waterlevel tags\n",
        "csv = 'https://monument-monitor-reports.s3.eu-west-2.amazonaws.com/tag-report-circle+6-2021-01-07.csv'\n",
        "\n",
        "## get csv file\n",
        "data = pd.read_csv(csv)\n",
        "print(data.head())\n",
        "## create new data structure\n",
        "submitted = data[['submission-id','date','url','tag']]\n",
        "\n",
        "# add amount to df\n",
        "submitted['amount'] = submitted.apply(quantify_observed_rainfall, axis=1)\n",
        "\n",
        "#add relative pixel to df\n",
        "# submitted['relative_pixel'] = submitted.apply(relative_pixel_count, axis=1)"
      ],
      "execution_count": null,
      "outputs": [
        {
          "output_type": "stream",
          "text": [
            "   submission-id  ...      tag\n",
            "0           1616  ...  minimal\n",
            "1           1617  ...    a lot\n",
            "2           1928  ...     none\n",
            "3           1929  ...     none\n",
            "4           1936  ...     none\n",
            "\n",
            "[5 rows x 4 columns]\n"
          ],
          "name": "stdout"
        }
      ]
    },
    {
      "cell_type": "markdown",
      "metadata": {
        "id": "xGC8XcGmi1Rn"
      },
      "source": [
        "print(submitted)\n"
      ]
    },
    {
      "cell_type": "code",
      "metadata": {
        "id": "lHiFduDbi6e-",
        "colab": {
          "base_uri": "https://localhost:8080/"
        },
        "outputId": "dfe51140-8010-417c-b5e3-c15e54f2c5b0"
      },
      "source": [
        "#@title splurge out the df with the relative pixel count of water\n",
        "# Take this cv, and make beautiful plots...\n",
        "pd.set_option('display.max_rows', 500)\n",
        "print(submitted.to_csv())\n"
      ],
      "execution_count": null,
      "outputs": [
        {
          "output_type": "stream",
          "text": [
            ",submission-id,date,url,tag,amount\n",
            "0,1616,23/04/2018,/rails/active_storage/blobs/eyJfcmFpbHMiOnsibWVzc2FnZSI6IkJBaHBBaVVHIiwiZXhwIjpudWxsLCJwdXIiOiJibG9iX2lkIn19--8d9f63a46f17f7a7807d215ff67262d4088b71a5/1616_23-04-2018_e.jpg,minimal,1\n",
            "1,1617,23/04/2018,/rails/active_storage/blobs/eyJfcmFpbHMiOnsibWVzc2FnZSI6IkJBaHBBaVlHIiwiZXhwIjpudWxsLCJwdXIiOiJibG9iX2lkIn19--55d9f7a2eae42ce2c488d0369e87655f2c4b07fd/1617_23-04-2018_e.jpg,a lot,2\n",
            "2,1928,26/05/2018,/rails/active_storage/blobs/eyJfcmFpbHMiOnsibWVzc2FnZSI6IkJBaHBBbUFIIiwiZXhwIjpudWxsLCJwdXIiOiJibG9iX2lkIn19--e8381e6fa12b75a8a3b00749fd12abfe774a7081/1928_26-05-2018_t.jpg,none,0\n",
            "3,1929,25/05/2018,/rails/active_storage/blobs/eyJfcmFpbHMiOnsibWVzc2FnZSI6IkJBaHBBbUVIIiwiZXhwIjpudWxsLCJwdXIiOiJibG9iX2lkIn19--81de62c8db6709db0787975909a6aec5f110f8f2/1929_25-05-2018_t.jpg,none,0\n",
            "4,1936,18/05/2018,/rails/active_storage/blobs/eyJfcmFpbHMiOnsibWVzc2FnZSI6IkJBaHBBbWdIIiwiZXhwIjpudWxsLCJwdXIiOiJibG9iX2lkIn19--6dc54ad412a7ed92e246ba3681d4f754957cb86b/1936_18-05-2018_t.jpg,none,0\n",
            "5,1938,18/05/2018,/rails/active_storage/blobs/eyJfcmFpbHMiOnsibWVzc2FnZSI6IkJBaHBBbW9IIiwiZXhwIjpudWxsLCJwdXIiOiJibG9iX2lkIn19--27524b12542e23681706c3ee02a41db893a31e79/1938_18-05-2018_t.jpg,none,0\n",
            "6,1940,30/04/2018,/rails/active_storage/blobs/eyJfcmFpbHMiOnsibWVzc2FnZSI6IkJBaHBBbXdIIiwiZXhwIjpudWxsLCJwdXIiOiJibG9iX2lkIn19--ed6c887444d9ae6847aaa6aa613b491bdda42684/1940_30-04-2018_t.jpg,minimal,1\n",
            "7,1943,20/08/2017,/rails/active_storage/blobs/eyJfcmFpbHMiOnsibWVzc2FnZSI6IkJBaHBBbThIIiwiZXhwIjpudWxsLCJwdXIiOiJibG9iX2lkIn19--324aa24f6d4000d66e9e8bfe26c99a492dc2934f/1943_20-08-2017_t.jpg,substantial,3\n",
            "8,1947,17/08/2017,/rails/active_storage/blobs/eyJfcmFpbHMiOnsibWVzc2FnZSI6IkJBaHBBbk1IIiwiZXhwIjpudWxsLCJwdXIiOiJibG9iX2lkIn19--c0a6f820b43e41c701e77a9387da3935920f5a3e/1947_17-08-2017_t.jpg,substantial,3\n",
            "9,1949,15/08/2017,/rails/active_storage/blobs/eyJfcmFpbHMiOnsibWVzc2FnZSI6IkJBaHBBblVIIiwiZXhwIjpudWxsLCJwdXIiOiJibG9iX2lkIn19--37aea61fe7b5c7eda20043abe9900102acdba74a/1949_15-08-2017_t.jpg,substantial,3\n",
            "10,1950,15/08/2017,/rails/active_storage/blobs/eyJfcmFpbHMiOnsibWVzc2FnZSI6IkJBaHBBbllIIiwiZXhwIjpudWxsLCJwdXIiOiJibG9iX2lkIn19--6af729a6d2ea64f91bfc5fb22fba470e2ff046e4/1950_15-08-2017_t.jpg,a lot,2\n",
            "11,1951,13/08/2017,/rails/active_storage/blobs/eyJfcmFpbHMiOnsibWVzc2FnZSI6IkJBaHBBbmNIIiwiZXhwIjpudWxsLCJwdXIiOiJibG9iX2lkIn19--2e8ca296d9596b8e4ac796c0fbc999847949b272/1951_13-08-2017_t.jpg,minimal,1\n",
            "12,1952,12/08/2017,/rails/active_storage/blobs/eyJfcmFpbHMiOnsibWVzc2FnZSI6IkJBaHBBbmdIIiwiZXhwIjpudWxsLCJwdXIiOiJibG9iX2lkIn19--f52f54761ee15d7c970e7e4061f06f637f42263f/1952_12-08-2017_t.jpg,minimal,1\n",
            "13,1954,11/08/2017,/rails/active_storage/blobs/eyJfcmFpbHMiOnsibWVzc2FnZSI6IkJBaHBBbm9IIiwiZXhwIjpudWxsLCJwdXIiOiJibG9iX2lkIn19--cda78a1b12e6c50914e6fb566adc6ab17a587af9/1954_11-08-2017_t.jpg,minimal,1\n",
            "14,1956,05/08/2017,/rails/active_storage/blobs/eyJfcmFpbHMiOnsibWVzc2FnZSI6IkJBaHBBbndIIiwiZXhwIjpudWxsLCJwdXIiOiJibG9iX2lkIn19--4bea7ec117633abe7a6d98a19c567c1a6ffb553d/1956_05-08-2017_t.jpg,a lot,2\n",
            "15,1957,04/08/2017,/rails/active_storage/blobs/eyJfcmFpbHMiOnsibWVzc2FnZSI6IkJBaHBBbjBIIiwiZXhwIjpudWxsLCJwdXIiOiJibG9iX2lkIn19--fc22bb2e52c83cfa0130a4a9b4ad0a2ba8923c0e/1957_04-08-2017_t.jpg,a lot,2\n",
            "16,1971,16/07/2017,/rails/active_storage/blobs/eyJfcmFpbHMiOnsibWVzc2FnZSI6IkJBaHBBb3NIIiwiZXhwIjpudWxsLCJwdXIiOiJibG9iX2lkIn19--74e1e2c5be758d3c166d587a375f1fc8b06604b9/1971_16-07-2017_t.jpg,minimal,1\n",
            "17,1972,16/07/2017,/rails/active_storage/blobs/eyJfcmFpbHMiOnsibWVzc2FnZSI6IkJBaHBBb3dIIiwiZXhwIjpudWxsLCJwdXIiOiJibG9iX2lkIn19--687814b2ca6a1524d1747acb2fd166d51cc91b9b/1972_16-07-2017_t.jpg,minimal,1\n",
            "18,1977,14/07/2017,/rails/active_storage/blobs/eyJfcmFpbHMiOnsibWVzc2FnZSI6IkJBaHBBcEVIIiwiZXhwIjpudWxsLCJwdXIiOiJibG9iX2lkIn19--e15814abca52281bf6c220857bc05782710bee73/1977_14-07-2017_t.jpg,none,0\n",
            "19,1978,14/07/2017,/rails/active_storage/blobs/eyJfcmFpbHMiOnsibWVzc2FnZSI6IkJBaHBBcElIIiwiZXhwIjpudWxsLCJwdXIiOiJibG9iX2lkIn19--46dbbe3b4979065256131a8d36bbba2a9b559e3e/1978_14-07-2017_t.jpg,none,0\n",
            "20,1979,10/07/2017,/rails/active_storage/blobs/eyJfcmFpbHMiOnsibWVzc2FnZSI6IkJBaHBBcE1IIiwiZXhwIjpudWxsLCJwdXIiOiJibG9iX2lkIn19--dee572d3bdc6df719f6a9432fbc01f091b7e0d5e/1979_10-07-2017_t.jpg,none,0\n",
            "21,1982,06/07/2017,/rails/active_storage/blobs/eyJfcmFpbHMiOnsibWVzc2FnZSI6IkJBaHBBcFlIIiwiZXhwIjpudWxsLCJwdXIiOiJibG9iX2lkIn19--86e5a3f24d47816106454deabaf592087434c289/1982_06-07-2017_t.jpg,none,0\n",
            "22,1984,02/07/2017,/rails/active_storage/blobs/eyJfcmFpbHMiOnsibWVzc2FnZSI6IkJBaHBBcGdIIiwiZXhwIjpudWxsLCJwdXIiOiJibG9iX2lkIn19--826872fee30d9951a0f0f2c47f061f4915409040/1984_02-07-2017_t.jpg,none,0\n",
            "23,1986,28/06/2017,/rails/active_storage/blobs/eyJfcmFpbHMiOnsibWVzc2FnZSI6IkJBaHBBcG9IIiwiZXhwIjpudWxsLCJwdXIiOiJibG9iX2lkIn19--7a395870fc329f5faaa32472535402ba2b581a7e/1986_28-06-2017_t.jpg,none,0\n",
            "24,1988,25/06/2017,/rails/active_storage/blobs/eyJfcmFpbHMiOnsibWVzc2FnZSI6IkJBaHBBcHdIIiwiZXhwIjpudWxsLCJwdXIiOiJibG9iX2lkIn19--48d13de9ee060efa7755da2b7721e7360b42d3a7/1988_25-06-2017_t.jpg,minimal,1\n",
            "25,1991,21/06/2017,/rails/active_storage/blobs/eyJfcmFpbHMiOnsibWVzc2FnZSI6IkJBaHBBcDhIIiwiZXhwIjpudWxsLCJwdXIiOiJibG9iX2lkIn19--96ea0f13b2b4c9cca56579c11e98a2d5718f0660/1991_21-06-2017_t.jpg,none,0\n",
            "26,1994,28/04/2018,/rails/active_storage/blobs/eyJfcmFpbHMiOnsibWVzc2FnZSI6IkJBaHBBcUlIIiwiZXhwIjpudWxsLCJwdXIiOiJibG9iX2lkIn19--b8aa100e6ec63867120fba2c8921822f3af30c6a/1994_28-04-2018_t.jpg,a lot,2\n",
            "27,1998,24/04/2018,/rails/active_storage/blobs/eyJfcmFpbHMiOnsibWVzc2FnZSI6IkJBaHBBcVlIIiwiZXhwIjpudWxsLCJwdXIiOiJibG9iX2lkIn19--0bd65eb890e9732ecc9674f990c480988b3d56cb/1998_24-04-2018_t.jpg,substantial,3\n",
            "28,2000,16/04/2018,/rails/active_storage/blobs/eyJfcmFpbHMiOnsibWVzc2FnZSI6IkJBaHBBcWdIIiwiZXhwIjpudWxsLCJwdXIiOiJibG9iX2lkIn19--7a8342ac6c2aa623740a8af807db5c4270123ee5/2000_16-04-2018_t.jpg,substantial,3\n",
            "29,2001,16/04/2018,/rails/active_storage/blobs/eyJfcmFpbHMiOnsibWVzc2FnZSI6IkJBaHBBcWtIIiwiZXhwIjpudWxsLCJwdXIiOiJibG9iX2lkIn19--600e9d9cc25cb8c85f84af38c52bf9e4a15d578c/2001_16-04-2018_t.jpg,substantial,3\n",
            "30,2003,13/04/2018,/rails/active_storage/blobs/eyJfcmFpbHMiOnsibWVzc2FnZSI6IkJBaHBBcXNIIiwiZXhwIjpudWxsLCJwdXIiOiJibG9iX2lkIn19--0524edd568d5661ae51ad18a9f3ce79dd7ceb4a0/2003_13-04-2018_t.jpg,extensive,4\n",
            "31,2004,06/04/2018,/rails/active_storage/blobs/eyJfcmFpbHMiOnsibWVzc2FnZSI6IkJBaHBBcXdIIiwiZXhwIjpudWxsLCJwdXIiOiJibG9iX2lkIn19--06f7073bf1c4092bc56db1044cd7dea30ee20676/2004_06-04-2018_t.jpg,extensive,4\n",
            "32,2005,05/04/2018,/rails/active_storage/blobs/eyJfcmFpbHMiOnsibWVzc2FnZSI6IkJBaHBBcTBIIiwiZXhwIjpudWxsLCJwdXIiOiJibG9iX2lkIn19--74d08c14be775488d904d4bae76a13c74be278af/2005_05-04-2018_t.jpg,extensive,4\n",
            "33,2006,04/04/2018,/rails/active_storage/blobs/eyJfcmFpbHMiOnsibWVzc2FnZSI6IkJBaHBBcTRIIiwiZXhwIjpudWxsLCJwdXIiOiJibG9iX2lkIn19--12f580364bbedace247855f9f0913e4a2e7ccc01/2006_04-04-2018_t.jpg,extensive,4\n",
            "34,2010,03/04/2018,/rails/active_storage/blobs/eyJfcmFpbHMiOnsibWVzc2FnZSI6IkJBaHBBcklIIiwiZXhwIjpudWxsLCJwdXIiOiJibG9iX2lkIn19--632d08f608db35f1fd0bc4ecc6b22289ca2a282e/2010_03-04-2018_t.jpg,extensive,4\n",
            "35,2012,01/04/2018,/rails/active_storage/blobs/eyJfcmFpbHMiOnsibWVzc2FnZSI6IkJBaHBBclFIIiwiZXhwIjpudWxsLCJwdXIiOiJibG9iX2lkIn19--44b2a765ee8561f6734e4b461be1dd76116a8af7/2012_01-04-2018_t.jpg,a lot,2\n",
            "36,2024,18/02/2018,/rails/active_storage/blobs/eyJfcmFpbHMiOnsibWVzc2FnZSI6IkJBaHBBc0FIIiwiZXhwIjpudWxsLCJwdXIiOiJibG9iX2lkIn19--959ac46dd08ddb9f2da52a5a763ebc442d3b3a3a/2024_18-02-2018_t.jpg,extensive,4\n",
            "37,2025,18/02/2018,/rails/active_storage/blobs/eyJfcmFpbHMiOnsibWVzc2FnZSI6IkJBaHBBc0VIIiwiZXhwIjpudWxsLCJwdXIiOiJibG9iX2lkIn19--8d43c7bfb156af7301235b0250ec299a3f28fac1/2025_18-02-2018_t.jpg,extensive,4\n",
            "38,2026,17/02/2018,/rails/active_storage/blobs/eyJfcmFpbHMiOnsibWVzc2FnZSI6IkJBaHBBc0lIIiwiZXhwIjpudWxsLCJwdXIiOiJibG9iX2lkIn19--f5dc7b97b6a33f972355627f2cf4e8563f39a3b9/2026_17-02-2018_t.jpg,substantial,3\n",
            "39,2027,17/02/2018,/rails/active_storage/blobs/eyJfcmFpbHMiOnsibWVzc2FnZSI6IkJBaHBBc01IIiwiZXhwIjpudWxsLCJwdXIiOiJibG9iX2lkIn19--a8f40d70f5d191334455712952e63f849e42e688/2027_17-02-2018_t.jpg,substantial,3\n",
            "40,2028,17/02/2018,/rails/active_storage/blobs/eyJfcmFpbHMiOnsibWVzc2FnZSI6IkJBaHBBc1FIIiwiZXhwIjpudWxsLCJwdXIiOiJibG9iX2lkIn19--80ea764b7e773e7c3a00eda1d439ca27a644016b/2028_17-02-2018_t.jpg,substantial,3\n",
            "41,2038,02/01/2018,/rails/active_storage/blobs/eyJfcmFpbHMiOnsibWVzc2FnZSI6IkJBaHBBczRIIiwiZXhwIjpudWxsLCJwdXIiOiJibG9iX2lkIn19--0fef265e916b26576dad7687c69c45568bb1f379/2038_02-01-2018_t.jpg,extensive,4\n",
            "42,2044,05/11/2017,/rails/active_storage/blobs/eyJfcmFpbHMiOnsibWVzc2FnZSI6IkJBaHBBdFFIIiwiZXhwIjpudWxsLCJwdXIiOiJibG9iX2lkIn19--f88f79166b820500324bfc71b1101cf40ee83a14/2044_05-11-2017_t.jpg,substantial,3\n",
            "43,2053,14/10/2017,/rails/active_storage/blobs/eyJfcmFpbHMiOnsibWVzc2FnZSI6IkJBaHBBdDBIIiwiZXhwIjpudWxsLCJwdXIiOiJibG9iX2lkIn19--3b54f8fdf05a1b7e41fc507fb900da2915b671ad/2053_14-10-2017_t.jpg,substantial,3\n",
            "44,2058,10/10/2017,/rails/active_storage/blobs/eyJfcmFpbHMiOnsibWVzc2FnZSI6IkJBaHBBdUlIIiwiZXhwIjpudWxsLCJwdXIiOiJibG9iX2lkIn19--191d9f844233a3d996e32e77e924e9318e9f8c0d/2058_10-10-2017_t.jpg,substantial,3\n",
            "45,2066,07/10/2017,/rails/active_storage/blobs/eyJfcmFpbHMiOnsibWVzc2FnZSI6IkJBaHBBdW9IIiwiZXhwIjpudWxsLCJwdXIiOiJibG9iX2lkIn19--e8e174d2e441992afd098f736da300a8c986ffea/2066_07-10-2017_t.jpg,substantial,3\n",
            "46,2072,26/09/2017,/rails/active_storage/blobs/eyJfcmFpbHMiOnsibWVzc2FnZSI6IkJBaHBBdkFIIiwiZXhwIjpudWxsLCJwdXIiOiJibG9iX2lkIn19--26ec520e3f6df4688c0b692242ef6bea1420e5d7/2072_26-09-2017_t.jpg,a lot,2\n",
            "47,2074,23/09/2017,/rails/active_storage/blobs/eyJfcmFpbHMiOnsibWVzc2FnZSI6IkJBaHBBdklIIiwiZXhwIjpudWxsLCJwdXIiOiJibG9iX2lkIn19--6fd537c21c1036afc371a649e829acb6de0c1a74/2074_23-09-2017_t.jpg,a lot,2\n",
            "48,2076,18/09/2017,/rails/active_storage/blobs/eyJfcmFpbHMiOnsibWVzc2FnZSI6IkJBaHBBdlFIIiwiZXhwIjpudWxsLCJwdXIiOiJibG9iX2lkIn19--aec7b4e3e95e404fa643d39c455a45f158d00710/2076_18-09-2017_t.jpg,substantial,3\n",
            "49,2077,18/09/2017,/rails/active_storage/blobs/eyJfcmFpbHMiOnsibWVzc2FnZSI6IkJBaHBBdlVIIiwiZXhwIjpudWxsLCJwdXIiOiJibG9iX2lkIn19--06994c1f66529270b9978adb07845c1e7209e7f1/2077_18-09-2017_t.jpg,minimal,1\n",
            "50,2080,17/09/2017,/rails/active_storage/blobs/eyJfcmFpbHMiOnsibWVzc2FnZSI6IkJBaHBBdmdIIiwiZXhwIjpudWxsLCJwdXIiOiJibG9iX2lkIn19--e6e3438fc6f6183894945ea95778d8c0e78a7f55/2080_17-09-2017_t.jpg,a lot,2\n",
            "51,2081,17/09/2017,/rails/active_storage/blobs/eyJfcmFpbHMiOnsibWVzc2FnZSI6IkJBaHBBdmtIIiwiZXhwIjpudWxsLCJwdXIiOiJibG9iX2lkIn19--29fc1ede4987f1e6e9a2ebdf3e2f1af1108f45f8/2081_17-09-2017_t.jpg,a lot,2\n",
            "52,2082,17/09/2017,/rails/active_storage/blobs/eyJfcmFpbHMiOnsibWVzc2FnZSI6IkJBaHBBdm9IIiwiZXhwIjpudWxsLCJwdXIiOiJibG9iX2lkIn19--19e145d27574208322086bab27519bc8965fda66/2082_17-09-2017_t.jpg,a lot,2\n",
            "53,2088,30/08/2017,/rails/active_storage/blobs/eyJfcmFpbHMiOnsibWVzc2FnZSI6IkJBaHBBZ0FJIiwiZXhwIjpudWxsLCJwdXIiOiJibG9iX2lkIn19--91ceb15be6308d46eefd403904057e07226e7c9a/2088_30-08-2017_t.jpg,minimal,1\n",
            "54,2090,29/08/2017,/rails/active_storage/blobs/eyJfcmFpbHMiOnsibWVzc2FnZSI6IkJBaHBBZ0lJIiwiZXhwIjpudWxsLCJwdXIiOiJibG9iX2lkIn19--ed19b5cb3b4645549fe3decbca585ab50fdfe2db/2090_29-08-2017_t.jpg,substantial,3\n",
            "55,2093,29/08/2017,/rails/active_storage/blobs/eyJfcmFpbHMiOnsibWVzc2FnZSI6IkJBaHBBZ1VJIiwiZXhwIjpudWxsLCJwdXIiOiJibG9iX2lkIn19--ec4b56e119814ba8cd3f1f93f8fa37b86c377862/2093_29-08-2017_t.jpg,a lot,2\n",
            "56,2094,27/08/2017,/rails/active_storage/blobs/eyJfcmFpbHMiOnsibWVzc2FnZSI6IkJBaHBBZ1lJIiwiZXhwIjpudWxsLCJwdXIiOiJibG9iX2lkIn19--a8c285dea747bbc31410e4ea5bb2958d3f0110ec/2094_27-08-2017_t.jpg,a lot,2\n",
            "57,3286,01/05/2018,/rails/active_storage/blobs/eyJfcmFpbHMiOnsibWVzc2FnZSI6IkJBaHBBcTRNIiwiZXhwIjpudWxsLCJwdXIiOiJibG9iX2lkIn19--8c0cbe1ae218724ea13f2ec6ccf132ef2706345c/3286_01-05-2018_i.jpg,minimal,1\n",
            "58,3299,25/01/2018,/rails/active_storage/blobs/eyJfcmFpbHMiOnsibWVzc2FnZSI6IkJBaHBBcndNIiwiZXhwIjpudWxsLCJwdXIiOiJibG9iX2lkIn19--71469e188bee4dfb7b7be4e2cb3687cfdcb6f19b/3299_25-01-2018_i.jpg,substantial,3\n",
            "59,3301,17/05/2018,/rails/active_storage/blobs/eyJfcmFpbHMiOnsibWVzc2FnZSI6IkJBaHBBcjRNIiwiZXhwIjpudWxsLCJwdXIiOiJibG9iX2lkIn19--b4f35b270356f8cd65fa369db5a8dd54106eb7f0/3301_17-05-2018_i.jpg,minimal,1\n",
            "60,3303,17/05/2018,/rails/active_storage/blobs/eyJfcmFpbHMiOnsibWVzc2FnZSI6IkJBaHBBc0FNIiwiZXhwIjpudWxsLCJwdXIiOiJibG9iX2lkIn19--59a3dff8dd96ad82e7366dafff2ce5fa39db1ca4/3303_17-05-2018_i.jpg,minimal,1\n",
            "61,3326,13/10/2017,/rails/active_storage/blobs/eyJfcmFpbHMiOnsibWVzc2FnZSI6IkJBaHBBdFlNIiwiZXhwIjpudWxsLCJwdXIiOiJibG9iX2lkIn19--b63324ebc5596cb57c5deb2e32f22bf01ff0a55b/3326_13-10-2017_i.jpg,substantial,3\n",
            "62,3334,25/01/2018,/rails/active_storage/blobs/eyJfcmFpbHMiOnsibWVzc2FnZSI6IkJBaHBBdDRNIiwiZXhwIjpudWxsLCJwdXIiOiJibG9iX2lkIn19--9c68ded88732ad0d1c03dd7c02af60d9b69cecd2/3334_25-01-2018_i.jpg,substantial,3\n",
            "63,3336,22/09/2017,/rails/active_storage/blobs/eyJfcmFpbHMiOnsibWVzc2FnZSI6IkJBaHBBdUFNIiwiZXhwIjpudWxsLCJwdXIiOiJibG9iX2lkIn19--20a4fed2977b82fc43b1570c3990751cf093b958/3336_22-09-2017_i.jpg,a lot,2\n",
            "64,3381,31/03/2018,/rails/active_storage/blobs/eyJfcmFpbHMiOnsibWVzc2FnZSI6IkJBaHBBZzBOIiwiZXhwIjpudWxsLCJwdXIiOiJibG9iX2lkIn19--58bfd56438e9bd049a37e052a81840f9b87d663c/3381_31-03-2018_i.jpg,substantial,3\n",
            "65,3400,23/09/2017,/rails/active_storage/blobs/eyJfcmFpbHMiOnsibWVzc2FnZSI6IkJBaHBBaUFOIiwiZXhwIjpudWxsLCJwdXIiOiJibG9iX2lkIn19--4cd13a3c16998abf75afaf5cbb47478bec97d7f5/3400_23-09-2017_i.jpg,substantial,3\n",
            "66,3402,23/09/2017,/rails/active_storage/blobs/eyJfcmFpbHMiOnsibWVzc2FnZSI6IkJBaHBBaUlOIiwiZXhwIjpudWxsLCJwdXIiOiJibG9iX2lkIn19--82b31130d60d7491457f0165e6c187ecaf85fc9e/3402_23-09-2017_i.jpg,substantial,3\n",
            "67,3421,12/03/2018,/rails/active_storage/blobs/eyJfcmFpbHMiOnsibWVzc2FnZSI6IkJBaHBBallOIiwiZXhwIjpudWxsLCJwdXIiOiJibG9iX2lkIn19--95622399f5b58e6d433420ab5fe6272a3fecc763/3421_12-03-2018_i.jpg,none,0\n",
            "68,3423,12/03/2018,/rails/active_storage/blobs/eyJfcmFpbHMiOnsibWVzc2FnZSI6IkJBaHBBamdOIiwiZXhwIjpudWxsLCJwdXIiOiJibG9iX2lkIn19--484dc2403491ff1da234a798e71318cb08a66806/3423_12-03-2018_i.jpg,substantial,3\n",
            "69,3426,12/03/2018,/rails/active_storage/blobs/eyJfcmFpbHMiOnsibWVzc2FnZSI6IkJBaHBBam9OIiwiZXhwIjpudWxsLCJwdXIiOiJibG9iX2lkIn19--c2aea9683bb4ba78020fd639abce9a704b6cfa45/3426_12-03-2018_i.jpg,extensive,4\n",
            "70,3427,12/03/2018,/rails/active_storage/blobs/eyJfcmFpbHMiOnsibWVzc2FnZSI6IkJBaHBBandOIiwiZXhwIjpudWxsLCJwdXIiOiJibG9iX2lkIn19--0368269ca2c53297588a60b7eb2f9aa59fb49c36/3427_12-03-2018_i.jpg,extensive,4\n",
            "71,3444,12/02/2018,/rails/active_storage/blobs/eyJfcmFpbHMiOnsibWVzc2FnZSI6IkJBaHBBa3dOIiwiZXhwIjpudWxsLCJwdXIiOiJibG9iX2lkIn19--234011394137f78faebecccc4d0a516ae7eba9c9/3444_12-02-2018_i.jpg,extensive,4\n",
            "72,3474,31/08/2017,/rails/active_storage/blobs/eyJfcmFpbHMiOnsibWVzc2FnZSI6IkJBaHBBbW9OIiwiZXhwIjpudWxsLCJwdXIiOiJibG9iX2lkIn19--c986f8edac971b1e8a8c03b8160b6d82a2a1d50b/3474_31-08-2017_i.jpg,substantial,3\n",
            "73,3478,17/08/2017,/rails/active_storage/blobs/eyJfcmFpbHMiOnsibWVzc2FnZSI6IkJBaHBBbTROIiwiZXhwIjpudWxsLCJwdXIiOiJibG9iX2lkIn19--be86e72e6d85b2e0b74029957ba14fde0d0be80d/3478_17-08-2017_i.jpg,substantial,3\n",
            "74,3482,13/08/2017,/rails/active_storage/blobs/eyJfcmFpbHMiOnsibWVzc2FnZSI6IkJBaHBBbklOIiwiZXhwIjpudWxsLCJwdXIiOiJibG9iX2lkIn19--284d5d983daa696fc9ba38b3602a3bcf504ec99a/3482_13-08-2017_i.jpg,none,0\n",
            "75,3485,05/09/2017,/rails/active_storage/blobs/eyJfcmFpbHMiOnsibWVzc2FnZSI6IkJBaHBBbllOIiwiZXhwIjpudWxsLCJwdXIiOiJibG9iX2lkIn19--59070c2db44e39321cbda49f05a9c711f0b8f39f/3485_05-09-2017_i.jpg,substantial,3\n",
            "76,3516,26/08/2017,/rails/active_storage/blobs/eyJfcmFpbHMiOnsibWVzc2FnZSI6IkJBaHBBcFFOIiwiZXhwIjpudWxsLCJwdXIiOiJibG9iX2lkIn19--5603df7a75ebe5360e539f0801dc63ff8261e7a7/3516_26-08-2017_i.jpg,a lot,2\n",
            "77,3553,01/08/2017,/rails/active_storage/blobs/eyJfcmFpbHMiOnsibWVzc2FnZSI6IkJBaHBBcm9OIiwiZXhwIjpudWxsLCJwdXIiOiJibG9iX2lkIn19--75e0af1279580a3390f9f9d8cf7b764dc63064f1/3553_01-08-2017_i.jpg,substantial,3\n",
            "78,3590,13/07/2017,/rails/active_storage/blobs/eyJfcmFpbHMiOnsibWVzc2FnZSI6IkJBaHBBdDROIiwiZXhwIjpudWxsLCJwdXIiOiJibG9iX2lkIn19--8e446188e399c5ffcd2b1bc2ea8eff39ebf9550c/3590_13-07-2017_i.jpg,none,0\n",
            "79,3595,10/08/2017,/rails/active_storage/blobs/eyJfcmFpbHMiOnsibWVzc2FnZSI6IkJBaHBBdVFOIiwiZXhwIjpudWxsLCJwdXIiOiJibG9iX2lkIn19--328c23c8dd82f36944a571fea247a47e1abcd166/3595_10-08-2017_i.jpg,minimal,1\n",
            "80,3597,09/07/2017,/rails/active_storage/blobs/eyJfcmFpbHMiOnsibWVzc2FnZSI6IkJBaHBBdVlOIiwiZXhwIjpudWxsLCJwdXIiOiJibG9iX2lkIn19--f20fca7c86b60bc69527530207cad5001cb23a92/3597_09-07-2017_i.jpg,none,0\n",
            "81,3610,10/08/2017,/rails/active_storage/blobs/eyJfcmFpbHMiOnsibWVzc2FnZSI6IkJBaHBBdklOIiwiZXhwIjpudWxsLCJwdXIiOiJibG9iX2lkIn19--ff6af38fde25403ee53435f87c81f75db1a98f51/3610_10-08-2017_i.jpg,a lot,2\n",
            "82,3643,08/06/2017,/rails/active_storage/blobs/eyJfcmFpbHMiOnsibWVzc2FnZSI6IkJBaHBBaFFPIiwiZXhwIjpudWxsLCJwdXIiOiJibG9iX2lkIn19--f43ce66e71fabbad9b06181523613fe262ab77f7/3643_08-06-2017_i.jpg,extensive,4\n",
            "83,3883,14/09/2019,/rails/active_storage/blobs/eyJfcmFpbHMiOnsibWVzc2FnZSI6IkJBaHBBZ01QIiwiZXhwIjpudWxsLCJwdXIiOiJibG9iX2lkIn19--c5e28c2a71cb2b018629d2548ef1a14a85f858e8/3883_14-09-2019_t.jpg,a lot,2\n",
            "84,3884,14/09/2019,/rails/active_storage/blobs/eyJfcmFpbHMiOnsibWVzc2FnZSI6IkJBaHBBZ1FQIiwiZXhwIjpudWxsLCJwdXIiOiJibG9iX2lkIn19--51e62c81eb22a1ef814602484a0917a0e891a5f8/3884_14-09-2019_t.jpg,a lot,2\n",
            "85,3885,14/09/2019,/rails/active_storage/blobs/eyJfcmFpbHMiOnsibWVzc2FnZSI6IkJBaHBBZ1VQIiwiZXhwIjpudWxsLCJwdXIiOiJibG9iX2lkIn19--4773db43fdfafb07fcdc9c8a1561301e8852e9db/3885_14-09-2019_t.jpg,minimal,1\n",
            "86,3910,13/09/2019,/rails/active_storage/blobs/eyJfcmFpbHMiOnsibWVzc2FnZSI6IkJBaHBBaUFQIiwiZXhwIjpudWxsLCJwdXIiOiJibG9iX2lkIn19--28214dafd9e922201e7cf8fae9c7d070a27364a2/3910_13-09-2019_w.jpg,a lot,2\n",
            "87,3911,13/09/2019,/rails/active_storage/blobs/eyJfcmFpbHMiOnsibWVzc2FnZSI6IkJBaHBBaUVQIiwiZXhwIjpudWxsLCJwdXIiOiJibG9iX2lkIn19--5de71300223fd59609f2bbaaaac9f82993b1a7a6/3911_13-09-2019_w.jpg,a lot,2\n",
            "88,3916,14/09/2019,/rails/active_storage/blobs/eyJfcmFpbHMiOnsibWVzc2FnZSI6IkJBaHBBaVlQIiwiZXhwIjpudWxsLCJwdXIiOiJibG9iX2lkIn19--a31d0c700e4567e3c4591b66c2e5555ffbd97055/3916_14-09-2019_w.jpg,minimal,1\n",
            "89,3924,16/09/2019,/rails/active_storage/blobs/eyJfcmFpbHMiOnsibWVzc2FnZSI6IkJBaHBBaTRQIiwiZXhwIjpudWxsLCJwdXIiOiJibG9iX2lkIn19--8cb82671916866a8297a1f006e5cda6f4f2571b5/3924_16-09-2019_w.jpg,minimal,1\n",
            "90,3927,16/09/2019,/rails/active_storage/blobs/eyJfcmFpbHMiOnsibWVzc2FnZSI6IkJBaHBBakVQIiwiZXhwIjpudWxsLCJwdXIiOiJibG9iX2lkIn19--c3e277f2177c285ec896c305cac703ac5b08e791/3927_16-09-2019_w.jpg,minimal,1\n",
            "91,3936,17/09/2019,/rails/active_storage/blobs/eyJfcmFpbHMiOnsibWVzc2FnZSI6IkJBaHBBam9QIiwiZXhwIjpudWxsLCJwdXIiOiJibG9iX2lkIn19--4e9915d010484ea94d9fb5ebc51ac0f7dd9fdc8b/3936_17-09-2019_t.jpg,minimal,1\n",
            "92,3957,28/09/2019,/rails/active_storage/blobs/eyJfcmFpbHMiOnsibWVzc2FnZSI6IkJBaHBBazhQIiwiZXhwIjpudWxsLCJwdXIiOiJibG9iX2lkIn19--eceead86cc5c5b125a31ecfd73ff112443b1f587/3957_28-09-2019_t.jpg,substantial,3\n",
            "93,3958,29/09/2019,/rails/active_storage/blobs/eyJfcmFpbHMiOnsibWVzc2FnZSI6IkJBaHBBbEFQIiwiZXhwIjpudWxsLCJwdXIiOiJibG9iX2lkIn19--db5dc19629eeed4939aad1413479934e9577d838/3958_29-09-2019_t.jpg,substantial,3\n",
            "94,3976,22/09/2019,/rails/active_storage/blobs/eyJfcmFpbHMiOnsibWVzc2FnZSI6IkJBaHBBbUlQIiwiZXhwIjpudWxsLCJwdXIiOiJibG9iX2lkIn19--1f71feb195049fee8bac05853acb15b083086871/3976_22-09-2019_i.jpg,a lot,2\n",
            "95,3977,25/09/2019,/rails/active_storage/blobs/eyJfcmFpbHMiOnsibWVzc2FnZSI6IkJBaHBBbU1QIiwiZXhwIjpudWxsLCJwdXIiOiJibG9iX2lkIn19--414d4549dc5992b0d030904a9bcba9dc74215a59/3977_25-09-2019_i.jpg,minimal,1\n",
            "96,4069,21/09/2019,/rails/active_storage/blobs/eyJfcmFpbHMiOnsibWVzc2FnZSI6IkJBaHBBcjhQIiwiZXhwIjpudWxsLCJwdXIiOiJibG9iX2lkIn19--8eafa09320b47fd8a845b1a946a7c0dcfc506fda/4069_21-09-2019_i.jpg,none,0\n",
            "97,4101,29/09/2019,/rails/active_storage/blobs/eyJfcmFpbHMiOnsibWVzc2FnZSI6IkJBaHBBdDhQIiwiZXhwIjpudWxsLCJwdXIiOiJibG9iX2lkIn19--23433eb7be3ce5d75f5c456b7f52b3874859b2e8/4101_29-09-2019_i.jpg,substantial,3\n",
            "98,4118,24/09/2019,/rails/active_storage/blobs/eyJfcmFpbHMiOnsibWVzc2FnZSI6IkJBaHBBdkFQIiwiZXhwIjpudWxsLCJwdXIiOiJibG9iX2lkIn19--ea9f0b05d7a4efbc5a8eea9e2f053d9db9abded7/4118_24-09-2019_e.jpg,none,0\n",
            "99,4121,25/09/2019,/rails/active_storage/blobs/eyJfcmFpbHMiOnsibWVzc2FnZSI6IkJBaHBBdk1QIiwiZXhwIjpudWxsLCJwdXIiOiJibG9iX2lkIn19--95967a11d8ed9734c6bb2e56cc41e77875c94746/4121_25-09-2019_e.jpg,minimal,1\n",
            "100,4140,28/09/2019,/rails/active_storage/blobs/eyJfcmFpbHMiOnsibWVzc2FnZSI6IkJBaHBBZ1lRIiwiZXhwIjpudWxsLCJwdXIiOiJibG9iX2lkIn19--3c2c3bd7480062df913e432d58ea25e1d80acc5a/4140_28-09-2019_e.jpg,minimal,1\n",
            "101,4142,28/09/2019,/rails/active_storage/blobs/eyJfcmFpbHMiOnsibWVzc2FnZSI6IkJBaHBBZ2dRIiwiZXhwIjpudWxsLCJwdXIiOiJibG9iX2lkIn19--ca29678984e6e4b257ec2344a039a38308df2eb9/4142_28-09-2019_e.jpg,substantial,3\n",
            "102,4155,03/10/2019,/rails/active_storage/blobs/eyJfcmFpbHMiOnsibWVzc2FnZSI6IkJBaHBBaFVRIiwiZXhwIjpudWxsLCJwdXIiOiJibG9iX2lkIn19--dcba415489bbd17ecd13dcc9dc77b931c91f2481/4155_03-10-2019_w.jpg,a lot,2\n",
            "103,4158,30/09/2019,/rails/active_storage/blobs/eyJfcmFpbHMiOnsibWVzc2FnZSI6IkJBaHBBaGdRIiwiZXhwIjpudWxsLCJwdXIiOiJibG9iX2lkIn19--73ebae00527f0055b981fe39e348473ba6e1c0d9/4158_30-09-2019_w.jpg,substantial,3\n",
            "104,4165,28/09/2019,/rails/active_storage/blobs/eyJfcmFpbHMiOnsibWVzc2FnZSI6IkJBaHBBaDhRIiwiZXhwIjpudWxsLCJwdXIiOiJibG9iX2lkIn19--654470fd21c3a229c09d3b19b88647e0c5e2922b/4165_28-09-2019_w.jpg,substantial,3\n",
            "105,4167,27/09/2019,/rails/active_storage/blobs/eyJfcmFpbHMiOnsibWVzc2FnZSI6IkJBaHBBaUVRIiwiZXhwIjpudWxsLCJwdXIiOiJibG9iX2lkIn19--dcf45f8f32dc3b1d36390c5fb880952ba415e453/4167_27-09-2019_w.jpg,extensive,4\n",
            "106,4175,26/09/2019,/rails/active_storage/blobs/eyJfcmFpbHMiOnsibWVzc2FnZSI6IkJBaHBBaWtRIiwiZXhwIjpudWxsLCJwdXIiOiJibG9iX2lkIn19--c39cd759493a75531360fa31b65ca43537404507/4175_26-09-2019_w.jpg,substantial,3\n",
            "107,4179,26/09/2019,/rails/active_storage/blobs/eyJfcmFpbHMiOnsibWVzc2FnZSI6IkJBaHBBaTBRIiwiZXhwIjpudWxsLCJwdXIiOiJibG9iX2lkIn19--f0517e98aadcf5d409528a82a4047fea6a002ca1/4179_26-09-2019_w.jpg,substantial,3\n",
            "108,4180,26/09/2019,/rails/active_storage/blobs/eyJfcmFpbHMiOnsibWVzc2FnZSI6IkJBaHBBaTRRIiwiZXhwIjpudWxsLCJwdXIiOiJibG9iX2lkIn19--4ceabeba0395702e06fe465bd69cdf5bd2465044/4180_26-09-2019_w.jpg,a lot,2\n",
            "109,4182,26/09/2019,/rails/active_storage/blobs/eyJfcmFpbHMiOnsibWVzc2FnZSI6IkJBaHBBakFRIiwiZXhwIjpudWxsLCJwdXIiOiJibG9iX2lkIn19--ef90320d8c8dd459ffc0bba53a39a5e716885328/4182_26-09-2019_w.jpg,substantial,3\n",
            "110,4184,24/09/2019,/rails/active_storage/blobs/eyJfcmFpbHMiOnsibWVzc2FnZSI6IkJBaHBBaklRIiwiZXhwIjpudWxsLCJwdXIiOiJibG9iX2lkIn19--6223a7feec05fa46e6a5c506cd55f7d59a8d21e4/4184_24-09-2019_w.jpg,a lot,2\n",
            "111,4189,23/09/2019,/rails/active_storage/blobs/eyJfcmFpbHMiOnsibWVzc2FnZSI6IkJBaHBBamNRIiwiZXhwIjpudWxsLCJwdXIiOiJibG9iX2lkIn19--5b1673e112795afe0a7fa4923f1330585f6ebb1f/4189_23-09-2019_w.jpg,none,0\n",
            "112,4191,22/09/2019,/rails/active_storage/blobs/eyJfcmFpbHMiOnsibWVzc2FnZSI6IkJBaHBBamtRIiwiZXhwIjpudWxsLCJwdXIiOiJibG9iX2lkIn19--d4f9f2e9e23ddc321b91f0f136beed0a7bae23be/4191_22-09-2019_w.jpg,minimal,1\n",
            "113,4193,20/09/2019,/rails/active_storage/blobs/eyJfcmFpbHMiOnsibWVzc2FnZSI6IkJBaHBBanNRIiwiZXhwIjpudWxsLCJwdXIiOiJibG9iX2lkIn19--9fb1ce4d61cb06c0633819fba3a8f1ea0f6a5803/4193_20-09-2019_w.jpg,none,0\n",
            "114,4203,16/09/2019,/rails/active_storage/blobs/eyJfcmFpbHMiOnsibWVzc2FnZSI6IkJBaHBBa1VRIiwiZXhwIjpudWxsLCJwdXIiOiJibG9iX2lkIn19--8b090112bbf5956fc0c8cd370c2532331f48d726/4203_16-09-2019_w.jpg,minimal,1\n",
            "115,4391,06/10/2019,/rails/active_storage/blobs/eyJfcmFpbHMiOnsibWVzc2FnZSI6IkJBaHBBZ0VSIiwiZXhwIjpudWxsLCJwdXIiOiJibG9iX2lkIn19--e03f636320c92a93c35199aa83b8c23598dcd84b/4391_06-10-2019_t.jpg,extensive,4\n",
            "116,4422,02/10/2019,/rails/active_storage/blobs/eyJfcmFpbHMiOnsibWVzc2FnZSI6IkJBaHBBaUFSIiwiZXhwIjpudWxsLCJwdXIiOiJibG9iX2lkIn19--7a38261b2fc9e6ca945eb915f4d3dec8e49479a8/4422_02-10-2019_e.jpg,a lot,2\n",
            "117,4425,02/09/2019,/rails/active_storage/blobs/eyJfcmFpbHMiOnsibWVzc2FnZSI6IkJBaHBBaU1SIiwiZXhwIjpudWxsLCJwdXIiOiJibG9iX2lkIn19--0ec0cb406f1d36f2a7e13aa3dfe082f200f9593b/4425_02-09-2019_e.jpg,minimal,1\n",
            "118,4431,04/10/2019,/rails/active_storage/blobs/eyJfcmFpbHMiOnsibWVzc2FnZSI6IkJBaHBBaWtSIiwiZXhwIjpudWxsLCJwdXIiOiJibG9iX2lkIn19--c434d1dbf8ab5e90f54ab6fed12336284bedd8c8/4431_04-10-2019_e.jpg,a lot,2\n",
            "119,4432,04/10/2019,/rails/active_storage/blobs/eyJfcmFpbHMiOnsibWVzc2FnZSI6IkJBaHBBaW9SIiwiZXhwIjpudWxsLCJwdXIiOiJibG9iX2lkIn19--ff5937efccba34021c03cab09303d1f06e60cd44/4432_04-10-2019_e.jpg,a lot,2\n",
            "120,4433,30/09/2019,/rails/active_storage/blobs/eyJfcmFpbHMiOnsibWVzc2FnZSI6IkJBaHBBaXNSIiwiZXhwIjpudWxsLCJwdXIiOiJibG9iX2lkIn19--436410578f7fe63ea119c584742019ed8a9de723/4433_30-09-2019_e.jpg,substantial,3\n",
            "121,4440,07/10/2019,/rails/active_storage/blobs/eyJfcmFpbHMiOnsibWVzc2FnZSI6IkJBaHBBaklSIiwiZXhwIjpudWxsLCJwdXIiOiJibG9iX2lkIn19--b2fd2f2c622825a74a05087b4ef7cb160c1a567e/4440_07-10-2019_e.jpg,substantial,3\n",
            "122,4445,04/10/2019,/rails/active_storage/blobs/eyJfcmFpbHMiOnsibWVzc2FnZSI6IkJBaHBBamNSIiwiZXhwIjpudWxsLCJwdXIiOiJibG9iX2lkIn19--076c2d9acd121180daa8a39084141f4e52d68ef2/4445_04-10-2019_w.jpg,a lot,2\n",
            "123,4461,05/10/2019,/rails/active_storage/blobs/eyJfcmFpbHMiOnsibWVzc2FnZSI6IkJBaHBBa2NSIiwiZXhwIjpudWxsLCJwdXIiOiJibG9iX2lkIn19--51edffe3430f50c5414f3c7e3bd2cf9567fd21ff/4461_05-10-2019_w.jpg,a lot,2\n",
            "124,4503,12/10/2019,/rails/active_storage/blobs/eyJfcmFpbHMiOnsibWVzc2FnZSI6IkJBaHBBbkVSIiwiZXhwIjpudWxsLCJwdXIiOiJibG9iX2lkIn19--e6d477297a9431af4a2f948106b7c44d3989bafa/4503_12-10-2019_i.jpg,substantial,3\n",
            "125,4571,10/10/2019,/rails/active_storage/blobs/eyJfcmFpbHMiOnsibWVzc2FnZSI6IkJBaHBBclVSIiwiZXhwIjpudWxsLCJwdXIiOiJibG9iX2lkIn19--f719525c2c54a7030d46d7e8d5878bc3d1e78520/4571_10-10-2019_w.jpg,extensive,4\n",
            "126,4573,12/10/2019,/rails/active_storage/blobs/eyJfcmFpbHMiOnsibWVzc2FnZSI6IkJBaHBBcmNSIiwiZXhwIjpudWxsLCJwdXIiOiJibG9iX2lkIn19--b2acafaae61fae750c2d377939e0c16baa620aed/4573_12-10-2019_w.jpg,substantial,3\n",
            "127,4645,18/10/2019,/rails/active_storage/blobs/eyJfcmFpbHMiOnsibWVzc2FnZSI6IkJBaHBBdjhSIiwiZXhwIjpudWxsLCJwdXIiOiJibG9iX2lkIn19--8e5f84e08345513ff90cb65c0f14dd535a1fc6c8/4645_18-10-2019_t.jpg,substantial,3\n",
            "128,4647,19/10/2019,/rails/active_storage/blobs/eyJfcmFpbHMiOnsibWVzc2FnZSI6IkJBaHBBZ0VTIiwiZXhwIjpudWxsLCJwdXIiOiJibG9iX2lkIn19--2d49c4d6a6416732ce54deba4397ef87ccf32e1d/4647_19-10-2019_t.jpg,substantial,3\n",
            "129,4651,17/10/2019,/rails/active_storage/blobs/eyJfcmFpbHMiOnsibWVzc2FnZSI6IkJBaHBBZ1VTIiwiZXhwIjpudWxsLCJwdXIiOiJibG9iX2lkIn19--b10cd2c32b3391a9f7489f116b67eb0a0d59286d/4651_17-10-2019_e.jpg,extensive,4\n",
            "130,4653,18/10/2019,/rails/active_storage/blobs/eyJfcmFpbHMiOnsibWVzc2FnZSI6IkJBaHBBZ2NTIiwiZXhwIjpudWxsLCJwdXIiOiJibG9iX2lkIn19--b45682b108b734db2a3ecc32c98b5f2ca0289cc3/4653_18-10-2019_e.jpg,extensive,4\n",
            "131,4654,18/10/2019,/rails/active_storage/blobs/eyJfcmFpbHMiOnsibWVzc2FnZSI6IkJBaHBBZ2dTIiwiZXhwIjpudWxsLCJwdXIiOiJibG9iX2lkIn19--9f36d8636170c44a6782609d1eea3b542d868999/4654_18-10-2019_e.jpg,substantial,3\n",
            "132,4703,05/09/2019,/rails/active_storage/blobs/eyJfcmFpbHMiOnsibWVzc2FnZSI6IkJBaHBBamtTIiwiZXhwIjpudWxsLCJwdXIiOiJibG9iX2lkIn19--250ff5e033c8cf4fd3bd7d5807a85bc15c54042a/4703_05-09-2019_e.jpg,a lot,2\n",
            "133,4725,16/10/2019,/rails/active_storage/blobs/eyJfcmFpbHMiOnsibWVzc2FnZSI6IkJBaHBBazhTIiwiZXhwIjpudWxsLCJwdXIiOiJibG9iX2lkIn19--0aa552d61ab69c4d3ee2303082562e9e0353f937/4725_16-10-2019_w.jpg,extensive,4\n",
            "134,4727,21/10/2019,/rails/active_storage/blobs/eyJfcmFpbHMiOnsibWVzc2FnZSI6IkJBaHBBbEVTIiwiZXhwIjpudWxsLCJwdXIiOiJibG9iX2lkIn19--da27e621ba6f2bf51e9fb4262245b3fd38f6443b/4727_21-10-2019_w.jpg,a lot,2\n",
            "135,4729,16/10/2019,/rails/active_storage/blobs/eyJfcmFpbHMiOnsibWVzc2FnZSI6IkJBaHBBbE1TIiwiZXhwIjpudWxsLCJwdXIiOiJibG9iX2lkIn19--1592557ebd8f5c08ca72b2f53fbc86024cda718e/4729_16-10-2019_t.jpg,extensive,4\n",
            "136,4773,23/10/2019,/rails/active_storage/blobs/eyJfcmFpbHMiOnsibWVzc2FnZSI6IkJBaHBBbjhTIiwiZXhwIjpudWxsLCJwdXIiOiJibG9iX2lkIn19--3415a8a81631a2a5a80f4e5dac7f3f3940fdc660/4773_23-10-2019_e.jpg,a lot,2\n",
            "137,4774,23/10/2019,/rails/active_storage/blobs/eyJfcmFpbHMiOnsibWVzc2FnZSI6IkJBaHBBb0FTIiwiZXhwIjpudWxsLCJwdXIiOiJibG9iX2lkIn19--00728f0a231f0808001cf0ad280d68aca7692514/4774_23-10-2019_e.jpg,a lot,2\n",
            "138,4780,27/10/2019,/rails/active_storage/blobs/eyJfcmFpbHMiOnsibWVzc2FnZSI6IkJBaHBBb1lTIiwiZXhwIjpudWxsLCJwdXIiOiJibG9iX2lkIn19--600ce145ee35d13da23c4b1077b409b252051b13/4780_27-10-2019_e.jpg,substantial,3\n",
            "139,4782,16/10/2019,/rails/active_storage/blobs/eyJfcmFpbHMiOnsibWVzc2FnZSI6IkJBaHBBb2dTIiwiZXhwIjpudWxsLCJwdXIiOiJibG9iX2lkIn19--ee3b9b62336ef926508d40161a6b8475b9b2e53a/4782_16-10-2019_e.jpg,extensive,4\n",
            "140,4794,31/10/2019,/rails/active_storage/blobs/eyJfcmFpbHMiOnsibWVzc2FnZSI6IkJBaHBBcFFTIiwiZXhwIjpudWxsLCJwdXIiOiJibG9iX2lkIn19--61f590274ba20dd1de92f203d3cc9d091bf10e7e/4794_31-10-2019_i.jpg,minimal,1\n",
            "141,4795,30/10/2019,/rails/active_storage/blobs/eyJfcmFpbHMiOnsibWVzc2FnZSI6IkJBaHBBcFVTIiwiZXhwIjpudWxsLCJwdXIiOiJibG9iX2lkIn19--9996dee84ed8af9fe9a59695aad3c5460e9b73cc/4795_30-10-2019_i.jpg,minimal,1\n",
            "142,4797,31/10/2019,/rails/active_storage/blobs/eyJfcmFpbHMiOnsibWVzc2FnZSI6IkJBaHBBcGNTIiwiZXhwIjpudWxsLCJwdXIiOiJibG9iX2lkIn19--1357ea0e90802877ee09f428cb056c52c945cf25/4797_31-10-2019_i.jpg,minimal,1\n",
            "143,4803,21/10/2019,/rails/active_storage/blobs/eyJfcmFpbHMiOnsibWVzc2FnZSI6IkJBaHBBcDBTIiwiZXhwIjpudWxsLCJwdXIiOiJibG9iX2lkIn19--875e57e8b96ea5ab6b7ee46bf294d079a1348f05/4803_21-10-2019_w.jpg,a lot,2\n",
            "144,4805,22/10/2019,/rails/active_storage/blobs/eyJfcmFpbHMiOnsibWVzc2FnZSI6IkJBaHBBcDhTIiwiZXhwIjpudWxsLCJwdXIiOiJibG9iX2lkIn19--4974d058ec29b70a5a96a62c5661c10331b50992/4805_22-10-2019_w.jpg,a lot,2\n",
            "145,4825,29/10/2019,/rails/active_storage/blobs/eyJfcmFpbHMiOnsibWVzc2FnZSI6IkJBaHBBck1TIiwiZXhwIjpudWxsLCJwdXIiOiJibG9iX2lkIn19--189bc303da5489048e80f4739220c4f2f4323df7/4825_29-10-2019_w.jpg,minimal,1\n",
            "146,4835,03/11/2019,/rails/active_storage/blobs/eyJfcmFpbHMiOnsibWVzc2FnZSI6IkJBaHBBcjBTIiwiZXhwIjpudWxsLCJwdXIiOiJibG9iX2lkIn19--445a31e729f140caa7c1219fec27726dc5c95b67/4835_03-11-2019_w.jpg,substantial,3\n",
            "147,4842,03/11/2019,/rails/active_storage/blobs/eyJfcmFpbHMiOnsibWVzc2FnZSI6IkJBaHBBc1FTIiwiZXhwIjpudWxsLCJwdXIiOiJibG9iX2lkIn19--a58b9e1b9ef5e335ae3e1a301e50cf8597ffacef/4842_03-11-2019_w.jpg,substantial,3\n",
            "148,4843,03/11/2019,/rails/active_storage/blobs/eyJfcmFpbHMiOnsibWVzc2FnZSI6IkJBaHBBc1VTIiwiZXhwIjpudWxsLCJwdXIiOiJibG9iX2lkIn19--dd6755afab3930202a40ec09a772471f509788af/4843_03-11-2019_w.jpg,substantial,3\n",
            "149,4846,03/11/2019,/rails/active_storage/blobs/eyJfcmFpbHMiOnsibWVzc2FnZSI6IkJBaHBBc2dTIiwiZXhwIjpudWxsLCJwdXIiOiJibG9iX2lkIn19--4acc34191e25cf203ff0224cb35da26ebb4e6004/4846_03-11-2019_w.jpg,substantial,3\n",
            "150,4847,03/11/2019,/rails/active_storage/blobs/eyJfcmFpbHMiOnsibWVzc2FnZSI6IkJBaHBBc2tTIiwiZXhwIjpudWxsLCJwdXIiOiJibG9iX2lkIn19--ec917d459f80342cc8351323f26f006e88fabc44/4847_03-11-2019_w.jpg,substantial,3\n",
            "151,4860,09/11/2019,/rails/active_storage/blobs/eyJfcmFpbHMiOnsibWVzc2FnZSI6IkJBaHBBdFlTIiwiZXhwIjpudWxsLCJwdXIiOiJibG9iX2lkIn19--9a4bbaa7d9616b20a5c7f4799d9c72e6571c2cfd/4860_09-11-2019_t.jpg,a lot,2\n",
            "152,4875,17/11/2019,/rails/active_storage/blobs/eyJfcmFpbHMiOnsibWVzc2FnZSI6IkJBaHBBdVVTIiwiZXhwIjpudWxsLCJwdXIiOiJibG9iX2lkIn19--07d78b56a7115f98b921e18a552a1c98ae829dc6/4875_17-11-2019_t.jpg,minimal,1\n",
            "153,4891,31/10/2019,/rails/active_storage/blobs/eyJfcmFpbHMiOnsibWVzc2FnZSI6IkJBaHBBdlVTIiwiZXhwIjpudWxsLCJwdXIiOiJibG9iX2lkIn19--c53f2328024abfda4fc733944eae12f89623db6d/4891_31-10-2019_e.jpg,minimal,1\n",
            "154,4892,31/10/2019,/rails/active_storage/blobs/eyJfcmFpbHMiOnsibWVzc2FnZSI6IkJBaHBBdllTIiwiZXhwIjpudWxsLCJwdXIiOiJibG9iX2lkIn19--c774e85397ddcecb61df0a32b5573a836ea8c3c2/4892_31-10-2019_e.jpg,minimal,1\n",
            "155,4894,02/11/2019,/rails/active_storage/blobs/eyJfcmFpbHMiOnsibWVzc2FnZSI6IkJBaHBBdmdTIiwiZXhwIjpudWxsLCJwdXIiOiJibG9iX2lkIn19--12eb2a8e049fa4fb102cd2d2eb8ecdf520f8d97a/4894_02-11-2019_e.jpg,minimal,1\n",
            "156,4897,29/09/2019,/rails/active_storage/blobs/eyJfcmFpbHMiOnsibWVzc2FnZSI6IkJBaHBBdnNTIiwiZXhwIjpudWxsLCJwdXIiOiJibG9iX2lkIn19--8ade07129317fb116221f20dd8be931124c981d8/4897_29-09-2019_e.jpg,substantial,3\n",
            "157,4899,30/10/2019,/rails/active_storage/blobs/eyJfcmFpbHMiOnsibWVzc2FnZSI6IkJBaHBBdjBTIiwiZXhwIjpudWxsLCJwdXIiOiJibG9iX2lkIn19--f49401049d2f17fd6aa3c97c38ffd29e92a249b5/4899_30-10-2019_e.jpg,minimal,1\n",
            "158,4914,15/11/2019,/rails/active_storage/blobs/eyJfcmFpbHMiOnsibWVzc2FnZSI6IkJBaHBBZ3dUIiwiZXhwIjpudWxsLCJwdXIiOiJibG9iX2lkIn19--fabd795198e8528d732851e12c864cd722244816/4914_15-11-2019_e.jpg,a lot,2\n",
            "159,4915,16/11/2019,/rails/active_storage/blobs/eyJfcmFpbHMiOnsibWVzc2FnZSI6IkJBaHBBZzBUIiwiZXhwIjpudWxsLCJwdXIiOiJibG9iX2lkIn19--f67e1524a4b11a9a9cb3f26cfd0223f4fe535f83/4915_16-11-2019_e.jpg,a lot,2\n",
            "160,4916,16/11/2019,/rails/active_storage/blobs/eyJfcmFpbHMiOnsibWVzc2FnZSI6IkJBaHBBZzRUIiwiZXhwIjpudWxsLCJwdXIiOiJibG9iX2lkIn19--89d2ab56472bdc516147bde9d67dc18ccceb016e/4916_16-11-2019_e.jpg,a lot,2\n",
            "161,4920,05/11/2019,/rails/active_storage/blobs/eyJfcmFpbHMiOnsibWVzc2FnZSI6IkJBaHBBaElUIiwiZXhwIjpudWxsLCJwdXIiOiJibG9iX2lkIn19--e27a393a992f309197c924fd7824a8ebeb607466/4920_05-11-2019_w.jpg,a lot,2\n",
            "162,4934,07/11/2019,/rails/active_storage/blobs/eyJfcmFpbHMiOnsibWVzc2FnZSI6IkJBaHBBaUFUIiwiZXhwIjpudWxsLCJwdXIiOiJibG9iX2lkIn19--a257a3296a917c9ccaa276a037959d5e46d6e1ad/4934_07-11-2019_w.jpg,a lot,2\n",
            "163,4935,10/11/2019,/rails/active_storage/blobs/eyJfcmFpbHMiOnsibWVzc2FnZSI6IkJBaHBBaUVUIiwiZXhwIjpudWxsLCJwdXIiOiJibG9iX2lkIn19--cd642bd1a29ec9d67bc331dd87acc9f8743470f0/4935_10-11-2019_w.jpg,minimal,1\n",
            "164,4937,15/11/2019,/rails/active_storage/blobs/eyJfcmFpbHMiOnsibWVzc2FnZSI6IkJBaHBBaU1UIiwiZXhwIjpudWxsLCJwdXIiOiJibG9iX2lkIn19--bfa68c5ef7f9b4f52d86374b5102b59c130fe2ee/4937_15-11-2019_w.jpg,a lot,2\n",
            "165,4945,26/10/2019,/rails/active_storage/blobs/eyJfcmFpbHMiOnsibWVzc2FnZSI6IkJBaHBBaXNUIiwiZXhwIjpudWxsLCJwdXIiOiJibG9iX2lkIn19--3ba994ac781f48f679b6ad5bc70ef5f2fed536c1/4945_26-10-2019_e.jpg,substantial,3\n",
            "166,4947,26/10/2019,/rails/active_storage/blobs/eyJfcmFpbHMiOnsibWVzc2FnZSI6IkJBaHBBaTBUIiwiZXhwIjpudWxsLCJwdXIiOiJibG9iX2lkIn19--dfdd264158741e76f1ba268af677d303302c6db0/4947_26-10-2019_e.jpg,substantial,3\n",
            "167,4948,09/12/2019,/rails/active_storage/blobs/eyJfcmFpbHMiOnsibWVzc2FnZSI6IkJBaHBBaTRUIiwiZXhwIjpudWxsLCJwdXIiOiJibG9iX2lkIn19--24647d399489e23e813fe954f9b53a78abc04d07/4948_09-12-2019_t.jpg,substantial,3\n",
            "168,4980,29/12/2019,/rails/active_storage/blobs/eyJfcmFpbHMiOnsibWVzc2FnZSI6IkJBaHBBazRUIiwiZXhwIjpudWxsLCJwdXIiOiJibG9iX2lkIn19--5fa26825ee497d165cdad9f195ea1078a0aa951c/4980_29-12-2019_t.jpg,substantial,3\n",
            "169,4983,01/01/2020,/rails/active_storage/blobs/eyJfcmFpbHMiOnsibWVzc2FnZSI6IkJBaHBBbEVUIiwiZXhwIjpudWxsLCJwdXIiOiJibG9iX2lkIn19--5a143306fcea23511f4795f40c7d639e22de33e1/4983_01-01-2020_t.jpg,a lot,2\n",
            "170,5025,25/12/2019,/rails/active_storage/blobs/eyJfcmFpbHMiOnsibWVzc2FnZSI6IkJBaHBBbnNUIiwiZXhwIjpudWxsLCJwdXIiOiJibG9iX2lkIn19--cce4091b72fb3d2a224442eedbdde86f748d144d/5025_25-12-2019_w.jpg,substantial,3\n",
            "171,5069,25/12/2019,/rails/active_storage/blobs/eyJfcmFpbHMiOnsibWVzc2FnZSI6IkJBaHBBcWNUIiwiZXhwIjpudWxsLCJwdXIiOiJibG9iX2lkIn19--4621f1d1eeb29bbb987ed007b7263845af21e97d/5069_25-12-2019_w.jpg,substantial,3\n",
            "172,5082,03/01/2020,/rails/active_storage/blobs/eyJfcmFpbHMiOnsibWVzc2FnZSI6IkJBaHBBclFUIiwiZXhwIjpudWxsLCJwdXIiOiJibG9iX2lkIn19--b1a750aac81b6f29f5d17977996943e1cfd764f2/5082_03-01-2020_w.jpg,minimal,1\n",
            "173,5106,29/12/2019,/rails/active_storage/blobs/eyJfcmFpbHMiOnsibWVzc2FnZSI6IkJBaHBBczBUIiwiZXhwIjpudWxsLCJwdXIiOiJibG9iX2lkIn19--191fded9176c04ef983e7f53d69b94abb23e8f9d/5106_29-12-2019_e.jpg,substantial,3\n",
            "174,5118,30/12/2019,/rails/active_storage/blobs/eyJfcmFpbHMiOnsibWVzc2FnZSI6IkJBaHBBdGtUIiwiZXhwIjpudWxsLCJwdXIiOiJibG9iX2lkIn19--72d35b2fbb21e6deb400adc4f48bc361b8a12d35/5118_30-12-2019_t.jpg,a lot,2\n",
            "175,5119,30/12/2019,/rails/active_storage/blobs/eyJfcmFpbHMiOnsibWVzc2FnZSI6IkJBaHBBdG9UIiwiZXhwIjpudWxsLCJwdXIiOiJibG9iX2lkIn19--fbc75386be8390e5cf9d338d8946966fb828caef/5119_30-12-2019_t.jpg,a lot,2\n",
            "176,5124,12/01/2020,/rails/active_storage/blobs/eyJfcmFpbHMiOnsibWVzc2FnZSI6IkJBaHBBdDhUIiwiZXhwIjpudWxsLCJwdXIiOiJibG9iX2lkIn19--99f1c943dd3922aaf756c4f8e44cefa5ae4373f6/5124_12-01-2020_i.jpg,substantial,3\n",
            "177,5125,12/01/2020,/rails/active_storage/blobs/eyJfcmFpbHMiOnsibWVzc2FnZSI6IkJBaHBBdUFUIiwiZXhwIjpudWxsLCJwdXIiOiJibG9iX2lkIn19--d40c384f435a9e2f0566af79932ca0e45814f610/5125_12-01-2020_i.jpg,substantial,3\n",
            "178,5129,09/01/2020,/rails/active_storage/blobs/eyJfcmFpbHMiOnsibWVzc2FnZSI6IkJBaHBBdVFUIiwiZXhwIjpudWxsLCJwdXIiOiJibG9iX2lkIn19--fb5abae835c68c0b06246232e8e35d66c77794cc/5129_09-01-2020_w.jpg,substantial,3\n",
            "179,5144,10/01/2020,/rails/active_storage/blobs/eyJfcmFpbHMiOnsibWVzc2FnZSI6IkJBaHBBdk1UIiwiZXhwIjpudWxsLCJwdXIiOiJibG9iX2lkIn19--b1af6e22d4c385ce52f26a247937c5943fe8f1ed/5144_10-01-2020_e.jpg,a lot,2\n",
            "180,5145,11/01/2020,/rails/active_storage/blobs/eyJfcmFpbHMiOnsibWVzc2FnZSI6IkJBaHBBdlFUIiwiZXhwIjpudWxsLCJwdXIiOiJibG9iX2lkIn19--51ed4a6b9e0e90a39c530a5fd4b7ff7df939b7ca/5145_11-01-2020_e.jpg,extensive,4\n",
            "181,5149,21/01/2020,/rails/active_storage/blobs/eyJfcmFpbHMiOnsibWVzc2FnZSI6IkJBaHBBdmdUIiwiZXhwIjpudWxsLCJwdXIiOiJibG9iX2lkIn19--3c5fe0b10395aa5fe5038ecbbdcbcc048e02ba45/5149_21-01-2020_t.jpg,a lot,2\n",
            "182,5160,18/01/2020,/rails/active_storage/blobs/eyJfcmFpbHMiOnsibWVzc2FnZSI6IkJBaHBBZ01VIiwiZXhwIjpudWxsLCJwdXIiOiJibG9iX2lkIn19--eb0e053981539428de777bbd3590eedc6b607394/5160_18-01-2020_w.jpg,a lot,2\n",
            "183,5168,29/12/2019,/rails/active_storage/blobs/eyJfcmFpbHMiOnsibWVzc2FnZSI6IkJBaHBBZ3NVIiwiZXhwIjpudWxsLCJwdXIiOiJibG9iX2lkIn19--2463b61da5650ad01ed16f9fcea0a98c2ae18939/5168_29-12-2019_e.jpg,substantial,3\n",
            "184,5170,21/01/2020,/rails/active_storage/blobs/eyJfcmFpbHMiOnsibWVzc2FnZSI6IkJBaHBBZzBVIiwiZXhwIjpudWxsLCJwdXIiOiJibG9iX2lkIn19--4828e6cb2d1087345885e0e4425efa87139713d0/5170_21-01-2020_e.jpg,a lot,2\n",
            "185,5172,25/01/2020,/rails/active_storage/blobs/eyJfcmFpbHMiOnsibWVzc2FnZSI6IkJBaHBBZzhVIiwiZXhwIjpudWxsLCJwdXIiOiJibG9iX2lkIn19--5ed427f5ebc5588905f801d5937ec236db78f988/5172_25-01-2020_t.jpg,some,1\n",
            "186,5205,04/02/2020,/rails/active_storage/blobs/eyJfcmFpbHMiOnsibWVzc2FnZSI6IkJBaHBBakVVIiwiZXhwIjpudWxsLCJwdXIiOiJibG9iX2lkIn19--00af85f91df85b1245480dedda52235f6a9da6f1/5205_04-02-2020_w.jpg,extensive,4\n",
            "187,5210,08/02/2020,/rails/active_storage/blobs/eyJfcmFpbHMiOnsibWVzc2FnZSI6IkJBaHBBallVIiwiZXhwIjpudWxsLCJwdXIiOiJibG9iX2lkIn19--0383f4fa5267dc6391083eb8373bbc762336cfc5/5210_08-02-2020_e.jpg,some,1\n",
            "188,5220,14/02/2020,/rails/active_storage/blobs/eyJfcmFpbHMiOnsibWVzc2FnZSI6IkJBaHBBa0FVIiwiZXhwIjpudWxsLCJwdXIiOiJibG9iX2lkIn19--df3f2c8dc460066bf402ae4ead37ea78940ca541/5220_14-02-2020_w.jpg,extensive,4\n",
            "189,5227,15/02/2020,/rails/active_storage/blobs/eyJfcmFpbHMiOnsibWVzc2FnZSI6IkJBaHBBa2NVIiwiZXhwIjpudWxsLCJwdXIiOiJibG9iX2lkIn19--e767e7702688384bbd88ca2e75ca17bdb855c4fe/5227_15-02-2020_i.jpg,extensive,4\n",
            "190,5232,13/02/2020,/rails/active_storage/blobs/eyJfcmFpbHMiOnsibWVzc2FnZSI6IkJBaHBBa3dVIiwiZXhwIjpudWxsLCJwdXIiOiJibG9iX2lkIn19--3cf1006a90b20fca9f422696e644ea5d083d9db1/5232_13-02-2020_e.jpg,extensive,4\n",
            "191,5253,01/03/2020,/rails/active_storage/blobs/eyJfcmFpbHMiOnsibWVzc2FnZSI6IkJBaHBBbUVVIiwiZXhwIjpudWxsLCJwdXIiOiJibG9iX2lkIn19--9210376bb09502b2477591097d4a16e930b5bbf5/5253_01-03-2020_w.jpg,extensive,4\n",
            "192,5255,02/03/2020,/rails/active_storage/blobs/eyJfcmFpbHMiOnsibWVzc2FnZSI6IkJBaHBBbU1VIiwiZXhwIjpudWxsLCJwdXIiOiJibG9iX2lkIn19--6535982c845d90f5f0422720ddba4d98b0278fa2/5255_02-03-2020_w.jpg,substantial,3\n",
            "193,5287,08/03/2020,/rails/active_storage/blobs/eyJfcmFpbHMiOnsibWVzc2FnZSI6IkJBaHBBb01VIiwiZXhwIjpudWxsLCJwdXIiOiJibG9iX2lkIn19--fc214e8687bc3c5dd31eb2028a719151a90ec8f1/5287_08-03-2020_t.jpg,substantial,3\n",
            "194,5289,11/03/2020,/rails/active_storage/blobs/eyJfcmFpbHMiOnsibWVzc2FnZSI6IkJBaHBBb1VVIiwiZXhwIjpudWxsLCJwdXIiOiJibG9iX2lkIn19--583b80ef176f06ff748647faeaa35ad778181462/5289_11-03-2020_t.jpg,substantial,3\n",
            "195,5296,17/03/2020,/rails/active_storage/blobs/eyJfcmFpbHMiOnsibWVzc2FnZSI6IkJBaHBBb3dVIiwiZXhwIjpudWxsLCJwdXIiOiJibG9iX2lkIn19--10ad13e0ce9490948fa98c8ff7a4e26197921099/5296_17-03-2020_e.jpg,none,0\n",
            "196,5302,13/03/2020,/rails/active_storage/blobs/eyJfcmFpbHMiOnsibWVzc2FnZSI6IkJBaHBBcElVIiwiZXhwIjpudWxsLCJwdXIiOiJibG9iX2lkIn19--48bfa489116d29cee00d0633878a8a773fc878d3/5302_13-03-2020_w.jpg,substantial,3\n",
            "197,5371,29/03/2020,/rails/active_storage/blobs/eyJfcmFpbHMiOnsibWVzc2FnZSI6IkJBaHBBdGNVIiwiZXhwIjpudWxsLCJwdXIiOiJibG9iX2lkIn19--f74af650a03723cbc2b994ae1495057e1b444dad/5371_29-03-2020_w.jpg,none,0\n",
            "198,5398,01/06/1990,/rails/active_storage/blobs/eyJfcmFpbHMiOnsibWVzc2FnZSI6IkJBaHBBdklVIiwiZXhwIjpudWxsLCJwdXIiOiJibG9iX2lkIn19--1bcdd407404864c4968717ab7e66d8594d068791/5398_01-06-1990_t.jpg,none,0\n",
            "199,5405,15/04/2020,/rails/active_storage/blobs/eyJfcmFpbHMiOnsibWVzc2FnZSI6IkJBaHBBdmtVIiwiZXhwIjpudWxsLCJwdXIiOiJibG9iX2lkIn19--bbd9bcb8aea163dabf4356752dbf8a4a3eef82a6/5405_15-04-2020_w.jpg,none,0\n",
            "200,5428,02/10/2019,/rails/active_storage/blobs/eyJfcmFpbHMiOnsibWVzc2FnZSI6IkJBaHBBaEFWIiwiZXhwIjpudWxsLCJwdXIiOiJibG9iX2lkIn19--95c32becacbeb634476b26961f24c86f2b0021ae/5428_02-10-2019_e.jpg,none,0\n",
            "201,5811,20/07/2002,/rails/active_storage/blobs/eyJfcmFpbHMiOnsibWVzc2FnZSI6IkJBaHBBbzhXIiwiZXhwIjpudWxsLCJwdXIiOiJibG9iX2lkIn19--23dc4d0dcaca2652f3c828b94e7cc36c912acef2/5811_20-07-2002_e.jpg,none,0\n",
            "202,5813,20/07/2002,/rails/active_storage/blobs/eyJfcmFpbHMiOnsibWVzc2FnZSI6IkJBaHBBcEVXIiwiZXhwIjpudWxsLCJwdXIiOiJibG9iX2lkIn19--542b304051dc208b8f6e0f34368809878d3be989/5813_20-07-2002_e.jpg,none,0\n",
            "203,5957,02/06/2013,/rails/active_storage/blobs/eyJfcmFpbHMiOnsibWVzc2FnZSI6IkJBaHBBaUVYIiwiZXhwIjpudWxsLCJwdXIiOiJibG9iX2lkIn19--ed122d9d5d3db7780eceba90e3f103613f6fc0ff/5957_02-06-2013_e.jpg,none,0\n",
            "204,5958,02/06/2013,/rails/active_storage/blobs/eyJfcmFpbHMiOnsibWVzc2FnZSI6IkJBaHBBaUlYIiwiZXhwIjpudWxsLCJwdXIiOiJibG9iX2lkIn19--a4f42ae9c146a35785797408b7a04b03640ad803/5958_02-06-2013_e.jpg,none,0\n",
            "205,5959,02/06/2013,/rails/active_storage/blobs/eyJfcmFpbHMiOnsibWVzc2FnZSI6IkJBaHBBaU1YIiwiZXhwIjpudWxsLCJwdXIiOiJibG9iX2lkIn19--c29803a58f868dc48765f5155559a58c747ad3e5/5959_02-06-2013_e.jpg,none,0\n",
            "206,5961,02/06/2013,/rails/active_storage/blobs/eyJfcmFpbHMiOnsibWVzc2FnZSI6IkJBaHBBaVVYIiwiZXhwIjpudWxsLCJwdXIiOiJibG9iX2lkIn19--d9cf12c53bc603368191deff9ecc7fc3d46dba44/5961_02-06-2013_e.jpg,none,0\n",
            "207,5964,02/06/2013,/rails/active_storage/blobs/eyJfcmFpbHMiOnsibWVzc2FnZSI6IkJBaHBBaWdYIiwiZXhwIjpudWxsLCJwdXIiOiJibG9iX2lkIn19--0f7b51e045683fcf3f53f713a8dd79f70b9b94a4/5964_02-06-2013_e.jpg,none,0\n",
            "208,6123,21/05/2020,/rails/active_storage/blobs/eyJfcmFpbHMiOnsibWVzc2FnZSI6IkJBaHBBc2NYIiwiZXhwIjpudWxsLCJwdXIiOiJibG9iX2lkIn19--99305b226f484683cba8d90ffb74c5c7da8e212c/6123_21-05-2020_w.jpg,none,0\n",
            "209,6185,06/06/2020,/rails/active_storage/blobs/eyJfcmFpbHMiOnsibWVzc2FnZSI6IkJBaHBBZ1VZIiwiZXhwIjpudWxsLCJwdXIiOiJibG9iX2lkIn19--69305c1c9f72869734f2f2ea02304ce551877cc4/6185_06-06-2020_e.jpg,none,0\n",
            "210,6289,11/07/2020,/rails/active_storage/blobs/eyJfcmFpbHMiOnsibWVzc2FnZSI6IkJBaHBBbTBZIiwiZXhwIjpudWxsLCJwdXIiOiJibG9iX2lkIn19--1f8e670d003f50e2a9d626b971ce823b815b7aa1/6289_11-07-2020_t.jpg,none,0\n",
            "211,6290,07/07/2020,/rails/active_storage/blobs/eyJfcmFpbHMiOnsibWVzc2FnZSI6IkJBaHBBbTRZIiwiZXhwIjpudWxsLCJwdXIiOiJibG9iX2lkIn19--bad9727278301ba522e5ad0ed6353784c774dff5/6290_07-07-2020_w.jpg,none,0\n",
            "212,6323,13/07/2020,/rails/active_storage/blobs/eyJfcmFpbHMiOnsibWVzc2FnZSI6IkJBaHBBbzhZIiwiZXhwIjpudWxsLCJwdXIiOiJibG9iX2lkIn19--8743a650e4cfd1154bfbec5fadb54a7c9d06fe22/6323_13-07-2020_t.jpg,none,0\n",
            "213,6325,19/07/2020,/rails/active_storage/blobs/eyJfcmFpbHMiOnsibWVzc2FnZSI6IkJBaHBBcEVZIiwiZXhwIjpudWxsLCJwdXIiOiJibG9iX2lkIn19--951c6c715986f160de875393f6b8d55233a0b57d/6325_19-07-2020_t.jpg,none,0\n",
            "214,6328,15/07/2020,/rails/active_storage/blobs/eyJfcmFpbHMiOnsibWVzc2FnZSI6IkJBaHBBcFFZIiwiZXhwIjpudWxsLCJwdXIiOiJibG9iX2lkIn19--db3be8830e3477b9e32abc63d0badc1118ed4aaa/6328_15-07-2020_w.jpg,none,0\n",
            "215,6342,20/07/2020,/rails/active_storage/blobs/eyJfcmFpbHMiOnsibWVzc2FnZSI6IkJBaHBBcUlZIiwiZXhwIjpudWxsLCJwdXIiOiJibG9iX2lkIn19--bca76396edfda069ed37684126feb11848545c84/6342_20-07-2020_w.jpg,none,0\n",
            "216,6361,13/07/2020,/rails/active_storage/blobs/eyJfcmFpbHMiOnsibWVzc2FnZSI6IkJBaHBBclVZIiwiZXhwIjpudWxsLCJwdXIiOiJibG9iX2lkIn19--49254da53829bd126586a7a08e14bb8c7dc9e222/6361_13-07-2020_i.jpg,none,0\n",
            "217,6362,13/07/2020,/rails/active_storage/blobs/eyJfcmFpbHMiOnsibWVzc2FnZSI6IkJBaHBBcllZIiwiZXhwIjpudWxsLCJwdXIiOiJibG9iX2lkIn19--b705c5659b27cc51f0514d4cb9a0eec5a59beec8/6362_13-07-2020_i.jpg,none,0\n",
            "218,6369,20/07/2020,/rails/active_storage/blobs/eyJfcmFpbHMiOnsibWVzc2FnZSI6IkJBaHBBcjBZIiwiZXhwIjpudWxsLCJwdXIiOiJibG9iX2lkIn19--4b600dd301b744f217eaea2d011793c43346cde2/6369_20-07-2020_e.jpg,none,0\n",
            "219,6380,21/07/2020,/rails/active_storage/blobs/eyJfcmFpbHMiOnsibWVzc2FnZSI6IkJBaHBBc2dZIiwiZXhwIjpudWxsLCJwdXIiOiJibG9iX2lkIn19--2691e05d047846649ba0f137bb5f2eed9f123e69/6380_21-07-2020_w.jpg,none,0\n",
            "220,6389,26/07/2020,/rails/active_storage/blobs/eyJfcmFpbHMiOnsibWVzc2FnZSI6IkJBaHBBdEVZIiwiZXhwIjpudWxsLCJwdXIiOiJibG9iX2lkIn19--7622ed5cf98b528e938d08b138d21811e341bc1d/6389_26-07-2020_w.jpg,some,1\n",
            "221,6400,28/07/2020,/rails/active_storage/blobs/eyJfcmFpbHMiOnsibWVzc2FnZSI6IkJBaHBBdHdZIiwiZXhwIjpudWxsLCJwdXIiOiJibG9iX2lkIn19--5cf04604f977917473ed508748ccb1b62ee2b001/6400_28-07-2020_t.jpg,a lot,2\n",
            "222,6402,29/07/2020,/rails/active_storage/blobs/eyJfcmFpbHMiOnsibWVzc2FnZSI6IkJBaHBBdDRZIiwiZXhwIjpudWxsLCJwdXIiOiJibG9iX2lkIn19--e34aaccf6380f7863ab91e742590dd663333c9e2/6402_29-07-2020_t.jpg,some,1\n",
            "223,6414,24/07/2020,/rails/active_storage/blobs/eyJfcmFpbHMiOnsibWVzc2FnZSI6IkJBaHBBdW9ZIiwiZXhwIjpudWxsLCJwdXIiOiJibG9iX2lkIn19--b4dadbf89ae6de384e03f5626e81ebee9a5ddf7e/6414_24-07-2020_e.jpg,none,0\n",
            "224,6415,24/07/2020,/rails/active_storage/blobs/eyJfcmFpbHMiOnsibWVzc2FnZSI6IkJBaHBBdXNZIiwiZXhwIjpudWxsLCJwdXIiOiJibG9iX2lkIn19--e6e52db991b2f29b97c20c3dfc89201753ef94cd/6415_24-07-2020_e.jpg,none,0\n",
            "225,6417,24/07/2020,/rails/active_storage/blobs/eyJfcmFpbHMiOnsibWVzc2FnZSI6IkJBaHBBdTBZIiwiZXhwIjpudWxsLCJwdXIiOiJibG9iX2lkIn19--5bcee6cac102875d0d5aa05280a264748e4800a2/6417_24-07-2020_e.jpg,none,0\n",
            "226,6420,26/07/2020,/rails/active_storage/blobs/eyJfcmFpbHMiOnsibWVzc2FnZSI6IkJBaHBBdkFZIiwiZXhwIjpudWxsLCJwdXIiOiJibG9iX2lkIn19--85fbe9be978b223bbe92a61ba12de146e590e2c3/6420_26-07-2020_e.jpg,none,0\n",
            "227,6421,26/07/2020,/rails/active_storage/blobs/eyJfcmFpbHMiOnsibWVzc2FnZSI6IkJBaHBBdkVZIiwiZXhwIjpudWxsLCJwdXIiOiJibG9iX2lkIn19--cbfeca7f90d39ebeb5a7bf55a054e33999699b19/6421_26-07-2020_e.jpg,none,0\n",
            "228,6442,27/07/2020,/rails/active_storage/blobs/eyJfcmFpbHMiOnsibWVzc2FnZSI6IkJBaHBBZ1laIiwiZXhwIjpudWxsLCJwdXIiOiJibG9iX2lkIn19--6920b4fed67ded2618cd59fb16724fc67023e8c2/6442_27-07-2020_e.jpg,extensive,4\n",
            "229,6447,28/07/2020,/rails/active_storage/blobs/eyJfcmFpbHMiOnsibWVzc2FnZSI6IkJBaHBBZ3NaIiwiZXhwIjpudWxsLCJwdXIiOiJibG9iX2lkIn19--e9626dd9e4862561e5c999398783f60be8926d2a/6447_28-07-2020_e.jpg,a lot,2\n",
            "230,6451,28/07/2020,/rails/active_storage/blobs/eyJfcmFpbHMiOnsibWVzc2FnZSI6IkJBaHBBZzhaIiwiZXhwIjpudWxsLCJwdXIiOiJibG9iX2lkIn19--661520d4cbf3f64cbeb82cd5a3506bcef7c4f7f9/6451_28-07-2020_e.jpg,a lot,2\n",
            "231,6456,30/07/2020,/rails/active_storage/blobs/eyJfcmFpbHMiOnsibWVzc2FnZSI6IkJBaHBBaFFaIiwiZXhwIjpudWxsLCJwdXIiOiJibG9iX2lkIn19--b8451cfa28ae7e6673fe1314bb004c91475b3044/6456_30-07-2020_t.jpg,substantial,3\n",
            "232,6461,01/08/2020,/rails/active_storage/blobs/eyJfcmFpbHMiOnsibWVzc2FnZSI6IkJBaHBBaGtaIiwiZXhwIjpudWxsLCJwdXIiOiJibG9iX2lkIn19--c46730b0d0a8765a94afd11ea6e8a30c714c57f1/6461_01-08-2020_t.jpg,some,1\n",
            "233,6475,05/08/2020,/rails/active_storage/blobs/eyJfcmFpbHMiOnsibWVzc2FnZSI6IkJBaHBBaWNaIiwiZXhwIjpudWxsLCJwdXIiOiJibG9iX2lkIn19--e98dab680f46b4b76ec145e6248cd4f7720aac6d/6475_05-08-2020_t.jpg,substantial,3\n",
            "234,6477,05/08/2020,/rails/active_storage/blobs/eyJfcmFpbHMiOnsibWVzc2FnZSI6IkJBaHBBaWtaIiwiZXhwIjpudWxsLCJwdXIiOiJibG9iX2lkIn19--7080ef8a98a32afe55d75317a4e6bc5edce0e41f/6477_05-08-2020_t.jpg,a lot,2\n",
            "235,6491,28/07/2020,/rails/active_storage/blobs/eyJfcmFpbHMiOnsibWVzc2FnZSI6IkJBaHBBamNaIiwiZXhwIjpudWxsLCJwdXIiOiJibG9iX2lkIn19--dca89db71eb58462da6d70ae52646bdaddbd438b/6491_28-07-2020_w.jpg,a lot,2\n",
            "236,6499,29/07/2020,/rails/active_storage/blobs/eyJfcmFpbHMiOnsibWVzc2FnZSI6IkJBaHBBajhaIiwiZXhwIjpudWxsLCJwdXIiOiJibG9iX2lkIn19--ad683d357d73247ccf3b07e4b6364eca17836b0e/6499_29-07-2020_w.jpg,some,1\n",
            "237,6506,30/07/2020,/rails/active_storage/blobs/eyJfcmFpbHMiOnsibWVzc2FnZSI6IkJBaHBBa1laIiwiZXhwIjpudWxsLCJwdXIiOiJibG9iX2lkIn19--8009fdf0c7265e693c16baa5db0f28f732487047/6506_30-07-2020_w.jpg,substantial,3\n",
            "238,6510,01/08/2020,/rails/active_storage/blobs/eyJfcmFpbHMiOnsibWVzc2FnZSI6IkJBaHBBa29aIiwiZXhwIjpudWxsLCJwdXIiOiJibG9iX2lkIn19--cc278366e66af6e4b00abf012fccf4400d485c4c/6510_01-08-2020_w.jpg,some,1\n",
            "239,6511,01/08/2020,/rails/active_storage/blobs/eyJfcmFpbHMiOnsibWVzc2FnZSI6IkJBaHBBa3NaIiwiZXhwIjpudWxsLCJwdXIiOiJibG9iX2lkIn19--ec10fd287fe7c9dc506536a0c178a41547539b22/6511_01-08-2020_w.jpg,some,1\n",
            "240,6517,01/08/2020,/rails/active_storage/blobs/eyJfcmFpbHMiOnsibWVzc2FnZSI6IkJBaHBBbEVaIiwiZXhwIjpudWxsLCJwdXIiOiJibG9iX2lkIn19--0290f222d7384f641f541929e22f13b17d81ba75/6517_01-08-2020_w.jpg,some,1\n",
            "241,6522,01/08/2020,/rails/active_storage/blobs/eyJfcmFpbHMiOnsibWVzc2FnZSI6IkJBaHBBbFlaIiwiZXhwIjpudWxsLCJwdXIiOiJibG9iX2lkIn19--b3d06012a2016214057f1390f4b03237430623d5/6522_01-08-2020_w.jpg,some,1\n",
            "242,6524,01/08/2020,/rails/active_storage/blobs/eyJfcmFpbHMiOnsibWVzc2FnZSI6IkJBaHBBbGdaIiwiZXhwIjpudWxsLCJwdXIiOiJibG9iX2lkIn19--724e218851bf3c3b69163062045d5dc1012c4ba0/6524_01-08-2020_w.jpg,some,1\n",
            "243,6531,03/08/2020,/rails/active_storage/blobs/eyJfcmFpbHMiOnsibWVzc2FnZSI6IkJBaHBBbDhaIiwiZXhwIjpudWxsLCJwdXIiOiJibG9iX2lkIn19--606553b17a02594a35746661f00a5f7ff084e9fa/6531_03-08-2020_w.jpg,some,1\n",
            "244,6593,05/08/2020,/rails/active_storage/blobs/eyJfcmFpbHMiOnsibWVzc2FnZSI6IkJBaHBBcDBaIiwiZXhwIjpudWxsLCJwdXIiOiJibG9iX2lkIn19--e9c0bcb799c671822140a45957c8fafea4daaffc/6593_05-08-2020_w.jpg,substantial,3\n",
            "245,6594,05/08/2020,/rails/active_storage/blobs/eyJfcmFpbHMiOnsibWVzc2FnZSI6IkJBaHBBcDRaIiwiZXhwIjpudWxsLCJwdXIiOiJibG9iX2lkIn19--3e998e6960d46f1e4e2229c94e3e76e5300747fd/6594_05-08-2020_w.jpg,substantial,3\n",
            "246,6605,03/08/2020,/rails/active_storage/blobs/eyJfcmFpbHMiOnsibWVzc2FnZSI6IkJBaHBBcWtaIiwiZXhwIjpudWxsLCJwdXIiOiJibG9iX2lkIn19--161bdb22fa62cf4afe14876686d9a63a69232fa8/6605_03-08-2020_i.jpg,some,1\n",
            "247,6612,05/08/2020,/rails/active_storage/blobs/eyJfcmFpbHMiOnsibWVzc2FnZSI6IkJBaHBBckFaIiwiZXhwIjpudWxsLCJwdXIiOiJibG9iX2lkIn19--932c13caf40d2a22f37b4a9bb92738f28a3a5407/6612_05-08-2020_i.jpg,substantial,3\n",
            "248,6625,06/08/2020,/rails/active_storage/blobs/eyJfcmFpbHMiOnsibWVzc2FnZSI6IkJBaHBBcjBaIiwiZXhwIjpudWxsLCJwdXIiOiJibG9iX2lkIn19--c3504a8d4c703a61a475f784bd645b1640afaafc/6625_06-08-2020_w.jpg,a lot,2\n",
            "249,6635,09/08/2020,/rails/active_storage/blobs/eyJfcmFpbHMiOnsibWVzc2FnZSI6IkJBaHBBc2NaIiwiZXhwIjpudWxsLCJwdXIiOiJibG9iX2lkIn19--e30d4b8741ebfc6174e29d59d2ef029626cffaf1/6635_09-08-2020_t.jpg,substantial,3\n",
            "250,6638,10/08/2020,/rails/active_storage/blobs/eyJfcmFpbHMiOnsibWVzc2FnZSI6IkJBaHBBc29aIiwiZXhwIjpudWxsLCJwdXIiOiJibG9iX2lkIn19--e0150309def87d0e616c0a0be33ceb7c785d240c/6638_10-08-2020_t.jpg,none,0\n",
            "251,6665,06/08/2020,/rails/active_storage/blobs/eyJfcmFpbHMiOnsibWVzc2FnZSI6IkJBaHBBdVVaIiwiZXhwIjpudWxsLCJwdXIiOiJibG9iX2lkIn19--47f2e30099aed7633516250cde29b1bf29b58c9b/6665_06-08-2020_e.jpg,a lot,2\n",
            "252,6667,06/08/2020,/rails/active_storage/blobs/eyJfcmFpbHMiOnsibWVzc2FnZSI6IkJBaHBBdWNaIiwiZXhwIjpudWxsLCJwdXIiOiJibG9iX2lkIn19--0f3979762fbcdf146d562b57272e2efd8fb9be83/6667_06-08-2020_e.jpg,a lot,2\n",
            "253,6668,06/08/2020,/rails/active_storage/blobs/eyJfcmFpbHMiOnsibWVzc2FnZSI6IkJBaHBBdWdaIiwiZXhwIjpudWxsLCJwdXIiOiJibG9iX2lkIn19--4d618ddef21840474b9282ba3e7f0ad75944d114/6668_06-08-2020_e.jpg,a lot,2\n",
            "254,6670,06/08/2020,/rails/active_storage/blobs/eyJfcmFpbHMiOnsibWVzc2FnZSI6IkJBaHBBdW9aIiwiZXhwIjpudWxsLCJwdXIiOiJibG9iX2lkIn19--d06b24dc7c870872dc6b67d4e4cf294259f4e354/6670_06-08-2020_e.jpg,a lot,2\n",
            "255,6675,07/08/2020,/rails/active_storage/blobs/eyJfcmFpbHMiOnsibWVzc2FnZSI6IkJBaHBBdThaIiwiZXhwIjpudWxsLCJwdXIiOiJibG9iX2lkIn19--7612b96f04f4f6389466a9b2d0cd7e2d27ae69cd/6675_07-08-2020_e.jpg,some,1\n",
            "256,6686,10/08/2020,/rails/active_storage/blobs/eyJfcmFpbHMiOnsibWVzc2FnZSI6IkJBaHBBdm9aIiwiZXhwIjpudWxsLCJwdXIiOiJibG9iX2lkIn19--80dded1a00660a481a45f40942db139df9041f72/6686_10-08-2020_e.jpg,none,0\n",
            "257,6687,11/08/2020,/rails/active_storage/blobs/eyJfcmFpbHMiOnsibWVzc2FnZSI6IkJBaHBBdnNaIiwiZXhwIjpudWxsLCJwdXIiOiJibG9iX2lkIn19--19867e11d3337a2ad627efa5b945f19fd787842b/6687_11-08-2020_e.jpg,none,0\n",
            "258,6689,12/08/2020,/rails/active_storage/blobs/eyJfcmFpbHMiOnsibWVzc2FnZSI6IkJBaHBBdjBaIiwiZXhwIjpudWxsLCJwdXIiOiJibG9iX2lkIn19--b26def8547aef1ac4ce401ba36f442e659be7cb7/6689_12-08-2020_e.jpg,some,1\n",
            "259,6690,13/08/2020,/rails/active_storage/blobs/eyJfcmFpbHMiOnsibWVzc2FnZSI6IkJBaHBBdjRaIiwiZXhwIjpudWxsLCJwdXIiOiJibG9iX2lkIn19--fe0e469b909295c10c5333fa07cef7b7859b1e11/6690_13-08-2020_e.jpg,none,0\n",
            "260,6710,07/08/2020,/rails/active_storage/blobs/eyJfcmFpbHMiOnsibWVzc2FnZSI6IkJBaHBBaElhIiwiZXhwIjpudWxsLCJwdXIiOiJibG9iX2lkIn19--8b57f696b32b9bd16295b52c823370ad2355b644/6710_07-08-2020_w.jpg,some,1\n",
            "261,6725,09/08/2020,/rails/active_storage/blobs/eyJfcmFpbHMiOnsibWVzc2FnZSI6IkJBaHBBaUVhIiwiZXhwIjpudWxsLCJwdXIiOiJibG9iX2lkIn19--7667e11dad4b600668c4873194760bcf58f18331/6725_09-08-2020_w.jpg,none,0\n",
            "262,6771,11/08/2020,/rails/active_storage/blobs/eyJfcmFpbHMiOnsibWVzc2FnZSI6IkJBaHBBazhhIiwiZXhwIjpudWxsLCJwdXIiOiJibG9iX2lkIn19--3f7ce8f2c4c5f73ffa8cb5be6e37765f8f40060a/6771_11-08-2020_w.jpg,none,0\n",
            "263,6779,12/08/2020,/rails/active_storage/blobs/eyJfcmFpbHMiOnsibWVzc2FnZSI6IkJBaHBBbGNhIiwiZXhwIjpudWxsLCJwdXIiOiJibG9iX2lkIn19--bd7b1bec463680b5292fbaabc7d54eed3506a2bb/6779_12-08-2020_w.jpg,none,0\n",
            "264,6916,13/08/2020,/rails/active_storage/blobs/eyJfcmFpbHMiOnsibWVzc2FnZSI6IkJBaHBBdUlhIiwiZXhwIjpudWxsLCJwdXIiOiJibG9iX2lkIn19--8db3fd8b0874855e511ee1003ec72fa831e831e0/6916_13-08-2020_w.jpg,none,0\n",
            "265,6917,13/08/2020,/rails/active_storage/blobs/eyJfcmFpbHMiOnsibWVzc2FnZSI6IkJBaHBBdU1hIiwiZXhwIjpudWxsLCJwdXIiOiJibG9iX2lkIn19--9ef7012f53e0d6428b5444759c4582c436d1f320/6917_13-08-2020_w.jpg,none,0\n",
            "266,6920,15/08/2020,/rails/active_storage/blobs/eyJfcmFpbHMiOnsibWVzc2FnZSI6IkJBaHBBdVlhIiwiZXhwIjpudWxsLCJwdXIiOiJibG9iX2lkIn19--d90ac44921f8ed9939bdd26760cf5e93d67297b5/6920_15-08-2020_w.jpg,none,0\n",
            "267,6922,14/08/2020,/rails/active_storage/blobs/eyJfcmFpbHMiOnsibWVzc2FnZSI6IkJBaHBBdWdhIiwiZXhwIjpudWxsLCJwdXIiOiJibG9iX2lkIn19--098a00e363ff4b3561a54b773414e6008b0cfb3b/6922_14-08-2020_w.jpg,none,0\n",
            "268,6924,15/08/2020,/rails/active_storage/blobs/eyJfcmFpbHMiOnsibWVzc2FnZSI6IkJBaHBBdW9hIiwiZXhwIjpudWxsLCJwdXIiOiJibG9iX2lkIn19--d9effbadb67f3714e9a4929760bf397c0ae82801/6924_15-08-2020_w.jpg,none,0\n",
            "269,6925,16/07/2020,/rails/active_storage/blobs/eyJfcmFpbHMiOnsibWVzc2FnZSI6IkJBaHBBdXNhIiwiZXhwIjpudWxsLCJwdXIiOiJibG9iX2lkIn19--1265760e42de73a61f903feac8b1e3f38adab04a/6925_16-07-2020_w.jpg,none,0\n",
            "270,6927,16/07/2020,/rails/active_storage/blobs/eyJfcmFpbHMiOnsibWVzc2FnZSI6IkJBaHBBdTBhIiwiZXhwIjpudWxsLCJwdXIiOiJibG9iX2lkIn19--11f0a2cab30f55004a7877d783826bbe10d16a91/6927_16-07-2020_w.jpg,none,0\n",
            "271,6934,16/08/2020,/rails/active_storage/blobs/eyJfcmFpbHMiOnsibWVzc2FnZSI6IkJBaHBBdlFhIiwiZXhwIjpudWxsLCJwdXIiOiJibG9iX2lkIn19--e61d5bf46b6927c977bbb6262426d7a22fc1160f/6934_16-08-2020_w.jpg,none,0\n",
            "272,6935,16/08/2020,/rails/active_storage/blobs/eyJfcmFpbHMiOnsibWVzc2FnZSI6IkJBaHBBdlVhIiwiZXhwIjpudWxsLCJwdXIiOiJibG9iX2lkIn19--ee3a4fd6110bbd5273c6c9ce2de053876b7be401/6935_16-08-2020_w.jpg,none,0\n",
            "273,6938,16/08/2020,/rails/active_storage/blobs/eyJfcmFpbHMiOnsibWVzc2FnZSI6IkJBaHBBdmdhIiwiZXhwIjpudWxsLCJwdXIiOiJibG9iX2lkIn19--b543242d932dcf3279b19d720ca9f154e61e9a97/6938_16-08-2020_w.jpg,none,0\n",
            "274,6939,16/08/2020,/rails/active_storage/blobs/eyJfcmFpbHMiOnsibWVzc2FnZSI6IkJBaHBBdmthIiwiZXhwIjpudWxsLCJwdXIiOiJibG9iX2lkIn19--71a3418bbe0c60ed8f3d444ea09ac7186e16f22a/6939_16-08-2020_i.jpg,none,0\n",
            "275,6940,15/08/2020,/rails/active_storage/blobs/eyJfcmFpbHMiOnsibWVzc2FnZSI6IkJBaHBBdm9hIiwiZXhwIjpudWxsLCJwdXIiOiJibG9iX2lkIn19--dd93db8af7b4b963bd68ff42e36c4c959a334207/6940_15-08-2020_i.jpg,none,0\n",
            "276,6945,15/08/2020,/rails/active_storage/blobs/eyJfcmFpbHMiOnsibWVzc2FnZSI6IkJBaHBBdjhhIiwiZXhwIjpudWxsLCJwdXIiOiJibG9iX2lkIn19--2c1daf40deb76691bced4f2fa499568ff7fca98c/6945_15-08-2020_i.jpg,none,0\n",
            "277,6949,20/08/2020,/rails/active_storage/blobs/eyJfcmFpbHMiOnsibWVzc2FnZSI6IkJBaHBBZ01iIiwiZXhwIjpudWxsLCJwdXIiOiJibG9iX2lkIn19--6f6689ec14d70bbc3eaca751fba5e9ac088e143b/6949_20-08-2020_t.jpg,none,0\n",
            "278,6950,17/08/2020,/rails/active_storage/blobs/eyJfcmFpbHMiOnsibWVzc2FnZSI6IkJBaHBBZ1FiIiwiZXhwIjpudWxsLCJwdXIiOiJibG9iX2lkIn19--47d97834e625b688fba34cd97c8fe54da4a39fcc/6950_17-08-2020_e.jpg,none,0\n",
            "279,6952,17/08/2020,/rails/active_storage/blobs/eyJfcmFpbHMiOnsibWVzc2FnZSI6IkJBaHBBZ1liIiwiZXhwIjpudWxsLCJwdXIiOiJibG9iX2lkIn19--26530c0d3c1965e34690222ae1723aea597e0ab2/6952_17-08-2020_e.jpg,none,0\n",
            "280,6954,11/08/2020,/rails/active_storage/blobs/eyJfcmFpbHMiOnsibWVzc2FnZSI6IkJBaHBBZ2diIiwiZXhwIjpudWxsLCJwdXIiOiJibG9iX2lkIn19--ed3423a01b1f731e8e93a51fe60cc02d9495fd41/6954_11-08-2020_e.jpg,none,0\n",
            "281,6955,18/08/2020,/rails/active_storage/blobs/eyJfcmFpbHMiOnsibWVzc2FnZSI6IkJBaHBBZ2tiIiwiZXhwIjpudWxsLCJwdXIiOiJibG9iX2lkIn19--f49366ad27fdce40d71bf89507b161cbdfdb5685/6955_18-08-2020_e.jpg,none,0\n",
            "282,6959,20/08/2020,/rails/active_storage/blobs/eyJfcmFpbHMiOnsibWVzc2FnZSI6IkJBaHBBZzBiIiwiZXhwIjpudWxsLCJwdXIiOiJibG9iX2lkIn19--6dfdd8fd049caabdd48ce58a4d2f7ebff334fd5d/6959_20-08-2020_e.jpg,none,0\n",
            "283,6970,20/08/2020,/rails/active_storage/blobs/eyJfcmFpbHMiOnsibWVzc2FnZSI6IkJBaHBBaGdiIiwiZXhwIjpudWxsLCJwdXIiOiJibG9iX2lkIn19--a502ac59a83eb06c5178df6a9fc426b77d426101/6970_20-08-2020_e.jpg,none,0\n",
            "284,6986,19/08/2020,/rails/active_storage/blobs/eyJfcmFpbHMiOnsibWVzc2FnZSI6IkJBaHBBaWdiIiwiZXhwIjpudWxsLCJwdXIiOiJibG9iX2lkIn19--06fa220cde198f6e86a697c1dcfe86fbbd333790/6986_19-08-2020_w.jpg,none,0\n",
            "285,6992,20/08/2020,/rails/active_storage/blobs/eyJfcmFpbHMiOnsibWVzc2FnZSI6IkJBaHBBaTRiIiwiZXhwIjpudWxsLCJwdXIiOiJibG9iX2lkIn19--d538e631b81cb413259483d85c71847151738821/6992_20-08-2020_w.jpg,none,0\n",
            "286,6996,21/08/2020,/rails/active_storage/blobs/eyJfcmFpbHMiOnsibWVzc2FnZSI6IkJBaHBBakliIiwiZXhwIjpudWxsLCJwdXIiOiJibG9iX2lkIn19--fdb1eab27a58158f77adbc4b84508d56456f187a/6996_21-08-2020_w.jpg,some,1\n",
            "287,6997,22/08/2020,/rails/active_storage/blobs/eyJfcmFpbHMiOnsibWVzc2FnZSI6IkJBaHBBak1iIiwiZXhwIjpudWxsLCJwdXIiOiJibG9iX2lkIn19--169c723e680ec6933fc88584edd505f1c89a8443/6997_22-08-2020_w.jpg,substantial,3\n",
            "288,6999,22/08/2020,/rails/active_storage/blobs/eyJfcmFpbHMiOnsibWVzc2FnZSI6IkJBaHBBalViIiwiZXhwIjpudWxsLCJwdXIiOiJibG9iX2lkIn19--f89c817e93bb6eac243a695f9e0c0562d6b3b8ea/6999_22-08-2020_w.jpg,substantial,3\n",
            "289,7002,22/08/2020,/rails/active_storage/blobs/eyJfcmFpbHMiOnsibWVzc2FnZSI6IkJBaHBBamdiIiwiZXhwIjpudWxsLCJwdXIiOiJibG9iX2lkIn19--63d7b4f5e15d993ca4e6291cd66daa8febc12fb0/7002_22-08-2020_w.jpg,substantial,3\n",
            "290,7020,18/08/2020,/rails/active_storage/blobs/eyJfcmFpbHMiOnsibWVzc2FnZSI6IkJBaHBBa29iIiwiZXhwIjpudWxsLCJwdXIiOiJibG9iX2lkIn19--c3d853e894857b6118c1b080bf983bc0a2a35ea7/7020_18-08-2020_i.jpg,none,0\n",
            "291,7065,31/08/2020,/rails/active_storage/blobs/eyJfcmFpbHMiOnsibWVzc2FnZSI6IkJBaHBBbmNiIiwiZXhwIjpudWxsLCJwdXIiOiJibG9iX2lkIn19--14518954158c92b450b26788aa7db9943e2de1f4/7065_31-08-2020_t.jpg,none,0\n",
            "292,7072,29/08/2020,/rails/active_storage/blobs/eyJfcmFpbHMiOnsibWVzc2FnZSI6IkJBaHBBbjRiIiwiZXhwIjpudWxsLCJwdXIiOiJibG9iX2lkIn19--e8805028539ebdd80202f96e3cb6728eb665e372/7072_29-08-2020_i.jpg,a lot,2\n",
            "293,7081,28/08/2020,/rails/active_storage/blobs/eyJfcmFpbHMiOnsibWVzc2FnZSI6IkJBaHBBb2NiIiwiZXhwIjpudWxsLCJwdXIiOiJibG9iX2lkIn19--472f137eace8286291c8298d2f9c170b786e074f/7081_28-08-2020_i.jpg,substantial,3\n",
            "294,7092,26/08/2020,/rails/active_storage/blobs/eyJfcmFpbHMiOnsibWVzc2FnZSI6IkJBaHBBcEliIiwiZXhwIjpudWxsLCJwdXIiOiJibG9iX2lkIn19--122f2a2244380197f27a5664240ef5cb2dfd2849/7092_26-08-2020_e.jpg,substantial,3\n",
            "295,7093,27/08/2020,/rails/active_storage/blobs/eyJfcmFpbHMiOnsibWVzc2FnZSI6IkJBaHBBcE1iIiwiZXhwIjpudWxsLCJwdXIiOiJibG9iX2lkIn19--4baa8cee277b35ffc6c0aa1fb434044d9747323c/7093_27-08-2020_e.jpg,substantial,3\n",
            "296,7094,27/08/2020,/rails/active_storage/blobs/eyJfcmFpbHMiOnsibWVzc2FnZSI6IkJBaHBBcFFiIiwiZXhwIjpudWxsLCJwdXIiOiJibG9iX2lkIn19--a871edfdb584b2d8c32d9cee46fb4e001aa89779/7094_27-08-2020_e.jpg,substantial,3\n",
            "297,7095,27/08/2020,/rails/active_storage/blobs/eyJfcmFpbHMiOnsibWVzc2FnZSI6IkJBaHBBcFViIiwiZXhwIjpudWxsLCJwdXIiOiJibG9iX2lkIn19--14c9e7b1ec588abb31a8b8e21fab490442c020dc/7095_27-08-2020_e.jpg,substantial,3\n",
            "298,7097,28/08/2020,/rails/active_storage/blobs/eyJfcmFpbHMiOnsibWVzc2FnZSI6IkJBaHBBcGNiIiwiZXhwIjpudWxsLCJwdXIiOiJibG9iX2lkIn19--6cd184e903585a4bd2c853d2c068e0cc8c3332ca/7097_28-08-2020_e.jpg,substantial,3\n",
            "299,7143,27/08/2020,/rails/active_storage/blobs/eyJfcmFpbHMiOnsibWVzc2FnZSI6IkJBaHBBc1ViIiwiZXhwIjpudWxsLCJwdXIiOiJibG9iX2lkIn19--9cb6dd33eb5eb1e84bcc4f120efb5a6e586c911c/7143_27-08-2020_w.jpg,substantial,3\n",
            "300,7144,27/08/2020,/rails/active_storage/blobs/eyJfcmFpbHMiOnsibWVzc2FnZSI6IkJBaHBBc1liIiwiZXhwIjpudWxsLCJwdXIiOiJibG9iX2lkIn19--337b86455b66fe9f91c41fe417c40f5333fc862a/7144_27-08-2020_w.jpg,substantial,3\n",
            "301,7145,27/08/2020,/rails/active_storage/blobs/eyJfcmFpbHMiOnsibWVzc2FnZSI6IkJBaHBBc2NiIiwiZXhwIjpudWxsLCJwdXIiOiJibG9iX2lkIn19--4b085cace4e491a7dee7a1ac509356ebcaeed642/7145_27-08-2020_w.jpg,substantial,3\n",
            "302,7149,31/08/2020,/rails/active_storage/blobs/eyJfcmFpbHMiOnsibWVzc2FnZSI6IkJBaHBBc3NiIiwiZXhwIjpudWxsLCJwdXIiOiJibG9iX2lkIn19--44f5386aa0f9e4d30c7b51a86870645efc208d3c/7149_31-08-2020_w.jpg,none,0\n",
            "303,7162,01/09/2020,/rails/active_storage/blobs/eyJfcmFpbHMiOnsibWVzc2FnZSI6IkJBaHBBdGdiIiwiZXhwIjpudWxsLCJwdXIiOiJibG9iX2lkIn19--6a96bd5a2ff35d9d2229275e538dceeebc18db40/7162_01-09-2020_t.jpg,none,0\n",
            "304,7170,04/09/2020,/rails/active_storage/blobs/eyJfcmFpbHMiOnsibWVzc2FnZSI6IkJBaHBBdUFiIiwiZXhwIjpudWxsLCJwdXIiOiJibG9iX2lkIn19--21eea2bb3b5f3577191cc64ff6c8f0d9a92b5963/7170_04-09-2020_t.jpg,a lot,2\n",
            "305,7173,08/09/2020,/rails/active_storage/blobs/eyJfcmFpbHMiOnsibWVzc2FnZSI6IkJBaHBBdU1iIiwiZXhwIjpudWxsLCJwdXIiOiJibG9iX2lkIn19--e27a3da6dae8ef160f506042273135321ba0391b/7173_08-09-2020_t.jpg,substantial,3\n",
            "306,7174,08/09/2020,/rails/active_storage/blobs/eyJfcmFpbHMiOnsibWVzc2FnZSI6IkJBaHBBdVFiIiwiZXhwIjpudWxsLCJwdXIiOiJibG9iX2lkIn19--f67aef1150f4bcdf63c9aa8e76dda2b3f8446cd1/7174_08-09-2020_t.jpg,substantial,3\n",
            "307,7177,05/09/2020,/rails/active_storage/blobs/eyJfcmFpbHMiOnsibWVzc2FnZSI6IkJBaHBBdWNiIiwiZXhwIjpudWxsLCJwdXIiOiJibG9iX2lkIn19--ee2556600567366abddb4e49e3786b2a35bc8d49/7177_05-09-2020_i.jpg,some,1\n",
            "308,7180,07/09/2020,/rails/active_storage/blobs/eyJfcmFpbHMiOnsibWVzc2FnZSI6IkJBaHBBdW9iIiwiZXhwIjpudWxsLCJwdXIiOiJibG9iX2lkIn19--c42de24dcf043bc10da465771a1b2dc0ca0145c4/7180_07-09-2020_i.jpg,a lot,2\n",
            "309,7208,02/09/2020,/rails/active_storage/blobs/eyJfcmFpbHMiOnsibWVzc2FnZSI6IkJBaHBBZ1ljIiwiZXhwIjpudWxsLCJwdXIiOiJibG9iX2lkIn19--ace72c38118480a8fc220372f0f4cd74054ec7e9/7208_02-09-2020_w.jpg,extensive,4\n",
            "310,7219,05/09/2020,/rails/active_storage/blobs/eyJfcmFpbHMiOnsibWVzc2FnZSI6IkJBaHBBaEVjIiwiZXhwIjpudWxsLCJwdXIiOiJibG9iX2lkIn19--12ce33c51a705d235e157af0ee97e36b0f19d1c9/7219_05-09-2020_w.jpg,some,1\n",
            "311,7220,04/09/2020,/rails/active_storage/blobs/eyJfcmFpbHMiOnsibWVzc2FnZSI6IkJBaHBBaEljIiwiZXhwIjpudWxsLCJwdXIiOiJibG9iX2lkIn19--2dcf5a0dd28717517751210d051d76612dcb1fac/7220_04-09-2020_w.jpg,some,1\n",
            "312,7229,08/09/2020,/rails/active_storage/blobs/eyJfcmFpbHMiOnsibWVzc2FnZSI6IkJBaHBBaHNjIiwiZXhwIjpudWxsLCJwdXIiOiJibG9iX2lkIn19--10de4b469ce63fe7d928c006d452b48b30ea716e/7229_08-09-2020_w.jpg,substantial,3\n",
            "313,7230,10/09/2020,/rails/active_storage/blobs/eyJfcmFpbHMiOnsibWVzc2FnZSI6IkJBaHBBaHdjIiwiZXhwIjpudWxsLCJwdXIiOiJibG9iX2lkIn19--8df13fd2f900ce5b1833b5c1fc154f464e00bf52/7230_10-09-2020_w.jpg,a lot,2\n",
            "314,7231,10/09/2020,/rails/active_storage/blobs/eyJfcmFpbHMiOnsibWVzc2FnZSI6IkJBaHBBaDBjIiwiZXhwIjpudWxsLCJwdXIiOiJibG9iX2lkIn19--189dbb32f81b1b9878d59bdab897e96492807c11/7231_10-09-2020_w.jpg,a lot,2\n",
            "315,7232,10/09/2020,/rails/active_storage/blobs/eyJfcmFpbHMiOnsibWVzc2FnZSI6IkJBaHBBaDRjIiwiZXhwIjpudWxsLCJwdXIiOiJibG9iX2lkIn19--93e9bbc5eff2ec839e26988d95467a4649c0749d/7232_10-09-2020_w.jpg,substantial,3\n",
            "316,7233,10/09/2020,/rails/active_storage/blobs/eyJfcmFpbHMiOnsibWVzc2FnZSI6IkJBaHBBaDhjIiwiZXhwIjpudWxsLCJwdXIiOiJibG9iX2lkIn19--fd67f0d009288076e21cff8bb4b6b342e1ffb919/7233_10-09-2020_w.jpg,substantial,3\n",
            "317,7306,11/09/2020,/rails/active_storage/blobs/eyJfcmFpbHMiOnsibWVzc2FnZSI6IkJBaHBBbWdjIiwiZXhwIjpudWxsLCJwdXIiOiJibG9iX2lkIn19--cdf518c98d0b9287c91716fb92527efe94635686/7306_11-09-2020_w.jpg,some,1\n",
            "318,7310,11/09/2020,/rails/active_storage/blobs/eyJfcmFpbHMiOnsibWVzc2FnZSI6IkJBaHBBbXdjIiwiZXhwIjpudWxsLCJwdXIiOiJibG9iX2lkIn19--91bee91271321e369a89e8e8972142f249f49998/7310_11-09-2020_w.jpg,some,1\n",
            "319,7325,05/09/2020,/rails/active_storage/blobs/eyJfcmFpbHMiOnsibWVzc2FnZSI6IkJBaHBBbnNjIiwiZXhwIjpudWxsLCJwdXIiOiJibG9iX2lkIn19--b53d687cdebe429ad8bbbc654ae6fa5cbc7a367c/7325_05-09-2020_e.jpg,some,1\n",
            "320,7332,06/09/2020,/rails/active_storage/blobs/eyJfcmFpbHMiOnsibWVzc2FnZSI6IkJBaHBBb0ljIiwiZXhwIjpudWxsLCJwdXIiOiJibG9iX2lkIn19--7866ff92644353913131c40a956b0b27f9735dff/7332_06-09-0202_e.jpg,a lot,2\n",
            "321,7333,06/09/2020,/rails/active_storage/blobs/eyJfcmFpbHMiOnsibWVzc2FnZSI6IkJBaHBBb01jIiwiZXhwIjpudWxsLCJwdXIiOiJibG9iX2lkIn19--5a03f183d36440fc8e1fe1fa99939351a2c20e8b/7333_06-09-0202_e.jpg,a lot,2\n",
            "322,7341,07/09/2020,/rails/active_storage/blobs/eyJfcmFpbHMiOnsibWVzc2FnZSI6IkJBaHBBb3NjIiwiZXhwIjpudWxsLCJwdXIiOiJibG9iX2lkIn19--338a4ba33fd1edca891bb7c3b215e54afdaa5061/7341_07-09-2020_e.jpg,extensive,4\n",
            "323,7344,08/09/2020,/rails/active_storage/blobs/eyJfcmFpbHMiOnsibWVzc2FnZSI6IkJBaHBBbzRjIiwiZXhwIjpudWxsLCJwdXIiOiJibG9iX2lkIn19--b3e3eb1cdc57bd0ce6f88f7afb8cb26631757d58/7344_08-09-2020_e.jpg,a lot,2\n",
            "324,7350,10/09/2020,/rails/active_storage/blobs/eyJfcmFpbHMiOnsibWVzc2FnZSI6IkJBaHBBcFFjIiwiZXhwIjpudWxsLCJwdXIiOiJibG9iX2lkIn19--1e19540b3106702bc10b831c96f193c91af02fde/7350_10-09-2020_e.jpg,a lot,2\n",
            "325,7351,10/09/2020,/rails/active_storage/blobs/eyJfcmFpbHMiOnsibWVzc2FnZSI6IkJBaHBBcFVjIiwiZXhwIjpudWxsLCJwdXIiOiJibG9iX2lkIn19--5ebd3be05eec3593cc77cef60638256eedde614e/7351_10-09-2020_e.jpg,some,1\n",
            "326,7353,10/09/2020,/rails/active_storage/blobs/eyJfcmFpbHMiOnsibWVzc2FnZSI6IkJBaHBBcGNjIiwiZXhwIjpudWxsLCJwdXIiOiJibG9iX2lkIn19--f8040e576a2744c8691db2bb9ada578574f60715/7353_10-09-2020_e.jpg,a lot,2\n",
            "327,7364,13/09/2020,/rails/active_storage/blobs/eyJfcmFpbHMiOnsibWVzc2FnZSI6IkJBaHBBcUljIiwiZXhwIjpudWxsLCJwdXIiOiJibG9iX2lkIn19--b2232521fb6deed5c05feac6f7c08b288ba4af30/7364_13-09-2020_t.jpg,substantial,3\n",
            "328,7365,12/09/2020,/rails/active_storage/blobs/eyJfcmFpbHMiOnsibWVzc2FnZSI6IkJBaHBBcU1jIiwiZXhwIjpudWxsLCJwdXIiOiJibG9iX2lkIn19--9df0b22012eaedb1d42087a21a963eb349476d52/7365_12-09-2020_t.jpg,none,0\n",
            "329,7409,13/09/2020,/rails/active_storage/blobs/eyJfcmFpbHMiOnsibWVzc2FnZSI6IkJBaHBBczhjIiwiZXhwIjpudWxsLCJwdXIiOiJibG9iX2lkIn19--f29bf1ec1577b8aa5fe2aafbf5a343816bba406b/7409_13-09-2020_w.jpg,substantial,3\n",
            "330,7411,15/09/2020,/rails/active_storage/blobs/eyJfcmFpbHMiOnsibWVzc2FnZSI6IkJBaHBBdEVjIiwiZXhwIjpudWxsLCJwdXIiOiJibG9iX2lkIn19--7588565b1b1de6edb7d49062520f0071a9d5d031/7411_15-09-2020_w.jpg,a lot,2\n",
            "331,7415,16/09/2020,/rails/active_storage/blobs/eyJfcmFpbHMiOnsibWVzc2FnZSI6IkJBaHBBdFVjIiwiZXhwIjpudWxsLCJwdXIiOiJibG9iX2lkIn19--3845571e35a3f3af579997add28674930af8acfb/7415_16-09-2020_w.jpg,a lot,2\n",
            "332,7419,18/09/2020,/rails/active_storage/blobs/eyJfcmFpbHMiOnsibWVzc2FnZSI6IkJBaHBBdGtjIiwiZXhwIjpudWxsLCJwdXIiOiJibG9iX2lkIn19--7111833c906690a95183f9fb51975f675cafdbc3/7419_18-09-2020_w.jpg,extensive,4\n",
            "333,7420,19/09/2020,/rails/active_storage/blobs/eyJfcmFpbHMiOnsibWVzc2FnZSI6IkJBaHBBdG9jIiwiZXhwIjpudWxsLCJwdXIiOiJibG9iX2lkIn19--2e35600c23b4ddb9bb4f32653bacef00a3a8a416/7420_19-09-2020_w.jpg,none,0\n",
            "334,7422,21/09/2020,/rails/active_storage/blobs/eyJfcmFpbHMiOnsibWVzc2FnZSI6IkJBaHBBdHdjIiwiZXhwIjpudWxsLCJwdXIiOiJibG9iX2lkIn19--9e95ab0b9125641856d1d5f3652f12c2b366c960/7422_21-09-2020_w.jpg,none,0\n",
            "335,7459,10/09/2020,/rails/active_storage/blobs/eyJfcmFpbHMiOnsibWVzc2FnZSI6IkJBaHBBZ0VkIiwiZXhwIjpudWxsLCJwdXIiOiJibG9iX2lkIn19--2849069bc416aa26aeb41eb2c28da34c7cd75b4f/7459_10-09-2020_i.jpg,a lot,2\n",
            "336,7511,17/09/2020,/rails/active_storage/blobs/eyJfcmFpbHMiOnsibWVzc2FnZSI6IkJBaHBBalVkIiwiZXhwIjpudWxsLCJwdXIiOiJibG9iX2lkIn19--57eefdd926710c67523d3733192fc836ebdef132/7511_17-09-2020_i.jpg,none,0\n",
            "337,7518,17/09/2020,/rails/active_storage/blobs/eyJfcmFpbHMiOnsibWVzc2FnZSI6IkJBaHBBandkIiwiZXhwIjpudWxsLCJwdXIiOiJibG9iX2lkIn19--bbbce4cf89e85d5481dafb191751f934d890b627/7518_17-09-2020_t.jpg,some,1\n",
            "338,7526,26/09/2020,/rails/active_storage/blobs/eyJfcmFpbHMiOnsibWVzc2FnZSI6IkJBaHBBa1FkIiwiZXhwIjpudWxsLCJwdXIiOiJibG9iX2lkIn19--d4448f16dc66b9f4085277fd8bf122c302117a48/7526_26-09-2020_t.jpg,none,0\n",
            "339,7536,27/09/2020,/rails/active_storage/blobs/eyJfcmFpbHMiOnsibWVzc2FnZSI6IkJBaHBBazRkIiwiZXhwIjpudWxsLCJwdXIiOiJibG9iX2lkIn19--5a4213b5b888ac5df0413b2977a9b4df6f87bb2f/7536_27-09-2020_w.jpg,none,0\n",
            "340,7545,27/09/2020,/rails/active_storage/blobs/eyJfcmFpbHMiOnsibWVzc2FnZSI6IkJBaHBBbGNkIiwiZXhwIjpudWxsLCJwdXIiOiJibG9iX2lkIn19--ec6da82d02e0c8c957020dcb4925faf070236bd7/7545_27-09-2020_w.jpg,none,0\n",
            "341,7548,28/09/2020,/rails/active_storage/blobs/eyJfcmFpbHMiOnsibWVzc2FnZSI6IkJBaHBBbG9kIiwiZXhwIjpudWxsLCJwdXIiOiJibG9iX2lkIn19--99634cef157baedcffe68c64aa0fe316343d6cf8/7548_28-09-2020_w.jpg,some,1\n",
            "342,7549,28/09/2020,/rails/active_storage/blobs/eyJfcmFpbHMiOnsibWVzc2FnZSI6IkJBaHBBbHNkIiwiZXhwIjpudWxsLCJwdXIiOiJibG9iX2lkIn19--845f32ebb6d45855d5471cf11dfbf4104bb75309/7549_28-09-2020_w.jpg,some,1\n",
            "343,7553,30/09/2020,/rails/active_storage/blobs/eyJfcmFpbHMiOnsibWVzc2FnZSI6IkJBaHBBbDhkIiwiZXhwIjpudWxsLCJwdXIiOiJibG9iX2lkIn19--0e3ee0df7429a7e4f33ebcd2fe8e31b2aff3135f/7553_30-09-2020_w.jpg,substantial,3\n",
            "344,7556,01/10/2020,/rails/active_storage/blobs/eyJfcmFpbHMiOnsibWVzc2FnZSI6IkJBaHBBbUlkIiwiZXhwIjpudWxsLCJwdXIiOiJibG9iX2lkIn19--f53c62fa4e98722fcc73f74587ec455c7c978631/7556_01-10-2020_w.jpg,substantial,3\n",
            "345,7557,01/10/2020,/rails/active_storage/blobs/eyJfcmFpbHMiOnsibWVzc2FnZSI6IkJBaHBBbU1kIiwiZXhwIjpudWxsLCJwdXIiOiJibG9iX2lkIn19--bd8aab83496d83dd12b952a0b278fe43498aa9d8/7557_01-10-2020_w.jpg,substantial,3\n",
            "346,7562,04/10/2020,/rails/active_storage/blobs/eyJfcmFpbHMiOnsibWVzc2FnZSI6IkJBaHBBbWdkIiwiZXhwIjpudWxsLCJwdXIiOiJibG9iX2lkIn19--3805896ae73a949cf45f62bddc0975cda1dbaad6/7562_04-10-2020_w.jpg,extensive,4\n",
            "347,7564,05/10/2020,/rails/active_storage/blobs/eyJfcmFpbHMiOnsibWVzc2FnZSI6IkJBaHBBbW9kIiwiZXhwIjpudWxsLCJwdXIiOiJibG9iX2lkIn19--67972670eb57ed9b18921ea7634199b5ee2682a8/7564_05-10-2020_w.jpg,a lot,2\n",
            "348,7567,05/10/2020,/rails/active_storage/blobs/eyJfcmFpbHMiOnsibWVzc2FnZSI6IkJBaHBBbTBkIiwiZXhwIjpudWxsLCJwdXIiOiJibG9iX2lkIn19--9993234574d2df72c8fc7296b7245e3b56d8d0b9/7567_05-10-2020_w.jpg,substantial,3\n",
            "349,7569,07/10/2020,/rails/active_storage/blobs/eyJfcmFpbHMiOnsibWVzc2FnZSI6IkJBaHBBbThkIiwiZXhwIjpudWxsLCJwdXIiOiJibG9iX2lkIn19--f292b8f26acc629f70ec964b307fab106ebf8b32/7569_07-10-2020_w.jpg,a lot,2\n",
            "350,7573,07/10/2020,/rails/active_storage/blobs/eyJfcmFpbHMiOnsibWVzc2FnZSI6IkJBaHBBbk1kIiwiZXhwIjpudWxsLCJwdXIiOiJibG9iX2lkIn19--5fe710a1f9004f0f201f28e98b505eeab59e23f0/7573_07-10-2020_w.jpg,a lot,2\n",
            "351,7575,07/10/2020,/rails/active_storage/blobs/eyJfcmFpbHMiOnsibWVzc2FnZSI6IkJBaHBBblVkIiwiZXhwIjpudWxsLCJwdXIiOiJibG9iX2lkIn19--9ea7cadfd0965717fc6230955197b54b59231ac8/7575_07-10-2020_w.jpg,a lot,2\n",
            "352,7576,07/10/2020,/rails/active_storage/blobs/eyJfcmFpbHMiOnsibWVzc2FnZSI6IkJBaHBBbllkIiwiZXhwIjpudWxsLCJwdXIiOiJibG9iX2lkIn19--bfc9836aa409e9d739dc64326aba5f01cbc0cc57/7576_07-10-2020_w.jpg,a lot,2\n",
            "353,7577,07/10/2020,/rails/active_storage/blobs/eyJfcmFpbHMiOnsibWVzc2FnZSI6IkJBaHBBbmNkIiwiZXhwIjpudWxsLCJwdXIiOiJibG9iX2lkIn19--ce49a76054eca83eda2410c669701f6380fe9ce9/7577_07-10-2020_w.jpg,a lot,2\n",
            "354,7579,08/10/2020,/rails/active_storage/blobs/eyJfcmFpbHMiOnsibWVzc2FnZSI6IkJBaHBBbmtkIiwiZXhwIjpudWxsLCJwdXIiOiJibG9iX2lkIn19--eb47319d043e4ba3565b5ba8e950b38ba0fd8667/7579_08-10-2020_w.jpg,substantial,3\n",
            "355,7583,08/10/2020,/rails/active_storage/blobs/eyJfcmFpbHMiOnsibWVzc2FnZSI6IkJBaHBBbjBkIiwiZXhwIjpudWxsLCJwdXIiOiJibG9iX2lkIn19--202d16ba84d45b5ede4d47a0b006a04a5923151a/7583_08-10-2020_w.jpg,a lot,2\n",
            "356,7585,08/10/2020,/rails/active_storage/blobs/eyJfcmFpbHMiOnsibWVzc2FnZSI6IkJBaHBBbjhkIiwiZXhwIjpudWxsLCJwdXIiOiJibG9iX2lkIn19--d0de35f69e3dcd65f1263f0568477f50870ca097/7585_08-10-2020_w.jpg,a lot,2\n",
            "357,7586,09/10/2020,/rails/active_storage/blobs/eyJfcmFpbHMiOnsibWVzc2FnZSI6IkJBaHBBb0FkIiwiZXhwIjpudWxsLCJwdXIiOiJibG9iX2lkIn19--b880abed231961e7717dcdb95a60fb4b96fae52e/7586_09-10-2020_w.jpg,substantial,3\n",
            "358,7595,11/10/2020,/rails/active_storage/blobs/eyJfcmFpbHMiOnsibWVzc2FnZSI6IkJBaHBBb2tkIiwiZXhwIjpudWxsLCJwdXIiOiJibG9iX2lkIn19--4b5cad83469926def7c3f9e0f34d0bdd7a91d72d/7595_11-10-2020_w.jpg,some,1\n",
            "359,7597,12/10/2020,/rails/active_storage/blobs/eyJfcmFpbHMiOnsibWVzc2FnZSI6IkJBaHBBb3NkIiwiZXhwIjpudWxsLCJwdXIiOiJibG9iX2lkIn19--dc55220a4480e8e2e722e6a668276f1ff505d59f/7597_12-10-2020_w.jpg,a lot,2\n",
            "360,7605,14/09/2020,/rails/active_storage/blobs/eyJfcmFpbHMiOnsibWVzc2FnZSI6IkJBaHBBcE1kIiwiZXhwIjpudWxsLCJwdXIiOiJibG9iX2lkIn19--326bad68eab0ab86e3f20d8ae4e79adbf573f2c7/7605_14-09-2020_e.jpg,a lot,2\n",
            "361,7606,08/09/2020,/rails/active_storage/blobs/eyJfcmFpbHMiOnsibWVzc2FnZSI6IkJBaHBBcFFkIiwiZXhwIjpudWxsLCJwdXIiOiJibG9iX2lkIn19--ec18e15874d97581062fdf1d04654061f303f3e5/7606_08-09-2020_e.jpg,substantial,3\n",
            "362,7615,18/09/2020,/rails/active_storage/blobs/eyJfcmFpbHMiOnsibWVzc2FnZSI6IkJBaHBBcDBkIiwiZXhwIjpudWxsLCJwdXIiOiJibG9iX2lkIn19--002c13c07f76ea3bf73b958fd0a965cfa5372809/7615_18-09-2020_e.jpg,none,0\n",
            "363,7630,14/09/2020,/rails/active_storage/blobs/eyJfcmFpbHMiOnsibWVzc2FnZSI6IkJBaHBBcXdkIiwiZXhwIjpudWxsLCJwdXIiOiJibG9iX2lkIn19--04372702af51e9533d03c131d84ffe6083a5922b/7630_14-09-2020_e.jpg,a lot,2\n",
            "364,7653,24/09/2020,/rails/active_storage/blobs/eyJfcmFpbHMiOnsibWVzc2FnZSI6IkJBaHBBc01kIiwiZXhwIjpudWxsLCJwdXIiOiJibG9iX2lkIn19--feaead77a25834e95c78ff72ebac764c2b21c007/7653_24-09-2020_e.jpg,none,0\n",
            "365,7658,25/09/2020,/rails/active_storage/blobs/eyJfcmFpbHMiOnsibWVzc2FnZSI6IkJBaHBBc2dkIiwiZXhwIjpudWxsLCJwdXIiOiJibG9iX2lkIn19--7451ff7eaee8f5de018532ccb176e26d9f5f918c/7658_25-09-2020_e.jpg,none,0\n",
            "366,7661,26/09/2020,/rails/active_storage/blobs/eyJfcmFpbHMiOnsibWVzc2FnZSI6IkJBaHBBc3NkIiwiZXhwIjpudWxsLCJwdXIiOiJibG9iX2lkIn19--daeb46d1eb73dfe36759f64666173a1587d73d0e/7661_26-09-2020_e.jpg,none,0\n",
            "367,7675,26/09/2020,/rails/active_storage/blobs/eyJfcmFpbHMiOnsibWVzc2FnZSI6IkJBaHBBdGtkIiwiZXhwIjpudWxsLCJwdXIiOiJibG9iX2lkIn19--af611baee792ec5e18a138c548628ad5b821dd20/7675_26-09-2020_e.jpg,none,0\n",
            "368,7676,26/09/2020,/rails/active_storage/blobs/eyJfcmFpbHMiOnsibWVzc2FnZSI6IkJBaHBBdG9kIiwiZXhwIjpudWxsLCJwdXIiOiJibG9iX2lkIn19--984d18790241443d43a18d1f2fb7daf8b3508513/7676_26-09-2020_e.jpg,none,0\n",
            "369,7680,28/09/2020,/rails/active_storage/blobs/eyJfcmFpbHMiOnsibWVzc2FnZSI6IkJBaHBBdDRkIiwiZXhwIjpudWxsLCJwdXIiOiJibG9iX2lkIn19--5c62def4d08567d4dfac367b2155f58effdafca3/7680_28-09-2020_e.jpg,none,0\n",
            "370,7687,29/09/2020,/rails/active_storage/blobs/eyJfcmFpbHMiOnsibWVzc2FnZSI6IkJBaHBBdk1kIiwiZXhwIjpudWxsLCJwdXIiOiJibG9iX2lkIn19--97388566b18c7418bf0e62d57ec6407fd5b3522f/7687_29-09-2020_e.jpg,none,0\n",
            "371,7691,30/09/2020,/rails/active_storage/blobs/eyJfcmFpbHMiOnsibWVzc2FnZSI6IkJBaHBBdmNkIiwiZXhwIjpudWxsLCJwdXIiOiJibG9iX2lkIn19--7c7c4b750b99aa81225d76d691acd04f4c2c18c6/7691_30-09-2020_e.jpg,extensive,4\n",
            "372,7698,03/10/2020,/rails/active_storage/blobs/eyJfcmFpbHMiOnsibWVzc2FnZSI6IkJBaHBBdjRkIiwiZXhwIjpudWxsLCJwdXIiOiJibG9iX2lkIn19--830f09583ab440f252d59f9532fe9b6e35316e8f/7698_03-10-2020_e.jpg,substantial,3\n",
            "373,7699,03/10/2020,/rails/active_storage/blobs/eyJfcmFpbHMiOnsibWVzc2FnZSI6IkJBaHBBdjhkIiwiZXhwIjpudWxsLCJwdXIiOiJibG9iX2lkIn19--42a4dd317f9a850aee3ee686dd4780ba9f7623a4/7699_03-10-2020_e.jpg,a lot,2\n",
            "374,7706,09/10/2020,/rails/active_storage/blobs/eyJfcmFpbHMiOnsibWVzc2FnZSI6IkJBaHBBZ1llIiwiZXhwIjpudWxsLCJwdXIiOiJibG9iX2lkIn19--b6bd04cb752ff2c5d50e27149673b8c82eaff894/7706_09-10-2020_e.jpg,a lot,2\n",
            "375,7707,08/10/2020,/rails/active_storage/blobs/eyJfcmFpbHMiOnsibWVzc2FnZSI6IkJBaHBBZ2NlIiwiZXhwIjpudWxsLCJwdXIiOiJibG9iX2lkIn19--51bd11d009c4c1e7e73d5945cc0f69925bd1ee8a/7707_08-10-2020_e.jpg,a lot,2\n",
            "376,7709,11/10/2020,/rails/active_storage/blobs/eyJfcmFpbHMiOnsibWVzc2FnZSI6IkJBaHBBZ2tlIiwiZXhwIjpudWxsLCJwdXIiOiJibG9iX2lkIn19--72dc49fef92ee077c67ddf530ecf4d26a8a572fb/7709_11-10-2020_e.jpg,substantial,3\n",
            "377,7772,15/10/2020,/rails/active_storage/blobs/eyJfcmFpbHMiOnsibWVzc2FnZSI6IkJBaHBBa2dlIiwiZXhwIjpudWxsLCJwdXIiOiJibG9iX2lkIn19--91f8c8f8ebcd3c3cec7b45873e995c21e4e8192d/7772_15-10-2020_t.jpg,some,1\n",
            "378,7805,20/10/2020,/rails/active_storage/blobs/eyJfcmFpbHMiOnsibWVzc2FnZSI6IkJBaHBBbWtlIiwiZXhwIjpudWxsLCJwdXIiOiJibG9iX2lkIn19--0572de360e00299e9c77057e070429eccafaa596/7805_20-10-2020_e.jpg,extensive,4\n",
            "379,7837,16/10/2020,/rails/active_storage/blobs/eyJfcmFpbHMiOnsibWVzc2FnZSI6IkJBaHBBb2tlIiwiZXhwIjpudWxsLCJwdXIiOiJibG9iX2lkIn19--ccfb7981aad46fac037b410f0bd299091db53c26/7837_16-10-2020_w.jpg,substantial,3\n",
            "380,7838,16/10/2020,/rails/active_storage/blobs/eyJfcmFpbHMiOnsibWVzc2FnZSI6IkJBaHBBb29lIiwiZXhwIjpudWxsLCJwdXIiOiJibG9iX2lkIn19--d277f9b4d84dd3a7239567b19cd863b9e371e224/7838_16-10-2020_w.jpg,some,1\n",
            "381,7839,16/10/2020,/rails/active_storage/blobs/eyJfcmFpbHMiOnsibWVzc2FnZSI6IkJBaHBBb3NlIiwiZXhwIjpudWxsLCJwdXIiOiJibG9iX2lkIn19--fc7ac66f22406c6486b597375fed9a9fd862ecec/7839_16-10-2020_w.jpg,some,1\n",
            "382,7842,17/10/2020,/rails/active_storage/blobs/eyJfcmFpbHMiOnsibWVzc2FnZSI6IkJBaHBBbzRlIiwiZXhwIjpudWxsLCJwdXIiOiJibG9iX2lkIn19--114cd886ea084d8004141739c363ba503b83675b/7842_17-10-2020_w.jpg,some,1\n",
            "383,7853,20/10/2020,/rails/active_storage/blobs/eyJfcmFpbHMiOnsibWVzc2FnZSI6IkJBaHBBcGtlIiwiZXhwIjpudWxsLCJwdXIiOiJibG9iX2lkIn19--38983ed87b1d8bfb82afd5b1b7442bbae73eb0de/7853_20-10-2020_w.jpg,a lot,2\n",
            "384,7856,21/10/2020,/rails/active_storage/blobs/eyJfcmFpbHMiOnsibWVzc2FnZSI6IkJBaHBBcHdlIiwiZXhwIjpudWxsLCJwdXIiOiJibG9iX2lkIn19--23ba5af89ed9ea471fdaadbf02c7a9aefbea5dab/7856_21-10-2020_w.jpg,substantial,3\n",
            "385,7890,31/10/2020,/rails/active_storage/blobs/eyJfcmFpbHMiOnsibWVzc2FnZSI6IkJBaHBBcjRlIiwiZXhwIjpudWxsLCJwdXIiOiJibG9iX2lkIn19--d3913bf451e491d0719095ee46f6a1c257cc158a/7890_31-10-2020_w.jpg,extensive,4\n",
            "386,7891,01/11/2020,/rails/active_storage/blobs/eyJfcmFpbHMiOnsibWVzc2FnZSI6IkJBaHBBcjhlIiwiZXhwIjpudWxsLCJwdXIiOiJibG9iX2lkIn19--41ff5265cfca59efbf5cfa7ece9191961e7a2cbf/7891_01-11-2020_w.jpg,extensive,4\n",
            "387,7907,22/10/2020,/rails/active_storage/blobs/eyJfcmFpbHMiOnsibWVzc2FnZSI6IkJBaHBBczhlIiwiZXhwIjpudWxsLCJwdXIiOiJibG9iX2lkIn19--7993cfd7f9324f8e3e63a51b410ccd17d4746737/7907_22-10-2020_e.jpg,some,1\n",
            "388,7912,28/10/2020,/rails/active_storage/blobs/eyJfcmFpbHMiOnsibWVzc2FnZSI6IkJBaHBBdFFlIiwiZXhwIjpudWxsLCJwdXIiOiJibG9iX2lkIn19--ebe37817d8196315394de9c472193ff98eae0f82/7912_28-10-2020_e.jpg,a lot,2\n",
            "389,7917,30/10/2020,/rails/active_storage/blobs/eyJfcmFpbHMiOnsibWVzc2FnZSI6IkJBaHBBdGtlIiwiZXhwIjpudWxsLCJwdXIiOiJibG9iX2lkIn19--cddd4e3506dc465fad9e07c0b3947b6201a64a02/7917_30-10-2020_e.jpg,substantial,3\n",
            "390,7920,31/10/2020,/rails/active_storage/blobs/eyJfcmFpbHMiOnsibWVzc2FnZSI6IkJBaHBBdHdlIiwiZXhwIjpudWxsLCJwdXIiOiJibG9iX2lkIn19--04137b973573c97f578dbf0b52e10365c16e60a0/7920_31-10-2020_e.jpg,extensive,4\n",
            "391,7922,01/11/2020,/rails/active_storage/blobs/eyJfcmFpbHMiOnsibWVzc2FnZSI6IkJBaHBBdDRlIiwiZXhwIjpudWxsLCJwdXIiOiJibG9iX2lkIn19--f1177fed0b4439a490e243d6498bbb54815e9b8c/7922_01-11-2020_e.jpg,extensive,4\n",
            "392,7953,24/09/2020,/rails/active_storage/blobs/eyJfcmFpbHMiOnsibWVzc2FnZSI6IkJBaHBBdjBlIiwiZXhwIjpudWxsLCJwdXIiOiJibG9iX2lkIn19--57ccb7e59edbf368adf145dc7af7f3476ad910b0/7953_24-09-2020_w.jpg,none,0\n",
            "393,7955,04/11/2020,/rails/active_storage/blobs/eyJfcmFpbHMiOnsibWVzc2FnZSI6IkJBaHBBdjhlIiwiZXhwIjpudWxsLCJwdXIiOiJibG9iX2lkIn19--59d9e8b74be199bf06ca0e543c34ebabf070d1d2/7955_04-11-2020_w.jpg,substantial,3\n",
            "394,8008,03/12/2020,/rails/active_storage/blobs/eyJfcmFpbHMiOnsibWVzc2FnZSI6IkJBaHBBalFmIiwiZXhwIjpudWxsLCJwdXIiOiJibG9iX2lkIn19--d63bad6c77c1e0487040f9246be6186745ae18e5/8008_03-12-2020_w.jpg,substantial,3\n",
            "395,8044,24/12/2020,/rails/active_storage/blobs/eyJfcmFpbHMiOnsibWVzc2FnZSI6IkJBaHBBbGtmIiwiZXhwIjpudWxsLCJwdXIiOiJibG9iX2lkIn19--3a2e7ce5aa2cba1d9de3c6b4e708cd86ad79b7e2/8044_24-12-2020_e.jpg,some,1\n",
            "\n"
          ],
          "name": "stdout"
        }
      ]
    },
    {
      "cell_type": "code",
      "metadata": {
        "colab": {
          "base_uri": "https://localhost:8080/"
        },
        "id": "FlUx4oLkyN9J",
        "outputId": "c956df48-7657-4f81-92cf-bd2b355ac57d"
      },
      "source": [
        "print(data.head())"
      ],
      "execution_count": null,
      "outputs": [
        {
          "output_type": "stream",
          "text": [
            "   submission-id  ...      tag\n",
            "0           1616  ...  minimal\n",
            "1           1617  ...    a lot\n",
            "2           1928  ...     none\n",
            "3           1929  ...     none\n",
            "4           1936  ...     none\n",
            "\n",
            "[5 rows x 4 columns]\n"
          ],
          "name": "stdout"
        }
      ]
    },
    {
      "cell_type": "markdown",
      "metadata": {
        "id": "S3ssiLskcPKo"
      },
      "source": [
        "Getting data with validation set"
      ]
    },
    {
      "cell_type": "code",
      "metadata": {
        "colab": {
          "base_uri": "https://localhost:8080/"
        },
        "id": "JubCXha8cSPT",
        "outputId": "8aa347ac-2372-4943-b634-b44137f8595f"
      },
      "source": [
        "!git clone https://github.com/monumentalconservation/training_data.git\n",
        "%ls training_data/"
      ],
      "execution_count": null,
      "outputs": [
        {
          "output_type": "stream",
          "text": [
            "Cloning into 'training_data'...\n",
            "remote: Enumerating objects: 77, done.\u001b[K\n",
            "remote: Counting objects: 100% (77/77), done.\u001b[K\n",
            "remote: Compressing objects: 100% (53/53), done.\u001b[K\n",
            "remote: Total 483 (delta 28), reused 71 (delta 24), pack-reused 406\u001b[K\n",
            "Receiving objects: 100% (483/483), 60.54 MiB | 49.55 MiB/s, done.\n",
            "Resolving deltas: 100% (57/57), done.\n",
            "\u001b[0m\u001b[01;34mimages\u001b[0m/   \u001b[01;34mmasks\u001b[0m/                  save-images.py   \u001b[01;34mval_images\u001b[0m/\n",
            "ims.json  save-images-no-dups.py  validation.json  \u001b[01;34mval_masks\u001b[0m/\n"
          ],
          "name": "stdout"
        }
      ]
    },
    {
      "cell_type": "code",
      "metadata": {
        "colab": {
          "base_uri": "https://localhost:8080/"
        },
        "id": "plUkwa-Tf9HW",
        "outputId": "98964a3a-a735-4eed-8145-1cb33061159d"
      },
      "source": [
        "img = Image.open('/content/training_data/val_images/10.jpeg')\n",
        "\n",
        "resized_im, seg_map = MODEL.run(img)\n",
        "plt.imshow(seg_map)\n",
        "seg_image = label_to_color_image(seg_map).astype(np.uint8)\n",
        "plt.imshow(seg_image)"
      ],
      "execution_count": null,
      "outputs": [
        {
          "output_type": "stream",
          "text": [
            "0.12427325581395349\n",
            "(513, 288)\n"
          ],
          "name": "stdout"
        }
      ]
    },
    {
      "cell_type": "code",
      "metadata": {
        "id": "CioHEfDpaDyn"
      },
      "source": [
        "# All together now...\n",
        "image_path = '/content/training_data/val_images/10.jpeg'\n",
        "mask_path = '/content/training_data/val_masks/10.png'\n",
        "from sklearn.metrics import confusion_matrix\n",
        "\n",
        "\n",
        "def get_stats(row):\n",
        "    # PREDICTED\n",
        "    # Get the image\n",
        "    img = Image.open('training_data/val_images/' + row['Image'])\n",
        "    # Run model on image\n",
        "    resized_im, seg_map = MODEL.run(img)\n",
        "    # Get the coloured segmentation map\n",
        "    seg_image = label_to_color_image(seg_map).astype(np.uint8)\n",
        "    # make a copy of this image (which you need to do to apply transformations)\n",
        "    seg_copy = seg_image.copy()\n",
        "    # create a mask of only the water pixels\n",
        "    water_pixels_mask = np.all(seg_copy == [0, 192, 128], axis=-1)\n",
        "    non_water_pixels_mask = np.any(seg_copy != [0, 192, 128], axis=-1)  \n",
        "\n",
        "    # apply this to image, so its just a mask of the images\n",
        "    seg_copy[water_pixels_mask] = [255, 255, 255]\n",
        "    seg_copy[non_water_pixels_mask] = [0, 0, 0]\n",
        "\n",
        "    # transform the image into a PIL image, in order to change the mode\n",
        "    img = Image.fromarray(seg_copy.astype('uint8')).resize((400,400))\n",
        "    img = img.convert('1')\n",
        "\n",
        "    # transform back to ndim array, in order to re-shape\n",
        "    predicted_mask =  np.array(img).astype(np.uint8).reshape(-1,1)\n",
        "\n",
        "\n",
        "    # GROUND TRUTH\n",
        "    # get the ground truth\n",
        "    val_mask = Image.open('training_data/val_masks/' + row['Mask'])\n",
        "    # resize, convert mode, turn into d.dim array and re-shape\n",
        "    ground_truth = np.array(val_mask.resize((400,400)).convert('1')).astype(np.uint8).reshape(-1,1)\n",
        "\n",
        "    # CONFUSION MATRIX\n",
        "    confusionMatrix = pd.DataFrame(confusion_matrix(ground_truth,predicted_mask),columns = ['Background','Water'],index = ['Background','Water'])\n",
        "\n",
        "    recall_of_prediction = confusionMatrix.at['Water', 'Water'] / (confusionMatrix.at['Water', 'Water'] + confusionMatrix.at['Water', 'Background'])\n",
        "    precision = confusionMatrix.at['Water', 'Water'] / (confusionMatrix.at['Water', 'Water'] + confusionMatrix.at['Background', 'Water'])\n",
        "    intersection_over_union = confusionMatrix.at['Water', 'Water'] / (confusionMatrix.at['Water', 'Water'] + confusionMatrix.at['Background', 'Water'] + confusionMatrix.at['Water', 'Background'])\n",
        "\n",
        "    recall_of_prediction = round(recall_of_prediction,2) *100\n",
        "    precision = round(precision,2) *100\n",
        "    intersection_over_union = round(intersection_over_union,2)\n",
        "\n",
        "    return [recall_of_prediction, precision, intersection_over_union]"
      ],
      "execution_count": null,
      "outputs": []
    },
    {
      "cell_type": "code",
      "metadata": {
        "id": "WH4U-STDcgkR"
      },
      "source": [
        "images = os.listdir('training_data/val_images')\n",
        "masks = os.listdir('training_data/val_masks')\n",
        "images.sort()\n",
        "masks.sort()\n",
        "\n",
        "data = { \"Image\": images, \"Mask\": masks }\n",
        "images = pd.DataFrame(data)"
      ],
      "execution_count": null,
      "outputs": []
    },
    {
      "cell_type": "code",
      "metadata": {
        "colab": {
          "base_uri": "https://localhost:8080/",
          "height": 1000
        },
        "id": "OaMF-lk-cjJr",
        "outputId": "e927e3b8-786b-444a-ad18-818eaf60f3cc"
      },
      "source": [
        "import torch\n",
        "model = MODEL\n",
        "device = torch.device(\"cuda:0\")\n",
        "\n",
        "images['stats'] = images.apply(get_stats, axis=1)\n",
        "images[['recall','precision','IoU']] = pd.DataFrame(images.stats.tolist(), index= images.index)\n",
        "images = images.drop(['stats'], axis=1)\n",
        "images"
      ],
      "execution_count": null,
      "outputs": [
        {
          "output_type": "stream",
          "text": [
            "0.11094290657439447\n",
            "(513, 384)\n",
            "0.12427325581395349\n",
            "(513, 288)\n",
            "0.12723214285714285\n",
            "(513, 384)\n"
          ],
          "name": "stdout"
        },
        {
          "output_type": "stream",
          "text": [
            "/usr/local/lib/python3.6/dist-packages/ipykernel_launcher.py:43: RuntimeWarning: invalid value encountered in long_scalars\n"
          ],
          "name": "stderr"
        },
        {
          "output_type": "stream",
          "text": [
            "0.320625\n",
            "(513, 288)\n",
            "0.4275\n",
            "(513, 384)\n",
            "0.4275\n",
            "(384, 513)\n",
            "0.320625\n",
            "(513, 384)\n",
            "0.320625\n",
            "(384, 513)\n",
            "0.320625\n",
            "(513, 249)\n",
            "0.12723214285714285\n",
            "(384, 513)\n",
            "0.32082551594746717\n",
            "(513, 384)\n",
            "0.320625\n",
            "(513, 384)\n",
            "0.4275\n",
            "(384, 513)\n",
            "0.4275\n",
            "(513, 384)\n",
            "0.4275\n",
            "(513, 384)\n",
            "0.320625\n",
            "(384, 513)\n",
            "0.32082551594746717\n",
            "(513, 384)\n",
            "0.125244140625\n",
            "(513, 384)\n",
            "0.320625\n",
            "(513, 384)\n",
            "0.12723214285714285\n",
            "(513, 384)\n",
            "0.4275\n",
            "(513, 384)\n",
            "0.5009765625\n",
            "(513, 384)\n",
            "0.320625\n",
            "(384, 513)\n",
            "0.320625\n",
            "(513, 384)\n",
            "0.8015625\n",
            "(513, 384)\n"
          ],
          "name": "stdout"
        },
        {
          "output_type": "execute_result",
          "data": {
            "text/html": [
              "<div>\n",
              "<style scoped>\n",
              "    .dataframe tbody tr th:only-of-type {\n",
              "        vertical-align: middle;\n",
              "    }\n",
              "\n",
              "    .dataframe tbody tr th {\n",
              "        vertical-align: top;\n",
              "    }\n",
              "\n",
              "    .dataframe thead th {\n",
              "        text-align: right;\n",
              "    }\n",
              "</style>\n",
              "<table border=\"1\" class=\"dataframe\">\n",
              "  <thead>\n",
              "    <tr style=\"text-align: right;\">\n",
              "      <th></th>\n",
              "      <th>Image</th>\n",
              "      <th>Mask</th>\n",
              "      <th>recall</th>\n",
              "      <th>precision</th>\n",
              "      <th>IoU</th>\n",
              "    </tr>\n",
              "  </thead>\n",
              "  <tbody>\n",
              "    <tr>\n",
              "      <th>0</th>\n",
              "      <td>1.jpeg</td>\n",
              "      <td>1.png</td>\n",
              "      <td>2.0</td>\n",
              "      <td>0.0</td>\n",
              "      <td>0.00</td>\n",
              "    </tr>\n",
              "    <tr>\n",
              "      <th>1</th>\n",
              "      <td>10.jpeg</td>\n",
              "      <td>10.png</td>\n",
              "      <td>68.0</td>\n",
              "      <td>56.0</td>\n",
              "      <td>0.44</td>\n",
              "    </tr>\n",
              "    <tr>\n",
              "      <th>2</th>\n",
              "      <td>11.jpeg</td>\n",
              "      <td>11.png</td>\n",
              "      <td>0.0</td>\n",
              "      <td>NaN</td>\n",
              "      <td>0.00</td>\n",
              "    </tr>\n",
              "    <tr>\n",
              "      <th>3</th>\n",
              "      <td>12.jpeg</td>\n",
              "      <td>12.png</td>\n",
              "      <td>0.0</td>\n",
              "      <td>0.0</td>\n",
              "      <td>0.00</td>\n",
              "    </tr>\n",
              "    <tr>\n",
              "      <th>4</th>\n",
              "      <td>13.jpeg</td>\n",
              "      <td>13.png</td>\n",
              "      <td>74.0</td>\n",
              "      <td>41.0</td>\n",
              "      <td>0.36</td>\n",
              "    </tr>\n",
              "    <tr>\n",
              "      <th>5</th>\n",
              "      <td>14.jpeg</td>\n",
              "      <td>14.png</td>\n",
              "      <td>68.0</td>\n",
              "      <td>20.0</td>\n",
              "      <td>0.19</td>\n",
              "    </tr>\n",
              "    <tr>\n",
              "      <th>6</th>\n",
              "      <td>15.jpeg</td>\n",
              "      <td>15.png</td>\n",
              "      <td>0.0</td>\n",
              "      <td>NaN</td>\n",
              "      <td>0.00</td>\n",
              "    </tr>\n",
              "    <tr>\n",
              "      <th>7</th>\n",
              "      <td>16.jpeg</td>\n",
              "      <td>16.png</td>\n",
              "      <td>0.0</td>\n",
              "      <td>NaN</td>\n",
              "      <td>0.00</td>\n",
              "    </tr>\n",
              "    <tr>\n",
              "      <th>8</th>\n",
              "      <td>17.jpeg</td>\n",
              "      <td>17.png</td>\n",
              "      <td>89.0</td>\n",
              "      <td>56.0</td>\n",
              "      <td>0.52</td>\n",
              "    </tr>\n",
              "    <tr>\n",
              "      <th>9</th>\n",
              "      <td>18.jpeg</td>\n",
              "      <td>18.png</td>\n",
              "      <td>0.0</td>\n",
              "      <td>NaN</td>\n",
              "      <td>0.00</td>\n",
              "    </tr>\n",
              "    <tr>\n",
              "      <th>10</th>\n",
              "      <td>19.jpeg</td>\n",
              "      <td>19.png</td>\n",
              "      <td>11.0</td>\n",
              "      <td>100.0</td>\n",
              "      <td>0.11</td>\n",
              "    </tr>\n",
              "    <tr>\n",
              "      <th>11</th>\n",
              "      <td>2.jpeg</td>\n",
              "      <td>2.png</td>\n",
              "      <td>26.0</td>\n",
              "      <td>100.0</td>\n",
              "      <td>0.26</td>\n",
              "    </tr>\n",
              "    <tr>\n",
              "      <th>12</th>\n",
              "      <td>20.jpeg</td>\n",
              "      <td>20.png</td>\n",
              "      <td>0.0</td>\n",
              "      <td>NaN</td>\n",
              "      <td>0.00</td>\n",
              "    </tr>\n",
              "    <tr>\n",
              "      <th>13</th>\n",
              "      <td>21.jpeg</td>\n",
              "      <td>21.png</td>\n",
              "      <td>70.0</td>\n",
              "      <td>55.0</td>\n",
              "      <td>0.45</td>\n",
              "    </tr>\n",
              "    <tr>\n",
              "      <th>14</th>\n",
              "      <td>22.jpeg</td>\n",
              "      <td>22.png</td>\n",
              "      <td>0.0</td>\n",
              "      <td>NaN</td>\n",
              "      <td>0.00</td>\n",
              "    </tr>\n",
              "    <tr>\n",
              "      <th>15</th>\n",
              "      <td>23.jpeg</td>\n",
              "      <td>23.png</td>\n",
              "      <td>0.0</td>\n",
              "      <td>NaN</td>\n",
              "      <td>0.00</td>\n",
              "    </tr>\n",
              "    <tr>\n",
              "      <th>16</th>\n",
              "      <td>24.jpeg</td>\n",
              "      <td>24.png</td>\n",
              "      <td>44.0</td>\n",
              "      <td>55.0</td>\n",
              "      <td>0.32</td>\n",
              "    </tr>\n",
              "    <tr>\n",
              "      <th>17</th>\n",
              "      <td>25.jpeg</td>\n",
              "      <td>25.png</td>\n",
              "      <td>11.0</td>\n",
              "      <td>40.0</td>\n",
              "      <td>0.09</td>\n",
              "    </tr>\n",
              "    <tr>\n",
              "      <th>18</th>\n",
              "      <td>3.jpeg</td>\n",
              "      <td>3.png</td>\n",
              "      <td>0.0</td>\n",
              "      <td>NaN</td>\n",
              "      <td>0.00</td>\n",
              "    </tr>\n",
              "    <tr>\n",
              "      <th>19</th>\n",
              "      <td>4.jpeg</td>\n",
              "      <td>4.png</td>\n",
              "      <td>85.0</td>\n",
              "      <td>34.0</td>\n",
              "      <td>0.32</td>\n",
              "    </tr>\n",
              "    <tr>\n",
              "      <th>20</th>\n",
              "      <td>5.jpeg</td>\n",
              "      <td>5.png</td>\n",
              "      <td>5.0</td>\n",
              "      <td>98.0</td>\n",
              "      <td>0.05</td>\n",
              "    </tr>\n",
              "    <tr>\n",
              "      <th>21</th>\n",
              "      <td>6.jpeg</td>\n",
              "      <td>6.png</td>\n",
              "      <td>0.0</td>\n",
              "      <td>NaN</td>\n",
              "      <td>0.00</td>\n",
              "    </tr>\n",
              "    <tr>\n",
              "      <th>22</th>\n",
              "      <td>7.jpeg</td>\n",
              "      <td>7.png</td>\n",
              "      <td>0.0</td>\n",
              "      <td>NaN</td>\n",
              "      <td>0.00</td>\n",
              "    </tr>\n",
              "    <tr>\n",
              "      <th>23</th>\n",
              "      <td>8.jpeg</td>\n",
              "      <td>8.png</td>\n",
              "      <td>92.0</td>\n",
              "      <td>28.0</td>\n",
              "      <td>0.27</td>\n",
              "    </tr>\n",
              "    <tr>\n",
              "      <th>24</th>\n",
              "      <td>9.jpeg</td>\n",
              "      <td>9.png</td>\n",
              "      <td>0.0</td>\n",
              "      <td>0.0</td>\n",
              "      <td>0.00</td>\n",
              "    </tr>\n",
              "  </tbody>\n",
              "</table>\n",
              "</div>"
            ],
            "text/plain": [
              "      Image    Mask  recall  precision   IoU\n",
              "0    1.jpeg   1.png     2.0        0.0  0.00\n",
              "1   10.jpeg  10.png    68.0       56.0  0.44\n",
              "2   11.jpeg  11.png     0.0        NaN  0.00\n",
              "3   12.jpeg  12.png     0.0        0.0  0.00\n",
              "4   13.jpeg  13.png    74.0       41.0  0.36\n",
              "5   14.jpeg  14.png    68.0       20.0  0.19\n",
              "6   15.jpeg  15.png     0.0        NaN  0.00\n",
              "7   16.jpeg  16.png     0.0        NaN  0.00\n",
              "8   17.jpeg  17.png    89.0       56.0  0.52\n",
              "9   18.jpeg  18.png     0.0        NaN  0.00\n",
              "10  19.jpeg  19.png    11.0      100.0  0.11\n",
              "11   2.jpeg   2.png    26.0      100.0  0.26\n",
              "12  20.jpeg  20.png     0.0        NaN  0.00\n",
              "13  21.jpeg  21.png    70.0       55.0  0.45\n",
              "14  22.jpeg  22.png     0.0        NaN  0.00\n",
              "15  23.jpeg  23.png     0.0        NaN  0.00\n",
              "16  24.jpeg  24.png    44.0       55.0  0.32\n",
              "17  25.jpeg  25.png    11.0       40.0  0.09\n",
              "18   3.jpeg   3.png     0.0        NaN  0.00\n",
              "19   4.jpeg   4.png    85.0       34.0  0.32\n",
              "20   5.jpeg   5.png     5.0       98.0  0.05\n",
              "21   6.jpeg   6.png     0.0        NaN  0.00\n",
              "22   7.jpeg   7.png     0.0        NaN  0.00\n",
              "23   8.jpeg   8.png    92.0       28.0  0.27\n",
              "24   9.jpeg   9.png     0.0        0.0  0.00"
            ]
          },
          "metadata": {
            "tags": []
          },
          "execution_count": 27
        }
      ]
    }
  ]
}