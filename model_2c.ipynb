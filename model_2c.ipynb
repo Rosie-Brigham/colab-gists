{
  "nbformat": 4,
  "nbformat_minor": 0,
  "metadata": {
    "accelerator": "GPU",
    "colab": {
      "name": "model_5.ipynb",
      "provenance": [],
      "collapsed_sections": [],
      "include_colab_link": true
    },
    "kernelspec": {
      "display_name": "Python 3",
      "name": "python3"
    },
    "widgets": {
      "application/vnd.jupyter.widget-state+json": {
        "3d5ff67e93844b749699cd12b69095e4": {
          "model_module": "@jupyter-widgets/controls",
          "model_name": "HBoxModel",
          "model_module_version": "1.5.0",
          "state": {
            "_view_name": "HBoxView",
            "_dom_classes": [],
            "_model_name": "HBoxModel",
            "_view_module": "@jupyter-widgets/controls",
            "_model_module_version": "1.5.0",
            "_view_count": null,
            "_view_module_version": "1.5.0",
            "box_style": "",
            "layout": "IPY_MODEL_a32fd3b5a1a842aba886fc21c1ee5924",
            "_model_module": "@jupyter-widgets/controls",
            "children": [
              "IPY_MODEL_20ce2fdf8f754d76b4bfb812b4831bfb",
              "IPY_MODEL_721e0aefca9c4b1fae29026e0308de85"
            ]
          }
        },
        "a32fd3b5a1a842aba886fc21c1ee5924": {
          "model_module": "@jupyter-widgets/base",
          "model_name": "LayoutModel",
          "model_module_version": "1.2.0",
          "state": {
            "_view_name": "LayoutView",
            "grid_template_rows": null,
            "right": null,
            "justify_content": null,
            "_view_module": "@jupyter-widgets/base",
            "overflow": null,
            "_model_module_version": "1.2.0",
            "_view_count": null,
            "flex_flow": null,
            "width": null,
            "min_width": null,
            "border": null,
            "align_items": null,
            "bottom": null,
            "_model_module": "@jupyter-widgets/base",
            "top": null,
            "grid_column": null,
            "overflow_y": null,
            "overflow_x": null,
            "grid_auto_flow": null,
            "grid_area": null,
            "grid_template_columns": null,
            "flex": null,
            "_model_name": "LayoutModel",
            "justify_items": null,
            "grid_row": null,
            "max_height": null,
            "align_content": null,
            "visibility": null,
            "align_self": null,
            "height": null,
            "min_height": null,
            "padding": null,
            "grid_auto_rows": null,
            "grid_gap": null,
            "max_width": null,
            "order": null,
            "_view_module_version": "1.2.0",
            "grid_template_areas": null,
            "object_position": null,
            "object_fit": null,
            "grid_auto_columns": null,
            "margin": null,
            "display": null,
            "left": null
          }
        },
        "20ce2fdf8f754d76b4bfb812b4831bfb": {
          "model_module": "@jupyter-widgets/controls",
          "model_name": "FloatProgressModel",
          "model_module_version": "1.5.0",
          "state": {
            "_view_name": "ProgressView",
            "style": "IPY_MODEL_6a191f8f41c6458aa8135b014797b9a0",
            "_dom_classes": [],
            "description": "100%",
            "_model_name": "FloatProgressModel",
            "bar_style": "success",
            "max": 52147035,
            "_view_module": "@jupyter-widgets/controls",
            "_model_module_version": "1.5.0",
            "value": 52147035,
            "_view_count": null,
            "_view_module_version": "1.5.0",
            "orientation": "horizontal",
            "min": 0,
            "description_tooltip": null,
            "_model_module": "@jupyter-widgets/controls",
            "layout": "IPY_MODEL_89f8ee8c9e934ca4abba63f6e837507b"
          }
        },
        "721e0aefca9c4b1fae29026e0308de85": {
          "model_module": "@jupyter-widgets/controls",
          "model_name": "HTMLModel",
          "model_module_version": "1.5.0",
          "state": {
            "_view_name": "HTMLView",
            "style": "IPY_MODEL_3eaa6c0db8b64fb69c27571e63e20e3c",
            "_dom_classes": [],
            "description": "",
            "_model_name": "HTMLModel",
            "placeholder": "​",
            "_view_module": "@jupyter-widgets/controls",
            "_model_module_version": "1.5.0",
            "value": " 49.7M/49.7M [00:00&lt;00:00, 71.1MB/s]",
            "_view_count": null,
            "_view_module_version": "1.5.0",
            "description_tooltip": null,
            "_model_module": "@jupyter-widgets/controls",
            "layout": "IPY_MODEL_5effd09a9e51425481c950e6f52b4766"
          }
        },
        "6a191f8f41c6458aa8135b014797b9a0": {
          "model_module": "@jupyter-widgets/controls",
          "model_name": "ProgressStyleModel",
          "model_module_version": "1.5.0",
          "state": {
            "_view_name": "StyleView",
            "_model_name": "ProgressStyleModel",
            "description_width": "initial",
            "_view_module": "@jupyter-widgets/base",
            "_model_module_version": "1.5.0",
            "_view_count": null,
            "_view_module_version": "1.2.0",
            "bar_color": null,
            "_model_module": "@jupyter-widgets/controls"
          }
        },
        "89f8ee8c9e934ca4abba63f6e837507b": {
          "model_module": "@jupyter-widgets/base",
          "model_name": "LayoutModel",
          "model_module_version": "1.2.0",
          "state": {
            "_view_name": "LayoutView",
            "grid_template_rows": null,
            "right": null,
            "justify_content": null,
            "_view_module": "@jupyter-widgets/base",
            "overflow": null,
            "_model_module_version": "1.2.0",
            "_view_count": null,
            "flex_flow": null,
            "width": null,
            "min_width": null,
            "border": null,
            "align_items": null,
            "bottom": null,
            "_model_module": "@jupyter-widgets/base",
            "top": null,
            "grid_column": null,
            "overflow_y": null,
            "overflow_x": null,
            "grid_auto_flow": null,
            "grid_area": null,
            "grid_template_columns": null,
            "flex": null,
            "_model_name": "LayoutModel",
            "justify_items": null,
            "grid_row": null,
            "max_height": null,
            "align_content": null,
            "visibility": null,
            "align_self": null,
            "height": null,
            "min_height": null,
            "padding": null,
            "grid_auto_rows": null,
            "grid_gap": null,
            "max_width": null,
            "order": null,
            "_view_module_version": "1.2.0",
            "grid_template_areas": null,
            "object_position": null,
            "object_fit": null,
            "grid_auto_columns": null,
            "margin": null,
            "display": null,
            "left": null
          }
        },
        "3eaa6c0db8b64fb69c27571e63e20e3c": {
          "model_module": "@jupyter-widgets/controls",
          "model_name": "DescriptionStyleModel",
          "model_module_version": "1.5.0",
          "state": {
            "_view_name": "StyleView",
            "_model_name": "DescriptionStyleModel",
            "description_width": "",
            "_view_module": "@jupyter-widgets/base",
            "_model_module_version": "1.5.0",
            "_view_count": null,
            "_view_module_version": "1.2.0",
            "_model_module": "@jupyter-widgets/controls"
          }
        },
        "5effd09a9e51425481c950e6f52b4766": {
          "model_module": "@jupyter-widgets/base",
          "model_name": "LayoutModel",
          "model_module_version": "1.2.0",
          "state": {
            "_view_name": "LayoutView",
            "grid_template_rows": null,
            "right": null,
            "justify_content": null,
            "_view_module": "@jupyter-widgets/base",
            "overflow": null,
            "_model_module_version": "1.2.0",
            "_view_count": null,
            "flex_flow": null,
            "width": null,
            "min_width": null,
            "border": null,
            "align_items": null,
            "bottom": null,
            "_model_module": "@jupyter-widgets/base",
            "top": null,
            "grid_column": null,
            "overflow_y": null,
            "overflow_x": null,
            "grid_auto_flow": null,
            "grid_area": null,
            "grid_template_columns": null,
            "flex": null,
            "_model_name": "LayoutModel",
            "justify_items": null,
            "grid_row": null,
            "max_height": null,
            "align_content": null,
            "visibility": null,
            "align_self": null,
            "height": null,
            "min_height": null,
            "padding": null,
            "grid_auto_rows": null,
            "grid_gap": null,
            "max_width": null,
            "order": null,
            "_view_module_version": "1.2.0",
            "grid_template_areas": null,
            "object_position": null,
            "object_fit": null,
            "grid_auto_columns": null,
            "margin": null,
            "display": null,
            "left": null
          }
        }
      }
    }
  },
  "cells": [
    {
      "cell_type": "markdown",
      "metadata": {
        "id": "view-in-github",
        "colab_type": "text"
      },
      "source": [
        "<a href=\"https://colab.research.google.com/github/Rosie-Brigham/colab-gists/blob/main/model_2c.ipynb\" target=\"_parent\"><img src=\"https://colab.research.google.com/assets/colab-badge.svg\" alt=\"Open In Colab\"/></a>"
      ]
    },
    {
      "cell_type": "markdown",
      "metadata": {
        "id": "Y2rrsraq11O2"
      },
      "source": [
        "This is the same as model 4, but with a mere 3 classes!"
      ]
    },
    {
      "cell_type": "code",
      "metadata": {
        "id": "UCW5Hyz2TDeO"
      },
      "source": [
        "# Imports\n",
        "import torch\n",
        "import torch.nn as nn # All neural network modules, nn.Linear, nn.Conv2d, BatchNorm, Loss functions\n",
        "import torch.optim as optim # For all Optimization algorithms, SGD, Adam, etc.\n",
        "import torchvision.transforms as transforms # Transformations we can perform on our dataset\n",
        "import torchvision\n",
        "import os\n",
        "import pandas as pd\n",
        "from skimage import io\n",
        "from torch.utils.data import Dataset, DataLoader # Gives easier dataset managment and creates mini batches\n",
        "from PIL import Image"
      ],
      "execution_count": null,
      "outputs": []
    },
    {
      "cell_type": "code",
      "metadata": {
        "colab": {
          "base_uri": "https://localhost:8080/"
        },
        "id": "LBLPp_zATVjJ",
        "outputId": "dd5c0e27-e764-4814-cb3c-38bf963fd8f4"
      },
      "source": [
        "!git clone https://github.com/monumentalconservation/training-set-circle-6.git\n",
        "import os\n",
        "os.getcwd()\n",
        "\n",
        "labels = pd.read_csv(r'training-set-circle-6/image-list.csv')\n",
        "test_labels = pd.read_csv(r'training-set-circle-6/testing-image-list.csv')\n",
        "\n",
        "train_path = r'training-set-circle-6/images/'\n",
        "test_path = r'training-set-circle-6/testing-images/'"
      ],
      "execution_count": null,
      "outputs": [
        {
          "output_type": "stream",
          "text": [
            "Cloning into 'training-set-circle-6'...\n",
            "remote: Enumerating objects: 68, done.\u001b[K\n",
            "remote: Counting objects: 100% (68/68), done.\u001b[K\n",
            "remote: Compressing objects: 100% (58/58), done.\u001b[K\n",
            "remote: Total 176 (delta 11), reused 66 (delta 10), pack-reused 108\u001b[K\n",
            "Receiving objects: 100% (176/176), 152.16 MiB | 47.33 MiB/s, done.\n",
            "Resolving deltas: 100% (11/11), done.\n"
          ],
          "name": "stdout"
        }
      ]
    },
    {
      "cell_type": "code",
      "metadata": {
        "colab": {
          "base_uri": "https://localhost:8080/",
          "height": 204
        },
        "id": "Gskfx8WZrytg",
        "outputId": "c903ce00-8cc5-4474-ea05-5add28bbb0cd"
      },
      "source": [
        "labels.head()\n"
      ],
      "execution_count": null,
      "outputs": [
        {
          "output_type": "execute_result",
          "data": {
            "text/html": [
              "<div>\n",
              "<style scoped>\n",
              "    .dataframe tbody tr th:only-of-type {\n",
              "        vertical-align: middle;\n",
              "    }\n",
              "\n",
              "    .dataframe tbody tr th {\n",
              "        vertical-align: top;\n",
              "    }\n",
              "\n",
              "    .dataframe thead th {\n",
              "        text-align: right;\n",
              "    }\n",
              "</style>\n",
              "<table border=\"1\" class=\"dataframe\">\n",
              "  <thead>\n",
              "    <tr style=\"text-align: right;\">\n",
              "      <th></th>\n",
              "      <th>id</th>\n",
              "      <th>none</th>\n",
              "      <th>some</th>\n",
              "      <th>a lot</th>\n",
              "      <th>substantial</th>\n",
              "      <th>extensive</th>\n",
              "    </tr>\n",
              "  </thead>\n",
              "  <tbody>\n",
              "    <tr>\n",
              "      <th>0</th>\n",
              "      <td>6687</td>\n",
              "      <td>1</td>\n",
              "      <td>0</td>\n",
              "      <td>0</td>\n",
              "      <td>0</td>\n",
              "      <td>0</td>\n",
              "    </tr>\n",
              "    <tr>\n",
              "      <th>1</th>\n",
              "      <td>6690</td>\n",
              "      <td>1</td>\n",
              "      <td>0</td>\n",
              "      <td>0</td>\n",
              "      <td>0</td>\n",
              "      <td>0</td>\n",
              "    </tr>\n",
              "    <tr>\n",
              "      <th>2</th>\n",
              "      <td>6725</td>\n",
              "      <td>1</td>\n",
              "      <td>0</td>\n",
              "      <td>0</td>\n",
              "      <td>0</td>\n",
              "      <td>0</td>\n",
              "    </tr>\n",
              "    <tr>\n",
              "      <th>3</th>\n",
              "      <td>6771</td>\n",
              "      <td>1</td>\n",
              "      <td>0</td>\n",
              "      <td>0</td>\n",
              "      <td>0</td>\n",
              "      <td>0</td>\n",
              "    </tr>\n",
              "    <tr>\n",
              "      <th>4</th>\n",
              "      <td>6917</td>\n",
              "      <td>1</td>\n",
              "      <td>0</td>\n",
              "      <td>0</td>\n",
              "      <td>0</td>\n",
              "      <td>0</td>\n",
              "    </tr>\n",
              "  </tbody>\n",
              "</table>\n",
              "</div>"
            ],
            "text/plain": [
              "     id  none  some  a lot  substantial  extensive\n",
              "0  6687     1     0      0            0          0\n",
              "1  6690     1     0      0            0          0\n",
              "2  6725     1     0      0            0          0\n",
              "3  6771     1     0      0            0          0\n",
              "4  6917     1     0      0            0          0"
            ]
          },
          "metadata": {
            "tags": []
          },
          "execution_count": 3
        }
      ]
    },
    {
      "cell_type": "code",
      "metadata": {
        "id": "ygCQZGxnMSB1"
      },
      "source": [
        "def quantify_rainfall(row):\n",
        "  if row['none'] == 1:\n",
        "    val = 0\n",
        "  elif row['some'] == 1:\n",
        "    val = 1\n",
        "  elif row['a lot'] == 1:\n",
        "    val = 1\n",
        "  elif row['substantial'] == 1:\n",
        "    val = 2\n",
        "  elif row['extensive'] == 1:\n",
        "    val = 2\n",
        "  else:\n",
        "    return \n",
        "  return val"
      ],
      "execution_count": null,
      "outputs": []
    },
    {
      "cell_type": "code",
      "metadata": {
        "id": "WuemHOfSNUhd"
      },
      "source": [
        "# Create nice datasets to pass into dataloader\n",
        "\n",
        "labels['class'] = labels.apply(quantify_rainfall, axis=1)\n",
        "labels = labels.drop(['none',\t'some',\t'a lot',\t'substantial',\t'extensive'], axis=1)\n",
        "\n",
        "test_labels['class'] = test_labels.apply(quantify_rainfall, axis=1)\n",
        "test_labels = test_labels.drop(['none',\t'some',\t'a lot',\t'substantial',\t'extensive'], axis=1)\n"
      ],
      "execution_count": null,
      "outputs": []
    },
    {
      "cell_type": "code",
      "metadata": {
        "colab": {
          "base_uri": "https://localhost:8080/",
          "height": 204
        },
        "id": "Bw4FPCvz3bI7",
        "outputId": "29fc324a-4f17-4251-ea72-808be56004ee"
      },
      "source": [
        "labels.head()"
      ],
      "execution_count": null,
      "outputs": [
        {
          "output_type": "execute_result",
          "data": {
            "text/html": [
              "<div>\n",
              "<style scoped>\n",
              "    .dataframe tbody tr th:only-of-type {\n",
              "        vertical-align: middle;\n",
              "    }\n",
              "\n",
              "    .dataframe tbody tr th {\n",
              "        vertical-align: top;\n",
              "    }\n",
              "\n",
              "    .dataframe thead th {\n",
              "        text-align: right;\n",
              "    }\n",
              "</style>\n",
              "<table border=\"1\" class=\"dataframe\">\n",
              "  <thead>\n",
              "    <tr style=\"text-align: right;\">\n",
              "      <th></th>\n",
              "      <th>id</th>\n",
              "      <th>class</th>\n",
              "    </tr>\n",
              "  </thead>\n",
              "  <tbody>\n",
              "    <tr>\n",
              "      <th>0</th>\n",
              "      <td>6687</td>\n",
              "      <td>0</td>\n",
              "    </tr>\n",
              "    <tr>\n",
              "      <th>1</th>\n",
              "      <td>6690</td>\n",
              "      <td>0</td>\n",
              "    </tr>\n",
              "    <tr>\n",
              "      <th>2</th>\n",
              "      <td>6725</td>\n",
              "      <td>0</td>\n",
              "    </tr>\n",
              "    <tr>\n",
              "      <th>3</th>\n",
              "      <td>6771</td>\n",
              "      <td>0</td>\n",
              "    </tr>\n",
              "    <tr>\n",
              "      <th>4</th>\n",
              "      <td>6917</td>\n",
              "      <td>0</td>\n",
              "    </tr>\n",
              "  </tbody>\n",
              "</table>\n",
              "</div>"
            ],
            "text/plain": [
              "     id  class\n",
              "0  6687      0\n",
              "1  6690      0\n",
              "2  6725      0\n",
              "3  6771      0\n",
              "4  6917      0"
            ]
          },
          "metadata": {
            "tags": []
          },
          "execution_count": 6
        }
      ]
    },
    {
      "cell_type": "markdown",
      "metadata": {
        "id": "c5e6zNqQblmO"
      },
      "source": [
        "Thirs attempt at classification - following this tutorial: https://www.youtube.com/watch?v=ZoZHd0Zm3RY&ab_channel=AladdinPersson"
      ]
    },
    {
      "cell_type": "code",
      "metadata": {
        "id": "nJB_l6zdTO2M"
      },
      "source": [
        "# Dataloader\n",
        "class DampDataset(Dataset):\n",
        "    def __init__(self, dataframe, root_dir, transform=None):\n",
        "        self.annotations = dataframe\n",
        "        self.root_dir = root_dir\n",
        "        self.transform = transform\n",
        "\n",
        "    def __len__(self):\n",
        "        return len(self.annotations)\n",
        "\n",
        "    def __getitem__(self, index):\n",
        "        img_path = os.path.join(self.root_dir, str(self.annotations.iloc[index, 0]) + '.jpg')\n",
        "        image = io.imread(img_path)\n",
        "        y_label = torch.tensor(int(self.annotations.iloc[index, 1]))\n",
        "        if self.transform:\n",
        "            image = self.transform(image)\n",
        "\n",
        "        return (image, y_label)\n"
      ],
      "execution_count": null,
      "outputs": []
    },
    {
      "cell_type": "code",
      "metadata": {
        "id": "KPaianyNT8pf"
      },
      "source": [
        "\n",
        "# Set device\n",
        "device = torch.device('cuda' if torch.cuda.is_available() else 'cpu')\n",
        "\n",
        "# Transforms\n",
        "damp_transform = transforms.Compose(\n",
        "    [transforms.ToPILImage(),\n",
        "     transforms.Resize((256,256)), # needed as tuple because images in dataset are different\n",
        "     transforms.ToTensor(),\n",
        "     transforms.Normalize((0.5, 0.5, 0.5), (0.5, 0.5, 0.5))])\n",
        "\n",
        "\n",
        "# Hyperparameters\n",
        "num_epochs = 50;\n",
        "batch_size = 10;\n",
        "learning_rate = 0.0005;\n",
        "num_classes = 3\n",
        "\n",
        "# Load Data\n",
        "dataset = DampDataset(dataframe = labels, root_dir = 'training-set-circle-6/images/', transform = damp_transform)\n",
        "test_dataset = DampDataset(dataframe = test_labels, root_dir = 'training-set-circle-6/testing-images/', transform = damp_transform)\n"
      ],
      "execution_count": null,
      "outputs": []
    },
    {
      "cell_type": "code",
      "metadata": {
        "id": "DkSeuPkYV6pW",
        "colab": {
          "base_uri": "https://localhost:8080/",
          "height": 83,
          "referenced_widgets": [
            "3d5ff67e93844b749699cd12b69095e4",
            "a32fd3b5a1a842aba886fc21c1ee5924",
            "20ce2fdf8f754d76b4bfb812b4831bfb",
            "721e0aefca9c4b1fae29026e0308de85",
            "6a191f8f41c6458aa8135b014797b9a0",
            "89f8ee8c9e934ca4abba63f6e837507b",
            "3eaa6c0db8b64fb69c27571e63e20e3c",
            "5effd09a9e51425481c950e6f52b4766"
          ]
        },
        "outputId": "5c1fcf40-e84b-4d86-ccc5-f81f9c3462dd"
      },
      "source": [
        "\n",
        "# Create the dataloaders\n",
        "train_loader = DataLoader(dataset=dataset, batch_size=batch_size, shuffle=True)\n",
        "test_loader = DataLoader(dataset=test_dataset, batch_size=batch_size, shuffle=True)\n",
        "\n",
        "# Model\n",
        "model = torchvision.models.googlenet(pretrained=True)\n",
        "model.to(device)\n",
        "\n",
        "# Loss and optimizer\n",
        "criterion = nn.CrossEntropyLoss() \n",
        "optimizer = optim.Adam(model.parameters(), lr=learning_rate)\n"
      ],
      "execution_count": null,
      "outputs": [
        {
          "output_type": "stream",
          "text": [
            "Downloading: \"https://download.pytorch.org/models/googlenet-1378be20.pth\" to /root/.cache/torch/hub/checkpoints/googlenet-1378be20.pth\n"
          ],
          "name": "stderr"
        },
        {
          "output_type": "display_data",
          "data": {
            "application/vnd.jupyter.widget-view+json": {
              "model_id": "3d5ff67e93844b749699cd12b69095e4",
              "version_minor": 0,
              "version_major": 2
            },
            "text/plain": [
              "HBox(children=(FloatProgress(value=0.0, max=52147035.0), HTML(value='')))"
            ]
          },
          "metadata": {
            "tags": []
          }
        },
        {
          "output_type": "stream",
          "text": [
            "\n"
          ],
          "name": "stdout"
        }
      ]
    },
    {
      "cell_type": "code",
      "metadata": {
        "id": "ygbtq4pcIZGO"
      },
      "source": [
        "# This inherits from AlexNet not CNN - not sure what the difference is, find that out\n",
        "class AlexNet(nn.Module):\n",
        "    def __init__(self, num_classes=3):\n",
        "        super(AlexNet, self).__init__()\n",
        "    \n",
        "        self.features = nn.Sequential(nn.Conv2d(3, 64, kernel_size=11, stride=4, padding=2),\n",
        "                                      nn.ReLU(inplace=True),\n",
        "                                      nn.MaxPool2d(kernel_size=3, stride=2),\n",
        "                                      nn.Conv2d(64, 192, kernel_size=5, padding=2),\n",
        "                                      nn.ReLU(inplace=True),\n",
        "                                      nn.MaxPool2d(kernel_size=3, stride=2),\n",
        "                                      nn.Conv2d(192, 384, kernel_size=3, padding=1),\n",
        "                                      nn.ReLU(inplace=True),\n",
        "                                      nn.Conv2d(384, 256, kernel_size=3, padding=1),\n",
        "                                      nn.ReLU(inplace=True),\n",
        "                                      nn.Conv2d(256, 256, kernel_size=3, padding=1),\n",
        "                                      nn.ReLU(inplace=True),\n",
        "                                      nn.MaxPool2d(kernel_size=3, stride=2),)\n",
        "    \n",
        "        self.avgpool = nn.AdaptiveAvgPool2d((6, 6))\n",
        "        \n",
        "        self.classifier = nn.Sequential(nn.Dropout(),\n",
        "                                        nn.Linear(256 * 6 * 6, 4096),\n",
        "                                        nn.ReLU(inplace=True),\n",
        "                                        nn.Dropout(),\n",
        "                                        nn.Linear(4096, 4096),\n",
        "                                        nn.ReLU(inplace=True),\n",
        "                                        nn.Linear(4096, num_classes),)\n",
        "    \n",
        "    def forward(self, x):\n",
        "        x = self.features(x)\n",
        "        x = self.avgpool(x)\n",
        "        x = x.view(x.size(0), 256 * 6 * 6)\n",
        "        x = self.classifier(x)\n",
        "        return x\n"
      ],
      "execution_count": null,
      "outputs": []
    },
    {
      "cell_type": "code",
      "metadata": {
        "id": "eBfxr-MN6X27"
      },
      "source": [
        "#instance of the Conv Net\n",
        "\n",
        "# cnn = AlexNet()\n",
        "cnn = model\n",
        "\n",
        "#loss function and optimizer\n",
        "criterion = nn.CrossEntropyLoss();\n",
        "optimizer = torch.optim.Adam(cnn.parameters(), lr=learning_rate);"
      ],
      "execution_count": null,
      "outputs": []
    },
    {
      "cell_type": "code",
      "metadata": {
        "id": "SetKgKwWi2Wf"
      },
      "source": [
        "# Check accuracy on training to see how good our model is\n",
        "def check_accuracy(loader, model, type):\n",
        "    num_correct = 0\n",
        "    num_samples = 0\n",
        "    model.eval()\n",
        "    \n",
        "    with torch.no_grad():\n",
        "        for x, y in loader:\n",
        "            x = x.cuda()\n",
        "            y = y.cuda()\n",
        "            model.cuda()\n",
        "            scores = model(x)\n",
        "            _, predictions = scores.max(1)\n",
        "            num_correct += (predictions == y).sum()\n",
        "            num_samples += predictions.size(0)\n",
        "        print(f\"{type}\")\n",
        "        print(f'Got {num_correct} / {num_samples} with accuracy {float(num_correct)/float(num_samples)*100:.2f}') \n",
        "    \n",
        "    model.train()"
      ],
      "execution_count": null,
      "outputs": []
    },
    {
      "cell_type": "code",
      "metadata": {
        "id": "bLyBInBf9xsO",
        "colab": {
          "base_uri": "https://localhost:8080/"
        },
        "outputId": "b39f76e2-8faf-44b9-f02d-6e1acfd4b712"
      },
      "source": [
        "from torch.autograd import Variable\n",
        "\n",
        "\n",
        "losses = [];\n",
        "for epoch in range(num_epochs):\n",
        "    for i, (images, labels) in enumerate(train_loader):\n",
        "        images, labels = images.cuda(), labels.cuda() #UNCOMMENT when training with googlenet!\n",
        "        images = images.float()\n",
        "        # print(images.shape)\n",
        "        # Forward + Backward + Optimize\n",
        "        optimizer.zero_grad()\n",
        "        outputs = cnn(images)\n",
        "        loss = criterion(outputs, labels)\n",
        "        loss.backward()\n",
        "        optimizer.step()\n",
        "        \n",
        "        losses.append(loss.item());\n",
        "        \n",
        "        \n",
        "        if (i+1) % 10 == 0:\n",
        "            print ('Epoch : %d/%d, Iter : %d/%d,  Loss: %.4f' \n",
        "                   %(epoch+1, num_epochs, i+1, len(dataset)//batch_size, loss.item()))\n",
        "            check_accuracy(train_loader, cnn, 'train')\n",
        "            check_accuracy(test_loader, cnn, 'test')"
      ],
      "execution_count": null,
      "outputs": [
        {
          "output_type": "stream",
          "text": [
            "Epoch : 1/50, Iter : 10/12,  Loss: 2.1132\n",
            "train\n",
            "Got 103 / 125 with accuracy 82.40\n",
            "test\n",
            "Got 16 / 25 with accuracy 64.00\n",
            "Epoch : 2/50, Iter : 10/12,  Loss: 0.4895\n",
            "train\n",
            "Got 99 / 125 with accuracy 79.20\n",
            "test\n",
            "Got 15 / 25 with accuracy 60.00\n",
            "Epoch : 3/50, Iter : 10/12,  Loss: 0.0323\n",
            "train\n",
            "Got 119 / 125 with accuracy 95.20\n",
            "test\n",
            "Got 17 / 25 with accuracy 68.00\n",
            "Epoch : 4/50, Iter : 10/12,  Loss: 0.0053\n",
            "train\n",
            "Got 113 / 125 with accuracy 90.40\n",
            "test\n",
            "Got 12 / 25 with accuracy 48.00\n",
            "Epoch : 5/50, Iter : 10/12,  Loss: 0.2122\n",
            "train\n",
            "Got 120 / 125 with accuracy 96.00\n",
            "test\n",
            "Got 18 / 25 with accuracy 72.00\n",
            "Epoch : 6/50, Iter : 10/12,  Loss: 1.1177\n",
            "train\n",
            "Got 124 / 125 with accuracy 99.20\n",
            "test\n",
            "Got 15 / 25 with accuracy 60.00\n",
            "Epoch : 7/50, Iter : 10/12,  Loss: 0.0706\n",
            "train\n",
            "Got 125 / 125 with accuracy 100.00\n",
            "test\n",
            "Got 19 / 25 with accuracy 76.00\n",
            "Epoch : 8/50, Iter : 10/12,  Loss: 0.1392\n",
            "train\n",
            "Got 125 / 125 with accuracy 100.00\n",
            "test\n",
            "Got 18 / 25 with accuracy 72.00\n",
            "Epoch : 9/50, Iter : 10/12,  Loss: 0.0136\n",
            "train\n",
            "Got 125 / 125 with accuracy 100.00\n",
            "test\n",
            "Got 21 / 25 with accuracy 84.00\n",
            "Epoch : 10/50, Iter : 10/12,  Loss: 0.4223\n",
            "train\n",
            "Got 125 / 125 with accuracy 100.00\n",
            "test\n",
            "Got 20 / 25 with accuracy 80.00\n",
            "Epoch : 11/50, Iter : 10/12,  Loss: 0.0137\n",
            "train\n",
            "Got 125 / 125 with accuracy 100.00\n",
            "test\n",
            "Got 17 / 25 with accuracy 68.00\n",
            "Epoch : 12/50, Iter : 10/12,  Loss: 0.0317\n",
            "train\n",
            "Got 124 / 125 with accuracy 99.20\n",
            "test\n",
            "Got 16 / 25 with accuracy 64.00\n",
            "Epoch : 13/50, Iter : 10/12,  Loss: 0.0173\n",
            "train\n",
            "Got 125 / 125 with accuracy 100.00\n",
            "test\n",
            "Got 15 / 25 with accuracy 60.00\n",
            "Epoch : 14/50, Iter : 10/12,  Loss: 0.0944\n",
            "train\n",
            "Got 118 / 125 with accuracy 94.40\n",
            "test\n",
            "Got 14 / 25 with accuracy 56.00\n",
            "Epoch : 15/50, Iter : 10/12,  Loss: 0.0137\n",
            "train\n",
            "Got 125 / 125 with accuracy 100.00\n",
            "test\n",
            "Got 18 / 25 with accuracy 72.00\n",
            "Epoch : 16/50, Iter : 10/12,  Loss: 0.0046\n",
            "train\n",
            "Got 125 / 125 with accuracy 100.00\n",
            "test\n",
            "Got 18 / 25 with accuracy 72.00\n",
            "Epoch : 17/50, Iter : 10/12,  Loss: 0.0014\n",
            "train\n",
            "Got 124 / 125 with accuracy 99.20\n",
            "test\n",
            "Got 18 / 25 with accuracy 72.00\n",
            "Epoch : 18/50, Iter : 10/12,  Loss: 0.0221\n",
            "train\n",
            "Got 125 / 125 with accuracy 100.00\n",
            "test\n",
            "Got 18 / 25 with accuracy 72.00\n",
            "Epoch : 19/50, Iter : 10/12,  Loss: 0.0170\n",
            "train\n",
            "Got 124 / 125 with accuracy 99.20\n",
            "test\n",
            "Got 15 / 25 with accuracy 60.00\n",
            "Epoch : 20/50, Iter : 10/12,  Loss: 0.0016\n",
            "train\n",
            "Got 125 / 125 with accuracy 100.00\n",
            "test\n",
            "Got 18 / 25 with accuracy 72.00\n",
            "Epoch : 21/50, Iter : 10/12,  Loss: 0.0017\n",
            "train\n",
            "Got 125 / 125 with accuracy 100.00\n",
            "test\n",
            "Got 18 / 25 with accuracy 72.00\n",
            "Epoch : 22/50, Iter : 10/12,  Loss: 0.0112\n",
            "train\n",
            "Got 125 / 125 with accuracy 100.00\n",
            "test\n",
            "Got 16 / 25 with accuracy 64.00\n",
            "Epoch : 23/50, Iter : 10/12,  Loss: 0.0022\n",
            "train\n",
            "Got 125 / 125 with accuracy 100.00\n",
            "test\n",
            "Got 15 / 25 with accuracy 60.00\n",
            "Epoch : 24/50, Iter : 10/12,  Loss: 0.2449\n",
            "train\n",
            "Got 122 / 125 with accuracy 97.60\n",
            "test\n",
            "Got 15 / 25 with accuracy 60.00\n",
            "Epoch : 25/50, Iter : 10/12,  Loss: 0.0041\n",
            "train\n",
            "Got 124 / 125 with accuracy 99.20\n",
            "test\n",
            "Got 15 / 25 with accuracy 60.00\n",
            "Epoch : 26/50, Iter : 10/12,  Loss: 0.0179\n",
            "train\n",
            "Got 125 / 125 with accuracy 100.00\n",
            "test\n",
            "Got 17 / 25 with accuracy 68.00\n",
            "Epoch : 27/50, Iter : 10/12,  Loss: 0.0208\n",
            "train\n",
            "Got 124 / 125 with accuracy 99.20\n",
            "test\n",
            "Got 16 / 25 with accuracy 64.00\n",
            "Epoch : 28/50, Iter : 10/12,  Loss: 0.0402\n",
            "train\n",
            "Got 125 / 125 with accuracy 100.00\n",
            "test\n",
            "Got 16 / 25 with accuracy 64.00\n",
            "Epoch : 29/50, Iter : 10/12,  Loss: 0.0632\n",
            "train\n",
            "Got 124 / 125 with accuracy 99.20\n",
            "test\n",
            "Got 18 / 25 with accuracy 72.00\n",
            "Epoch : 30/50, Iter : 10/12,  Loss: 0.0022\n",
            "train\n",
            "Got 124 / 125 with accuracy 99.20\n",
            "test\n",
            "Got 20 / 25 with accuracy 80.00\n",
            "Epoch : 31/50, Iter : 10/12,  Loss: 0.0087\n",
            "train\n",
            "Got 124 / 125 with accuracy 99.20\n",
            "test\n",
            "Got 19 / 25 with accuracy 76.00\n",
            "Epoch : 32/50, Iter : 10/12,  Loss: 0.0127\n",
            "train\n",
            "Got 124 / 125 with accuracy 99.20\n",
            "test\n",
            "Got 17 / 25 with accuracy 68.00\n",
            "Epoch : 33/50, Iter : 10/12,  Loss: 0.0125\n",
            "train\n",
            "Got 123 / 125 with accuracy 98.40\n",
            "test\n",
            "Got 19 / 25 with accuracy 76.00\n",
            "Epoch : 34/50, Iter : 10/12,  Loss: 0.0021\n",
            "train\n",
            "Got 125 / 125 with accuracy 100.00\n",
            "test\n",
            "Got 15 / 25 with accuracy 60.00\n",
            "Epoch : 35/50, Iter : 10/12,  Loss: 0.0225\n",
            "train\n",
            "Got 125 / 125 with accuracy 100.00\n",
            "test\n",
            "Got 17 / 25 with accuracy 68.00\n",
            "Epoch : 36/50, Iter : 10/12,  Loss: 0.0003\n",
            "train\n",
            "Got 125 / 125 with accuracy 100.00\n",
            "test\n",
            "Got 19 / 25 with accuracy 76.00\n",
            "Epoch : 37/50, Iter : 10/12,  Loss: 0.0034\n",
            "train\n",
            "Got 124 / 125 with accuracy 99.20\n",
            "test\n",
            "Got 18 / 25 with accuracy 72.00\n",
            "Epoch : 38/50, Iter : 10/12,  Loss: 0.0403\n",
            "train\n",
            "Got 125 / 125 with accuracy 100.00\n",
            "test\n",
            "Got 20 / 25 with accuracy 80.00\n",
            "Epoch : 39/50, Iter : 10/12,  Loss: 0.0025\n",
            "train\n",
            "Got 125 / 125 with accuracy 100.00\n",
            "test\n",
            "Got 18 / 25 with accuracy 72.00\n",
            "Epoch : 40/50, Iter : 10/12,  Loss: 0.6115\n",
            "train\n",
            "Got 125 / 125 with accuracy 100.00\n",
            "test\n",
            "Got 19 / 25 with accuracy 76.00\n",
            "Epoch : 41/50, Iter : 10/12,  Loss: 0.0477\n",
            "train\n",
            "Got 124 / 125 with accuracy 99.20\n",
            "test\n",
            "Got 17 / 25 with accuracy 68.00\n",
            "Epoch : 42/50, Iter : 10/12,  Loss: 0.0105\n",
            "train\n",
            "Got 123 / 125 with accuracy 98.40\n",
            "test\n",
            "Got 18 / 25 with accuracy 72.00\n",
            "Epoch : 43/50, Iter : 10/12,  Loss: 0.0010\n",
            "train\n",
            "Got 125 / 125 with accuracy 100.00\n",
            "test\n",
            "Got 16 / 25 with accuracy 64.00\n",
            "Epoch : 44/50, Iter : 10/12,  Loss: 0.0452\n",
            "train\n",
            "Got 125 / 125 with accuracy 100.00\n",
            "test\n",
            "Got 17 / 25 with accuracy 68.00\n",
            "Epoch : 45/50, Iter : 10/12,  Loss: 0.0001\n",
            "train\n",
            "Got 125 / 125 with accuracy 100.00\n",
            "test\n",
            "Got 17 / 25 with accuracy 68.00\n",
            "Epoch : 46/50, Iter : 10/12,  Loss: 0.0045\n",
            "train\n",
            "Got 125 / 125 with accuracy 100.00\n",
            "test\n",
            "Got 16 / 25 with accuracy 64.00\n",
            "Epoch : 47/50, Iter : 10/12,  Loss: 0.0004\n",
            "train\n",
            "Got 125 / 125 with accuracy 100.00\n",
            "test\n",
            "Got 16 / 25 with accuracy 64.00\n",
            "Epoch : 48/50, Iter : 10/12,  Loss: 0.0011\n",
            "train\n",
            "Got 125 / 125 with accuracy 100.00\n",
            "test\n",
            "Got 16 / 25 with accuracy 64.00\n",
            "Epoch : 49/50, Iter : 10/12,  Loss: 0.0016\n",
            "train\n",
            "Got 125 / 125 with accuracy 100.00\n",
            "test\n",
            "Got 15 / 25 with accuracy 60.00\n",
            "Epoch : 50/50, Iter : 10/12,  Loss: 0.0054\n",
            "train\n",
            "Got 125 / 125 with accuracy 100.00\n",
            "test\n",
            "Got 16 / 25 with accuracy 64.00\n"
          ],
          "name": "stdout"
        }
      ]
    },
    {
      "cell_type": "code",
      "metadata": {
        "id": "gqO1sL7B0wCq",
        "colab": {
          "base_uri": "https://localhost:8080/"
        },
        "outputId": "6dcfd9a0-0ad0-4519-e9a4-1918b7222960"
      },
      "source": [
        "# # Now we save the model, so we can play with this after lunch\n",
        "# from google.colab import drive\n",
        "# drive.mount('/content/drive')\n",
        "\n",
        "# # #Saving model to drive\n",
        "# model_save_name = 'googlenet-70e.pt'\n",
        "# path = F\"/content/drive/MyDrive/PhD/models/model_five/googlenet-30e-b10-lr0005.pt\" \n",
        "# torch.save(model.state_dict(), path)"
      ],
      "execution_count": null,
      "outputs": [
        {
          "output_type": "stream",
          "text": [
            "Mounted at /content/drive\n"
          ],
          "name": "stdout"
        }
      ]
    },
    {
      "cell_type": "code",
      "metadata": {
        "id": "aBVFJJnD_k66"
      },
      "source": [
        "# LOAD PREVIOUSLY TRAINED MODEL HERE\n",
        "# path = \"/content/drive/MyDrive/PhD/models/model_five/googlenet-50e-10b.pt\" \n",
        "# model.load_state_dict(torch.load(path))\n",
        "# model.eval()"
      ],
      "execution_count": null,
      "outputs": []
    },
    {
      "cell_type": "code",
      "metadata": {
        "id": "2jh63cM2oyQv",
        "colab": {
          "base_uri": "https://localhost:8080/"
        },
        "outputId": "e4031717-763a-46a3-9541-aec8d29ef2bf"
      },
      "source": [
        "print(\"Checking accuracy on Training Set\")\n",
        "check_accuracy(train_loader, cnn)\n",
        "\n",
        "print(\"Checking accuracy on Test Set\")\n",
        "check_accuracy(test_loader, cnn)"
      ],
      "execution_count": null,
      "outputs": [
        {
          "output_type": "stream",
          "text": [
            "Checking accuracy on Training Set\n",
            "Got 124 / 125 with accuracy 99.20\n",
            "Checking accuracy on Test Set\n",
            "Got 18 / 25 with accuracy 72.00\n"
          ],
          "name": "stdout"
        }
      ]
    },
    {
      "cell_type": "code",
      "metadata": {
        "id": "jNVxmt2T1Nm9",
        "colab": {
          "base_uri": "https://localhost:8080/"
        },
        "outputId": "9984ed1c-fc0a-4c74-a044-99b6b9d7d2d6"
      },
      "source": [
        "# test-the-model\n",
        "with torch.no_grad():\n",
        "    correct = 0\n",
        "    total = 0\n",
        "    for images, labels in train_loader:\n",
        "        images = images.cuda()\n",
        "        labels = labels.cuda()\n",
        "        outputs = cnn(images)\n",
        "        _, predicted = torch.max(outputs.data, 1)\n",
        "        total += labels.size(0)\n",
        "        correct += (predicted == labels).sum().item()\n",
        "          \n",
        "    print('Training Accuracy of the model: {} %'.format(100 * correct / total))\n",
        "\n"
      ],
      "execution_count": null,
      "outputs": [
        {
          "output_type": "stream",
          "text": [
            "Training Accuracy of the model: 96.0 %\n"
          ],
          "name": "stdout"
        }
      ]
    },
    {
      "cell_type": "markdown",
      "metadata": {
        "id": "6QsA0B8uHiMo"
      },
      "source": [
        "From here, these snippets are taken from this colab: https://colab.research.google.com/github/pytorch/tutorials/blob/gh-pages/_downloads/17a7c7cb80916fcdf921097825a0f562/cifar10_tutorial.ipynb#scrollTo=TzrMwxulq03d"
      ]
    },
    {
      "cell_type": "code",
      "metadata": {
        "id": "-t0PSlittSig"
      },
      "source": [
        "import matplotlib.pyplot as plt\n",
        "import numpy as np\n",
        "\n",
        "# see if this works...\n",
        "\n",
        "classes = ('none', 'some', 'loads')\n",
        "\n",
        "dataiter = iter(test_loader)\n",
        "images, labels = dataiter.next()\n",
        "\n",
        "def imshow(img):\n",
        "    img = img / 2 + 0.5     # unnormalize\n",
        "    npimg = img.numpy()\n",
        "    plt.figure(figsize = [20,20])\n",
        "    plt.imshow(np.transpose(npimg, (1, 2, 0)))\n",
        "    plt.show()\n",
        "\n",
        "\n",
        "# print images\n",
        "\n",
        "\n",
        "imshow(torchvision.utils.make_grid(images, nrow=5))\n",
        "print('GroundTruth: ', ' '.join('%5s' % classes[labels[j]] for j in range(10)))\n",
        "\n",
        "print(labels)"
      ],
      "execution_count": null,
      "outputs": []
    },
    {
      "cell_type": "code",
      "metadata": {
        "id": "vRxHPklV1djl",
        "colab": {
          "base_uri": "https://localhost:8080/",
          "height": 232
        },
        "outputId": "57dc10b6-c461-4a7b-f717-73a9581b1ecd"
      },
      "source": [
        "class_correct = list(0. for i in range(3))\n",
        "class_total = list(0. for i in range(3))\n",
        "with torch.no_grad():\n",
        "    for data in test_loader:\n",
        "        images, labels = data\n",
        "        images = images.cuda()\n",
        "        labels = labels.cuda()\n",
        "        outputs = cnn(images)\n",
        "        _, predicted = torch.max(outputs, 1)\n",
        "        c = (predicted == labels).squeeze()\n",
        "        for i in range(4):\n",
        "            label = labels[i]\n",
        "            class_correct[label] += c[i].item()\n",
        "            class_total[label] += 1\n",
        "\n",
        "\n",
        "for i in range(3):\n",
        "    # print(class_total)\n",
        "    print('Accuracy of %5s : %2d %%' % (classes[i], float(100) * class_correct[i] / class_total[i]))"
      ],
      "execution_count": null,
      "outputs": [
        {
          "output_type": "error",
          "ename": "NameError",
          "evalue": "ignored",
          "traceback": [
            "\u001b[0;31m---------------------------------------------------------------------------\u001b[0m",
            "\u001b[0;31mNameError\u001b[0m                                 Traceback (most recent call last)",
            "\u001b[0;32m<ipython-input-1-933ced6fdfd4>\u001b[0m in \u001b[0;36m<module>\u001b[0;34m()\u001b[0m\n\u001b[1;32m      1\u001b[0m \u001b[0mclass_correct\u001b[0m \u001b[0;34m=\u001b[0m \u001b[0mlist\u001b[0m\u001b[0;34m(\u001b[0m\u001b[0;36m0.\u001b[0m \u001b[0;32mfor\u001b[0m \u001b[0mi\u001b[0m \u001b[0;32min\u001b[0m \u001b[0mrange\u001b[0m\u001b[0;34m(\u001b[0m\u001b[0;36m3\u001b[0m\u001b[0;34m)\u001b[0m\u001b[0;34m)\u001b[0m\u001b[0;34m\u001b[0m\u001b[0;34m\u001b[0m\u001b[0m\n\u001b[1;32m      2\u001b[0m \u001b[0mclass_total\u001b[0m \u001b[0;34m=\u001b[0m \u001b[0mlist\u001b[0m\u001b[0;34m(\u001b[0m\u001b[0;36m0.\u001b[0m \u001b[0;32mfor\u001b[0m \u001b[0mi\u001b[0m \u001b[0;32min\u001b[0m \u001b[0mrange\u001b[0m\u001b[0;34m(\u001b[0m\u001b[0;36m3\u001b[0m\u001b[0;34m)\u001b[0m\u001b[0;34m)\u001b[0m\u001b[0;34m\u001b[0m\u001b[0;34m\u001b[0m\u001b[0m\n\u001b[0;32m----> 3\u001b[0;31m \u001b[0;32mwith\u001b[0m \u001b[0mtorch\u001b[0m\u001b[0;34m.\u001b[0m\u001b[0mno_grad\u001b[0m\u001b[0;34m(\u001b[0m\u001b[0;34m)\u001b[0m\u001b[0;34m:\u001b[0m\u001b[0;34m\u001b[0m\u001b[0;34m\u001b[0m\u001b[0m\n\u001b[0m\u001b[1;32m      4\u001b[0m     \u001b[0;32mfor\u001b[0m \u001b[0mdata\u001b[0m \u001b[0;32min\u001b[0m \u001b[0mtest_loader\u001b[0m\u001b[0;34m:\u001b[0m\u001b[0;34m\u001b[0m\u001b[0;34m\u001b[0m\u001b[0m\n\u001b[1;32m      5\u001b[0m         \u001b[0mimages\u001b[0m\u001b[0;34m,\u001b[0m \u001b[0mlabels\u001b[0m \u001b[0;34m=\u001b[0m \u001b[0mdata\u001b[0m\u001b[0;34m\u001b[0m\u001b[0;34m\u001b[0m\u001b[0m\n",
            "\u001b[0;31mNameError\u001b[0m: name 'torch' is not defined"
          ]
        }
      ]
    }
  ]
}